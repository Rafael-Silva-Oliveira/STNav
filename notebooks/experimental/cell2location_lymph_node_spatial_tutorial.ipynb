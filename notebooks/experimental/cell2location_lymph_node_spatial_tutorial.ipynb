{
    "cells": [
        {
            "cell_type": "markdown",
            "metadata": {
                "id": "pix6FPbFFdCE"
            },
            "source": [
                "# Mapping human lymph node cell types to 10X Visium with Cell2location\n",
                "\n",
                "This contributed tutorial shows how to use cell2location method for spatially resolving fine-grained cell types by integrating 10X Visium data with scRNA-seq reference of cell types. Cell2location is a principled Bayesian model that estimates which combination of cell types in which cell abundance could have given the mRNA counts in the spatial data, while modelling technical effects (platform/technology effect, contaminating RNA, unexplained variance)."
            ]
        },
        {
            "attachments": {},
            "cell_type": "markdown",
            "metadata": {
                "id": "lbGaJQDLFdCG"
            },
            "source": [
                "```{Important}\n",
                "Cell2location is accessible via its own package, but is powered by scvi-tools. Please visit https://cell2location.readthedocs.io/en/latest/.\n",
                "```"
            ]
        },
        {
            "cell_type": "markdown",
            "metadata": {
                "id": "1wor0jT1FdCG"
            },
            "source": [
                "In this tutorial, we analyse a publicly available Visium dataset of the human lymph node from 10X Genomics, and spatially map a comprehensive atlas of 34 reference cell types derived by integration of scRNA-seq datasets from human secondary lymphoid organs.\n",
                "\n",
                "- Cell2location provides high sensitivity and resolution by borrowing statistical strength across locations. This is achieved by modelling similarity of location patterns between cell types using a hierarchical factorisation of cell abundance into tissue zones as a prior (see paper methods).\n",
                "\n",
                "- Using our statistical method based on Negative Binomial regression to robustly combine scRNA-seq reference data across technologies and batches results in improved spatial mapping accuracy. Given cell type annotation for each cell, the corresponding reference cell type signatures $g_{f,g}$, which represent the average mRNA count of each gene $g$ in each cell type $f$, can be estimated from sc/snRNA-seq data using either 1) NB regression or 2) a hard-coded computation of per-cluster average mRNA counts for individual genes.  We generally recommend using NB regression. This notebook shows use a dataset composed on multiple batches and technologies.When the batch effects are small, a faster hard-coded method of computing per cluster averages provides similarly high accuracy. We also recommend the hard-coded method for non-UMI technologies such as Smart-Seq 2.\n",
                "\n",
                "- Cell2location needs untransformed unnormalised spatial mRNA counts as input.\n",
                "\n",
                "- You also need to provide cell2location with the expected average cell abundance per location which is used as a prior to guide estimation of absolute cell abundance. This value depends on the tissue and can be estimated by counting nuclei for a few locations in the paired histology image but can be approximate (see [paper methods for more guidance](https://github.com/BayraktarLab/cell2location/blob/master/docs/images/Note_on_selecting_hyperparameters.pdf)).\n",
                "\n",
                "## Workflow diagram\n",
                "\n",
                "![Figure 1.](https://raw.githubusercontent.com/BayraktarLab/cell2location/master/docs/images/FigS1_cell2location_workflow.png)"
            ]
        },
        {
            "cell_type": "markdown",
            "metadata": {
                "id": "G1dDJsp2FdCH"
            },
            "source": [
                "## Loading packages <a class=\"anchor\" id=\"Loading_packages\"></a>"
            ]
        },
        {
            "cell_type": "markdown",
            "metadata": {},
            "source": [
                "```{note}\n",
                "Running the following cell will install tutorial dependencies on Google Colab only. It will have no effect on environments other than Google Colab.\n",
                "```"
            ]
        },
        {
            "cell_type": "code",
            "execution_count": 1,
            "metadata": {},
            "outputs": [
                {
                    "name": "stderr",
                    "output_type": "stream",
                    "text": [
                        "WARNING: Ignoring invalid distribution -andas (c:\\users\\rafaelo\\onedrive - ntnu\\documents\\projects\\venv\\lib\\site-packages)\n",
                        "WARNING: Ignoring invalid distribution -umpy (c:\\users\\rafaelo\\onedrive - ntnu\\documents\\projects\\venv\\lib\\site-packages)\n",
                        "WARNING: Ignoring invalid distribution -andas (c:\\users\\rafaelo\\onedrive - ntnu\\documents\\projects\\venv\\lib\\site-packages)\n",
                        "WARNING: Ignoring invalid distribution -umpy (c:\\users\\rafaelo\\onedrive - ntnu\\documents\\projects\\venv\\lib\\site-packages)\n",
                        "\n",
                        "[notice] A new release of pip is available: 23.3.1 -> 24.0\n",
                        "[notice] To update, run: python.exe -m pip install --upgrade pip\n",
                        "c:\\Users\\rafaelo\\OneDrive - NTNU\\Documents\\Projects\\venv\\lib\\site-packages\\scvi_colab\\_core.py:41: UserWarning: \n",
                        "                Not currently in Google Colab environment.\n",
                        "\n",
                        "                Please run with `run_outside_colab=True` to override.\n",
                        "\n",
                        "                Returning with no further action.\n",
                        "                \n",
                        "  warn(\n"
                    ]
                }
            ],
            "source": [
                "!pip install --quiet scvi-colab\n",
                "from scvi_colab import install\n",
                "\n",
                "install()"
            ]
        },
        {
            "cell_type": "code",
            "execution_count": 1,
            "metadata": {},
            "outputs": [
                {
                    "name": "stderr",
                    "output_type": "stream",
                    "text": [
                        "c:\\Users\\rafaelo\\OneDrive - NTNU\\Documents\\Projects\\venv\\lib\\site-packages\\scvi\\_settings.py:63: UserWarning: Since v1.0.0, scvi-tools no longer uses a random seed by default. Run `scvi.settings.seed = 0` to reproduce results from previous versions.\n",
                        "  self.seed = seed\n",
                        "c:\\Users\\rafaelo\\OneDrive - NTNU\\Documents\\Projects\\venv\\lib\\site-packages\\scvi\\_settings.py:70: UserWarning: Setting `dl_pin_memory_gpu_training` is deprecated in v1.0 and will be removed in v1.1. Please pass in `pin_memory` to the data loaders instead.\n",
                        "  self.dl_pin_memory_gpu_training = (\n"
                    ]
                }
            ],
            "source": [
                "import tempfile\n",
                "\n",
                "import matplotlib as mpl\n",
                "import matplotlib.pyplot as plt\n",
                "import numpy as np\n",
                "import scanpy as sc\n",
                "import scvi\n",
                "import seaborn as sns\n",
                "import torch\n",
                "from cell2location.models import Cell2location, RegressionModel\n",
                "from cell2location.plt import plot_spatial\n",
                "from cell2location.utils import select_slide\n",
                "from cell2location.utils.filtering import filter_genes"
            ]
        },
        {
            "cell_type": "code",
            "execution_count": 2,
            "metadata": {},
            "outputs": [
                {
                    "name": "stderr",
                    "output_type": "stream",
                    "text": [
                        "Global seed set to 0\n"
                    ]
                },
                {
                    "name": "stdout",
                    "output_type": "stream",
                    "text": [
                        "Last run with scvi-tools version: 1.0.4\n"
                    ]
                }
            ],
            "source": [
                "scvi.settings.seed = 0\n",
                "print(\"Last run with scvi-tools version:\", scvi.__version__)"
            ]
        },
        {
            "cell_type": "markdown",
            "metadata": {},
            "source": [
                "```{note}\n",
                "You can modify `save_dir` below to change where the data files for this tutorial are saved.\n",
                "```"
            ]
        },
        {
            "cell_type": "code",
            "execution_count": 3,
            "metadata": {
                "id": "rg3aG366FdCI"
            },
            "outputs": [],
            "source": [
                "sc.set_figure_params(figsize=(6, 6), frameon=False)\n",
                "sns.set_theme()\n",
                "torch.set_float32_matmul_precision(\"high\")\n",
                "save_dir = tempfile.TemporaryDirectory()\n",
                "\n",
                "%config InlineBackend.print_figure_kwargs={\"facecolor\": \"w\"}\n",
                "%config InlineBackend.figure_format=\"retina\""
            ]
        },
        {
            "cell_type": "markdown",
            "metadata": {
                "id": "eCTxuFQMFdCI"
            },
            "source": [
                "First, let's define where we save the results of our analysis:"
            ]
        },
        {
            "cell_type": "code",
            "execution_count": 4,
            "metadata": {
                "id": "ZRH2ap2RFdCJ"
            },
            "outputs": [],
            "source": [
                "results_folder = r\"C:\\Users\\rafaelo\\OneDrive - NTNU\\Documents\\Projects\\STNav\\notebooks\\experimental\\cell2location\"\n",
                "\n",
                "# create paths and names to results folders for reference regression and cell2location models\n",
                "ref_run_name = f\"{results_folder}/reference_signatures\"\n",
                "run_name = f\"{results_folder}/cell2location_map\""
            ]
        },
        {
            "cell_type": "markdown",
            "metadata": {
                "id": "MTflltxpFdCJ"
            },
            "source": [
                "## Loading Visium and scRNA-seq reference data <a class=\"anchor\" id=\"Loading_Visium\"></a>"
            ]
        },
        {
            "cell_type": "markdown",
            "metadata": {
                "id": "qfE3ealNFdCJ"
            },
            "source": [
                "First let's read spatial Visium data from 10X Space Ranger output. Here we use lymph node data generated by 10X and presented in [Kleshchevnikov et al (section 4, Fig 4)](https://www.biorxiv.org/content/10.1101/2020.11.15.378125v1). This dataset can be conveniently downloaded and imported using scanpy. See [this tutorial](https://cell2location.readthedocs.io/en/latest/notebooks/cell2location_short_demo.html) for a more extensive and practical example of data loading (multiple visium samples)."
            ]
        },
        {
            "cell_type": "code",
            "execution_count": 5,
            "metadata": {
                "colab": {
                    "base_uri": "https://localhost:8080/",
                    "height": 117,
                    "referenced_widgets": [
                        "9fda862299f342e3bdc8a312d2dd7615",
                        "f487573f4fad47f5a1048c41306b9a92",
                        "2e776a24bf28498a9f10ca91da0fc866",
                        "a836b4d0253d42a1ab56a1344f971924",
                        "8063acc8e3e845edaedb908f5b8fae7c",
                        "596e11172e1c487791e6cca30ae71be7",
                        "ded5e94b6af64809af5eda91f294dfd0",
                        "ba249b8ffd744a198e14957d12c7d830",
                        "0d5eab07d0094da5b8aa46f2591d6c1f",
                        "3b3d95ebaac749609dafec6053c11669",
                        "67c43fa66ae547ec8ca17d43864f3008",
                        "d3a428d020494069a89f3098331561da",
                        "27af6592eae24b31ad8e8151dea2a82c",
                        "7f01a258c71b4ece8cebc3726111bc00",
                        "dee2ee6efef24a6a98125bfa0b2356d6",
                        "2b685f6d882142719331b8b226d18689",
                        "71e214ace0cb4cf2a46ab69a18e8ed66",
                        "f150164587ca4ad39c839816c96e3382",
                        "65ba2660fc624fb3b58f2e2c4bea295b",
                        "a602d26d9ddc4ba4b9c7186bf636d895",
                        "ac5642ba40e0466ea9d2e8f46c4056fd",
                        "e5f9c5b011c34297ac87115686034d33"
                    ]
                },
                "id": "s1P4DcsjFdCJ",
                "outputId": "d0c26bc7-aab9-4c51-dd1d-7fab9a167288"
            },
            "outputs": [
                {
                    "name": "stderr",
                    "output_type": "stream",
                    "text": [
                        "c:\\Users\\rafaelo\\OneDrive - NTNU\\Documents\\Projects\\venv\\lib\\site-packages\\anndata\\_core\\anndata.py:1899: UserWarning: Variable names are not unique. To make them unique, call `.var_names_make_unique`.\n",
                        "  utils.warn_names_duplicates(\"var\")\n"
                    ]
                }
            ],
            "source": [
                "adata_vis = sc.read_h5ad(r\"C:\\Users\\rafaelo\\OneDrive - NTNU\\Documents\\Projects\\STNav\\data\\processed\\PipelineRun_Checkpoint\\ST\\Files\\raw_adata.h5ad\")\n",
                "adata_vis.obs[\"sample\"] = list(adata_vis.uns[\"spatial\"].keys())[0]"
            ]
        },
        {
            "cell_type": "markdown",
            "metadata": {
                "id": "pLomewP6FdCK"
            },
            "source": [
                "<div class=\"alert alert-info\">\n",
                "Note\n",
                "Here we rename genes to ENSEMBL ID for correct matching between single cell and spatial data.\n",
                "</div>"
            ]
        },
        {
            "cell_type": "markdown",
            "metadata": {
                "id": "Rld6xiDhFdCK"
            },
            "source": [
                "You can still plot gene expression by name using standard scanpy functions as follows: \n",
                "```python\n",
                "sc.pl.spatial(color=\"PTPRC\", gene_symbols=\"SYMBOL\", ...)\n",
                "```"
            ]
        },
        {
            "cell_type": "code",
            "execution_count": 6,
            "metadata": {
                "id": "DLqTSvTwFdCK"
            },
            "outputs": [],
            "source": [
                "adata_vis.var[\"SYMBOL\"] = adata_vis.var_names\n",
                "adata_vis.var.set_index(\"gene_ids\", drop=True, inplace=True)"
            ]
        },
        {
            "attachments": {},
            "cell_type": "markdown",
            "metadata": {
                "id": "9szs7gIHFdCK"
            },
            "source": [
                "```{note}\n",
                "Mitochondia-encoded genes (gene names start with prefix mt- or MT-) are irrelevant for spatial mapping because their expression represents technical artifacts in the single cell and nucleus data rather than biological abundance of mitochondria. Yet these genes compose 15-40% of mRNA in each location. Hence, to avoid mapping artifacts we strongly recommend removing mitochondrial genes.\n",
                "```"
            ]
        },
        {
            "cell_type": "code",
            "execution_count": 7,
            "metadata": {
                "id": "ibSZRwtjFdCK"
            },
            "outputs": [],
            "source": [
                "# find mitochondria-encoded (MT) genes\n",
                "adata_vis.var[\"MT_gene\"] = [gene.startswith(\"MT-\") for gene in adata_vis.var[\"SYMBOL\"]]\n",
                "\n",
                "# remove MT genes for spatial mapping (keeping their counts in the object)\n",
                "adata_vis.obsm[\"MT\"] = adata_vis[:, adata_vis.var[\"MT_gene\"].values].X.toarray()\n",
                "adata_vis = adata_vis[:, ~adata_vis.var[\"MT_gene\"].values]"
            ]
        },
        {
            "cell_type": "markdown",
            "metadata": {
                "id": "aXvwppObFdCK"
            },
            "source": [
                "Published scRNA-seq datasets of lymph nodes have typically lacked an adequate representation of germinal centre-associated immune cell populations due to age of patient donors. We, therefore, include scRNA-seq datasets spanning lymph nodes, spleen and tonsils in our single-cell reference to ensure that we captured the full diversity of immune cell states likely to exist in the spatial transcriptomic dataset.\n",
                "\n",
                "Here we download this dataset, import into anndata and change variable names to ENSEMBL gene identifiers."
            ]
        },
        {
            "cell_type": "code",
            "execution_count": 8,
            "metadata": {
                "colab": {
                    "base_uri": "https://localhost:8080/",
                    "height": 49,
                    "referenced_widgets": [
                        "e59c6f3ff3084ea1af7c98fc1ca36667",
                        "739b1ba95abd480c923d56dfdf3d8184",
                        "13cab460ef8b471cbae1a6cb2240e619",
                        "dc787088710740a6a947e029de984879",
                        "0bb6b8cd1da14e05be74e9b19322658b",
                        "259c6926017542d2b9172ce89d497f14",
                        "6ddf94087ac548d0999be2520b97beed",
                        "effa314248b3455e84694cc69680efa7",
                        "2df39ad6d9a142a29b16d71a106efbe4",
                        "889188052d73445c8eed5cf7a11bab11",
                        "5a56037c5dac4be0bb68ad4c2bb3e9e1"
                    ]
                },
                "id": "dW0qg-YZFdCK",
                "outputId": "ddd93f84-cf10-46c7-cde8-691b9c34585e"
            },
            "outputs": [
                {
                    "name": "stderr",
                    "output_type": "stream",
                    "text": [
                        "c:\\Users\\rafaelo\\OneDrive - NTNU\\Documents\\Projects\\venv\\lib\\site-packages\\anndata\\__init__.py:51: FutureWarning: `anndata.read` is deprecated, use `anndata.read_h5ad` instead. `ad.read` will be removed in mid 2024.\n",
                        "  warnings.warn(\n",
                        "c:\\Users\\rafaelo\\OneDrive - NTNU\\Documents\\Projects\\venv\\lib\\site-packages\\anndata\\_core\\anndata.py:1899: UserWarning: Variable names are not unique. To make them unique, call `.var_names_make_unique`.\n",
                        "  utils.warn_names_duplicates(\"var\")\n"
                    ]
                }
            ],
            "source": [
                "# Read data\n",
                "adata_ref = sc.read(\n",
                "    r\"C:\\Users\\rafaelo\\OneDrive - NTNU\\Documents\\Projects\\STNav\\data\\processed\\PipelineRun_Checkpoint\\scRNA\\Files\\raw_adata.h5ad\",\n",
                "\n",
                ")"
            ]
        },
        {
            "attachments": {},
            "cell_type": "markdown",
            "metadata": {
                "id": "83ziQDFXFdCK"
            },
            "source": [
                "```{warning}\n",
                "Here we rename genes to ENSEMBL ID for correct matching between single cell and spatial data.\n",
                "```"
            ]
        },
        {
            "cell_type": "code",
            "execution_count": 9,
            "metadata": {},
            "outputs": [
                {
                    "data": {
                        "text/plain": [
                            "AnnData object with n_obs × n_vars = 1786 × 33567\n",
                            "    obs: 'dataset', 'ann_level_1_transferred_label_unfiltered', 'ann_level_2_transferred_label_unfiltered', 'ann_level_3_transferred_label_unfiltered', 'ann_level_4_transferred_label_unfiltered', 'ann_level_5_transferred_label_unfiltered', 'ann_level_1_transfer_uncert', 'ann_level_2_transfer_uncert', 'ann_level_3_transfer_uncert', 'ann_level_4_transfer_uncert', 'ann_level_5_transfer_uncert', 'ann_level_1_transferred_label', 'ann_level_2_transferred_label', 'ann_level_3_transferred_label', 'ann_level_4_transferred_label', 'ann_level_5_transferred_label'\n",
                            "    var: 'gene_ids', 'feature_types', 'genome', 'gene_names'\n",
                            "    obsm: 'X_scarches_emb'"
                        ]
                    },
                    "execution_count": 9,
                    "metadata": {},
                    "output_type": "execute_result"
                }
            ],
            "source": [
                "adata_ref"
            ]
        },
        {
            "cell_type": "code",
            "execution_count": 10,
            "metadata": {
                "id": "JX9mK5E_FdCK"
            },
            "outputs": [],
            "source": [
                "adata_ref.var[\"SYMBOL\"] = adata_ref.var.index\n",
                "adata_ref.var.set_index(\"gene_ids\", drop=True, inplace=True)\n",
                "\n",
                "# delete unnecessary raw slot (to be removed in a future version of the tutorial)\n",
                "del adata_ref.raw"
            ]
        },
        {
            "attachments": {},
            "cell_type": "markdown",
            "metadata": {
                "id": "Lq3a9SE-FdCL"
            },
            "source": [
                "```{note}\n",
                "Before we estimate the reference cell type signature we recommend to perform very permissive genes selection. We prefer this to standard highly-variable-gene selection because our procedure keeps markers of rare genes while removing most of the uninformative genes.\n",
                "```"
            ]
        },
        {
            "cell_type": "markdown",
            "metadata": {
                "id": "yZ4CVq1RFdCL"
            },
            "source": [
                "In this 2D histogram, orange rectangle highlights genes excluded based on the combination of number of cells expressing that gene (Y-axis) and average RNA count for cells where the gene was detected (X-axis).\n",
                "\n",
                "In this case, the downloaded dataset was already filtered using this method, hence no density under the orange rectangle (to be changed in the future version of the tutorial)."
            ]
        },
        {
            "cell_type": "code",
            "execution_count": 11,
            "metadata": {
                "colab": {
                    "base_uri": "https://localhost:8080/",
                    "height": 294
                },
                "id": "PsFKoNJoFdCL",
                "outputId": "bebca813-747c-4745-d3f8-24dce2e64b51"
            },
            "outputs": [
                {
                    "name": "stderr",
                    "output_type": "stream",
                    "text": [
                        "c:\\Users\\rafaelo\\OneDrive - NTNU\\Documents\\Projects\\venv\\lib\\site-packages\\pandas\\core\\arraylike.py:399: RuntimeWarning: divide by zero encountered in log10\n",
                        "  result = getattr(ufunc, method)(*inputs, **kwargs)\n"
                    ]
                },
                {
                    "data": {
                        "image/png": "[encoded data removed]",
                        "text/plain": [
                            "<Figure size 480x480 with 1 Axes>"
                        ]
                    },
                    "metadata": {
                        "image/png": {
                            "height": 435,
                            "width": 443
                        }
                    },
                    "output_type": "display_data"
                }
            ],
            "source": [
                "selected = filter_genes(\n",
                "    adata_ref, cell_count_cutoff=5, cell_percentage_cutoff2=0.03, nonz_mean_cutoff=1.12\n",
                ")\n",
                "\n",
                "# filter the object\n",
                "adata_ref = adata_ref[:, selected].copy()"
            ]
        },
        {
            "cell_type": "markdown",
            "metadata": {
                "id": "EOdyrsj-FdCL"
            },
            "source": [
                "## Estimation of reference cell type signatures (NB regression) <a class=\"anchor\" id=\"Estimating_signatures\"></a>\n",
                "\n",
                "The signatures are estimated from scRNA-seq data, accounting for batch effect, using a Negative Binomial regression model.\n",
                "\n",
                "<div class=\"alert alert-block alert-message\">\n",
                "<b>Preparing anndata.</b>\n",
                "First, prepare anndata object for the regression model:\n",
                "</div>"
            ]
        },
        {
            "cell_type": "markdown",
            "metadata": {
                "id": "LTG2KKnzFdCL"
            },
            "source": [
                "<div class=\"alert alert-block alert-message\">\n",
                "<b>Training model.</b>\n",
                "Then we train the model to estimate reference cell type signatures:\n",
                "</div>"
            ]
        },
        {
            "cell_type": "code",
            "execution_count": 12,
            "metadata": {},
            "outputs": [
                {
                    "data": {
                        "text/plain": [
                            "AnnData object with n_obs × n_vars = 1786 × 9448\n",
                            "    obs: 'dataset', 'ann_level_1_transferred_label_unfiltered', 'ann_level_2_transferred_label_unfiltered', 'ann_level_3_transferred_label_unfiltered', 'ann_level_4_transferred_label_unfiltered', 'ann_level_5_transferred_label_unfiltered', 'ann_level_1_transfer_uncert', 'ann_level_2_transfer_uncert', 'ann_level_3_transfer_uncert', 'ann_level_4_transfer_uncert', 'ann_level_5_transfer_uncert', 'ann_level_1_transferred_label', 'ann_level_2_transferred_label', 'ann_level_3_transferred_label', 'ann_level_4_transferred_label', 'ann_level_5_transferred_label'\n",
                            "    var: 'feature_types', 'genome', 'gene_names', 'SYMBOL', 'n_cells', 'nonz_mean'\n",
                            "    obsm: 'X_scarches_emb'"
                        ]
                    },
                    "execution_count": 12,
                    "metadata": {},
                    "output_type": "execute_result"
                }
            ],
            "source": [
                "adata_ref"
            ]
        },
        {
            "cell_type": "code",
            "execution_count": 13,
            "metadata": {
                "colab": {
                    "base_uri": "https://localhost:8080/",
                    "height": 1000
                },
                "id": "pCcP6ImTFdCL",
                "outputId": "034e2050-c3d2-43f8-daef-9d63d2e0ff38"
            },
            "outputs": [
                {
                    "name": "stderr",
                    "output_type": "stream",
                    "text": [
                        "C:\\Users\\rafaelo\\AppData\\Local\\Programs\\Python\\Python310\\lib\\abc.py:119: FutureWarning: SparseDataset is deprecated and will be removed in late 2024. It has been replaced by the public classes CSRDataset and CSCDataset.\n",
                        "\n",
                        "For instance checks, use `isinstance(X, (anndata.experimental.CSRDataset, anndata.experimental.CSCDataset))` instead.\n",
                        "\n",
                        "For creation, use `anndata.experimental.sparse_dataset(X)` instead.\n",
                        "\n",
                        "  return _abc_instancecheck(cls, instance)\n",
                        "c:\\Users\\rafaelo\\OneDrive - NTNU\\Documents\\Projects\\venv\\lib\\site-packages\\scvi\\data\\fields\\_dataframe_field.py:189: UserWarning: Category 13 in adata.obs['_scvi_labels'] has fewer than 3 cells. Models may not train properly.\n",
                        "  categorical_mapping = _make_column_categorical(\n"
                    ]
                },
                {
                    "data": {
                        "text/html": [
                            "<pre style=\"white-space:pre;overflow-x:auto;line-height:normal;font-family:Menlo,'DejaVu Sans Mono',consolas,'Courier New',monospace\">Anndata setup with scvi-tools version <span style=\"color: #008080; text-decoration-color: #008080; font-weight: bold\">1.0</span>.<span style=\"color: #008080; text-decoration-color: #008080; font-weight: bold\">4</span>.\n",
                            "</pre>\n"
                        ],
                        "text/plain": [
                            "Anndata setup with scvi-tools version \u001b[1;36m1.0\u001b[0m.\u001b[1;36m4\u001b[0m.\n"
                        ]
                    },
                    "metadata": {},
                    "output_type": "display_data"
                },
                {
                    "data": {
                        "text/html": [
                            "<pre style=\"white-space:pre;overflow-x:auto;line-height:normal;font-family:Menlo,'DejaVu Sans Mono',consolas,'Courier New',monospace\">\n",
                            "</pre>\n"
                        ],
                        "text/plain": [
                            "\n"
                        ]
                    },
                    "metadata": {},
                    "output_type": "display_data"
                },
                {
                    "data": {
                        "text/html": [
                            "<pre style=\"white-space:pre;overflow-x:auto;line-height:normal;font-family:Menlo,'DejaVu Sans Mono',consolas,'Courier New',monospace\">Setup via `RegressionModel.setup_anndata` with arguments:\n",
                            "</pre>\n"
                        ],
                        "text/plain": [
                            "Setup via `RegressionModel.setup_anndata` with arguments:\n"
                        ]
                    },
                    "metadata": {},
                    "output_type": "display_data"
                },
                {
                    "data": {
                        "text/html": [
                            "<pre style=\"white-space:pre;overflow-x:auto;line-height:normal;font-family:Menlo,'DejaVu Sans Mono',consolas,'Courier New',monospace\"><span style=\"font-weight: bold\">{</span>\n",
                            "<span style=\"color: #7fbf7f; text-decoration-color: #7fbf7f\">│   </span><span style=\"color: #008000; text-decoration-color: #008000\">'layer'</span>: <span style=\"color: #800080; text-decoration-color: #800080; font-style: italic\">None</span>,\n",
                            "<span style=\"color: #7fbf7f; text-decoration-color: #7fbf7f\">│   </span><span style=\"color: #008000; text-decoration-color: #008000\">'batch_key'</span>: <span style=\"color: #008000; text-decoration-color: #008000\">'dataset'</span>,\n",
                            "<span style=\"color: #7fbf7f; text-decoration-color: #7fbf7f\">│   </span><span style=\"color: #008000; text-decoration-color: #008000\">'labels_key'</span>: <span style=\"color: #008000; text-decoration-color: #008000\">'ann_level_3_transferred_label'</span>,\n",
                            "<span style=\"color: #7fbf7f; text-decoration-color: #7fbf7f\">│   </span><span style=\"color: #008000; text-decoration-color: #008000\">'categorical_covariate_keys'</span>: <span style=\"color: #800080; text-decoration-color: #800080; font-style: italic\">None</span>,\n",
                            "<span style=\"color: #7fbf7f; text-decoration-color: #7fbf7f\">│   </span><span style=\"color: #008000; text-decoration-color: #008000\">'continuous_covariate_keys'</span>: <span style=\"color: #800080; text-decoration-color: #800080; font-style: italic\">None</span>\n",
                            "<span style=\"font-weight: bold\">}</span>\n",
                            "</pre>\n"
                        ],
                        "text/plain": [
                            "\u001b[1m{\u001b[0m\n",
                            "\u001b[2;32m│   \u001b[0m\u001b[32m'layer'\u001b[0m: \u001b[3;35mNone\u001b[0m,\n",
                            "\u001b[2;32m│   \u001b[0m\u001b[32m'batch_key'\u001b[0m: \u001b[32m'dataset'\u001b[0m,\n",
                            "\u001b[2;32m│   \u001b[0m\u001b[32m'labels_key'\u001b[0m: \u001b[32m'ann_level_3_transferred_label'\u001b[0m,\n",
                            "\u001b[2;32m│   \u001b[0m\u001b[32m'categorical_covariate_keys'\u001b[0m: \u001b[3;35mNone\u001b[0m,\n",
                            "\u001b[2;32m│   \u001b[0m\u001b[32m'continuous_covariate_keys'\u001b[0m: \u001b[3;35mNone\u001b[0m\n",
                            "\u001b[1m}\u001b[0m\n"
                        ]
                    },
                    "metadata": {},
                    "output_type": "display_data"
                },
                {
                    "data": {
                        "text/html": [
                            "<pre style=\"white-space:pre;overflow-x:auto;line-height:normal;font-family:Menlo,'DejaVu Sans Mono',consolas,'Courier New',monospace\">\n",
                            "</pre>\n"
                        ],
                        "text/plain": [
                            "\n"
                        ]
                    },
                    "metadata": {},
                    "output_type": "display_data"
                },
                {
                    "data": {
                        "text/html": [
                            "<pre style=\"white-space:pre;overflow-x:auto;line-height:normal;font-family:Menlo,'DejaVu Sans Mono',consolas,'Courier New',monospace\"><span style=\"font-style: italic\">         Summary Statistics         </span>\n",
                            "┏━━━━━━━━━━━━━━━━━━━━━━━━━━┳━━━━━━━┓\n",
                            "┃<span style=\"font-weight: bold\">     Summary Stat Key     </span>┃<span style=\"font-weight: bold\"> Value </span>┃\n",
                            "┡━━━━━━━━━━━━━━━━━━━━━━━━━━╇━━━━━━━┩\n",
                            "│<span style=\"color: #0087ff; text-decoration-color: #0087ff\">         n_batch          </span>│<span style=\"color: #af00d7; text-decoration-color: #af00d7\">   1   </span>│\n",
                            "│<span style=\"color: #0087ff; text-decoration-color: #0087ff\">         n_cells          </span>│<span style=\"color: #af00d7; text-decoration-color: #af00d7\"> 1786  </span>│\n",
                            "│<span style=\"color: #0087ff; text-decoration-color: #0087ff\"> n_extra_categorical_covs </span>│<span style=\"color: #af00d7; text-decoration-color: #af00d7\">   0   </span>│\n",
                            "│<span style=\"color: #0087ff; text-decoration-color: #0087ff\"> n_extra_continuous_covs  </span>│<span style=\"color: #af00d7; text-decoration-color: #af00d7\">   0   </span>│\n",
                            "│<span style=\"color: #0087ff; text-decoration-color: #0087ff\">         n_labels         </span>│<span style=\"color: #af00d7; text-decoration-color: #af00d7\">  16   </span>│\n",
                            "│<span style=\"color: #0087ff; text-decoration-color: #0087ff\">          n_vars          </span>│<span style=\"color: #af00d7; text-decoration-color: #af00d7\"> 9448  </span>│\n",
                            "└──────────────────────────┴───────┘\n",
                            "</pre>\n"
                        ],
                        "text/plain": [
                            "\u001b[3m         Summary Statistics         \u001b[0m\n",
                            "┏━━━━━━━━━━━━━━━━━━━━━━━━━━┳━━━━━━━┓\n",
                            "┃\u001b[1m \u001b[0m\u001b[1m    Summary Stat Key    \u001b[0m\u001b[1m \u001b[0m┃\u001b[1m \u001b[0m\u001b[1mValue\u001b[0m\u001b[1m \u001b[0m┃\n",
                            "┡━━━━━━━━━━━━━━━━━━━━━━━━━━╇━━━━━━━┩\n",
                            "│\u001b[38;5;33m \u001b[0m\u001b[38;5;33m        n_batch         \u001b[0m\u001b[38;5;33m \u001b[0m│\u001b[38;5;128m \u001b[0m\u001b[38;5;128m  1  \u001b[0m\u001b[38;5;128m \u001b[0m│\n",
                            "│\u001b[38;5;33m \u001b[0m\u001b[38;5;33m        n_cells         \u001b[0m\u001b[38;5;33m \u001b[0m│\u001b[38;5;128m \u001b[0m\u001b[38;5;128m1786 \u001b[0m\u001b[38;5;128m \u001b[0m│\n",
                            "│\u001b[38;5;33m \u001b[0m\u001b[38;5;33mn_extra_categorical_covs\u001b[0m\u001b[38;5;33m \u001b[0m│\u001b[38;5;128m \u001b[0m\u001b[38;5;128m  0  \u001b[0m\u001b[38;5;128m \u001b[0m│\n",
                            "│\u001b[38;5;33m \u001b[0m\u001b[38;5;33mn_extra_continuous_covs \u001b[0m\u001b[38;5;33m \u001b[0m│\u001b[38;5;128m \u001b[0m\u001b[38;5;128m  0  \u001b[0m\u001b[38;5;128m \u001b[0m│\n",
                            "│\u001b[38;5;33m \u001b[0m\u001b[38;5;33m        n_labels        \u001b[0m\u001b[38;5;33m \u001b[0m│\u001b[38;5;128m \u001b[0m\u001b[38;5;128m 16  \u001b[0m\u001b[38;5;128m \u001b[0m│\n",
                            "│\u001b[38;5;33m \u001b[0m\u001b[38;5;33m         n_vars         \u001b[0m\u001b[38;5;33m \u001b[0m│\u001b[38;5;128m \u001b[0m\u001b[38;5;128m9448 \u001b[0m\u001b[38;5;128m \u001b[0m│\n",
                            "└──────────────────────────┴───────┘\n"
                        ]
                    },
                    "metadata": {},
                    "output_type": "display_data"
                },
                {
                    "data": {
                        "text/html": [
                            "<pre style=\"white-space:pre;overflow-x:auto;line-height:normal;font-family:Menlo,'DejaVu Sans Mono',consolas,'Courier New',monospace\"><span style=\"font-style: italic\">               Data Registry                </span>\n",
                            "┏━━━━━━━━━━━━━━┳━━━━━━━━━━━━━━━━━━━━━━━━━━━┓\n",
                            "┃<span style=\"font-weight: bold\"> Registry Key </span>┃<span style=\"font-weight: bold\">    scvi-tools Location    </span>┃\n",
                            "┡━━━━━━━━━━━━━━╇━━━━━━━━━━━━━━━━━━━━━━━━━━━┩\n",
                            "│<span style=\"color: #0087ff; text-decoration-color: #0087ff\">      X       </span>│<span style=\"color: #af00d7; text-decoration-color: #af00d7\">          adata.X          </span>│\n",
                            "│<span style=\"color: #0087ff; text-decoration-color: #0087ff\">    batch     </span>│<span style=\"color: #af00d7; text-decoration-color: #af00d7\"> adata.obs['_scvi_batch']  </span>│\n",
                            "│<span style=\"color: #0087ff; text-decoration-color: #0087ff\">    ind_x     </span>│<span style=\"color: #af00d7; text-decoration-color: #af00d7\">   adata.obs['_indices']   </span>│\n",
                            "│<span style=\"color: #0087ff; text-decoration-color: #0087ff\">    labels    </span>│<span style=\"color: #af00d7; text-decoration-color: #af00d7\"> adata.obs['_scvi_labels'] </span>│\n",
                            "└──────────────┴───────────────────────────┘\n",
                            "</pre>\n"
                        ],
                        "text/plain": [
                            "\u001b[3m               Data Registry                \u001b[0m\n",
                            "┏━━━━━━━━━━━━━━┳━━━━━━━━━━━━━━━━━━━━━━━━━━━┓\n",
                            "┃\u001b[1m \u001b[0m\u001b[1mRegistry Key\u001b[0m\u001b[1m \u001b[0m┃\u001b[1m \u001b[0m\u001b[1m   scvi-tools Location   \u001b[0m\u001b[1m \u001b[0m┃\n",
                            "┡━━━━━━━━━━━━━━╇━━━━━━━━━━━━━━━━━━━━━━━━━━━┩\n",
                            "│\u001b[38;5;33m \u001b[0m\u001b[38;5;33m     X      \u001b[0m\u001b[38;5;33m \u001b[0m│\u001b[38;5;128m \u001b[0m\u001b[38;5;128m         adata.X         \u001b[0m\u001b[38;5;128m \u001b[0m│\n",
                            "│\u001b[38;5;33m \u001b[0m\u001b[38;5;33m   batch    \u001b[0m\u001b[38;5;33m \u001b[0m│\u001b[38;5;128m \u001b[0m\u001b[38;5;128madata.obs['_scvi_batch'] \u001b[0m\u001b[38;5;128m \u001b[0m│\n",
                            "│\u001b[38;5;33m \u001b[0m\u001b[38;5;33m   ind_x    \u001b[0m\u001b[38;5;33m \u001b[0m│\u001b[38;5;128m \u001b[0m\u001b[38;5;128m  adata.obs['_indices']  \u001b[0m\u001b[38;5;128m \u001b[0m│\n",
                            "│\u001b[38;5;33m \u001b[0m\u001b[38;5;33m   labels   \u001b[0m\u001b[38;5;33m \u001b[0m│\u001b[38;5;128m \u001b[0m\u001b[38;5;128madata.obs['_scvi_labels']\u001b[0m\u001b[38;5;128m \u001b[0m│\n",
                            "└──────────────┴───────────────────────────┘\n"
                        ]
                    },
                    "metadata": {},
                    "output_type": "display_data"
                },
                {
                    "data": {
                        "text/html": [
                            "<pre style=\"white-space:pre;overflow-x:auto;line-height:normal;font-family:Menlo,'DejaVu Sans Mono',consolas,'Courier New',monospace\"><span style=\"font-style: italic\">                           batch State Registry                            </span>\n",
                            "┏━━━━━━━━━━━━━━━━━━━━━━┳━━━━━━━━━━━━━━━━━━━━━━━━━━━━┳━━━━━━━━━━━━━━━━━━━━━┓\n",
                            "┃<span style=\"font-weight: bold\">   Source Location    </span>┃<span style=\"font-weight: bold\">         Categories         </span>┃<span style=\"font-weight: bold\"> scvi-tools Encoding </span>┃\n",
                            "┡━━━━━━━━━━━━━━━━━━━━━━╇━━━━━━━━━━━━━━━━━━━━━━━━━━━━╇━━━━━━━━━━━━━━━━━━━━━┩\n",
                            "│<span style=\"color: #0087ff; text-decoration-color: #0087ff\"> adata.obs['dataset'] </span>│<span style=\"color: #008000; text-decoration-color: #008000\"> test_dataset_delorey_regev </span>│<span style=\"color: #af00d7; text-decoration-color: #af00d7\">          0          </span>│\n",
                            "└──────────────────────┴────────────────────────────┴─────────────────────┘\n",
                            "</pre>\n"
                        ],
                        "text/plain": [
                            "\u001b[3m                           batch State Registry                            \u001b[0m\n",
                            "┏━━━━━━━━━━━━━━━━━━━━━━┳━━━━━━━━━━━━━━━━━━━━━━━━━━━━┳━━━━━━━━━━━━━━━━━━━━━┓\n",
                            "┃\u001b[1m \u001b[0m\u001b[1m  Source Location   \u001b[0m\u001b[1m \u001b[0m┃\u001b[1m \u001b[0m\u001b[1m        Categories        \u001b[0m\u001b[1m \u001b[0m┃\u001b[1m \u001b[0m\u001b[1mscvi-tools Encoding\u001b[0m\u001b[1m \u001b[0m┃\n",
                            "┡━━━━━━━━━━━━━━━━━━━━━━╇━━━━━━━━━━━━━━━━━━━━━━━━━━━━╇━━━━━━━━━━━━━━━━━━━━━┩\n",
                            "│\u001b[38;5;33m \u001b[0m\u001b[38;5;33madata.obs['dataset']\u001b[0m\u001b[38;5;33m \u001b[0m│\u001b[32m \u001b[0m\u001b[32mtest_dataset_delorey_regev\u001b[0m\u001b[32m \u001b[0m│\u001b[38;5;128m \u001b[0m\u001b[38;5;128m         0         \u001b[0m\u001b[38;5;128m \u001b[0m│\n",
                            "└──────────────────────┴────────────────────────────┴─────────────────────┘\n"
                        ]
                    },
                    "metadata": {},
                    "output_type": "display_data"
                },
                {
                    "data": {
                        "text/html": [
                            "<pre style=\"white-space:pre;overflow-x:auto;line-height:normal;font-family:Menlo,'DejaVu Sans Mono',consolas,'Courier New',monospace\"><span style=\"font-style: italic\">                                       labels State Registry                                       </span>\n",
                            "┏━━━━━━━━━━━━━━━━━━━━━━━━━━━━━━━━━━━━━━━━━━━━┳━━━━━━━━━━━━━━━━━━━━━━━━━━━━━━┳━━━━━━━━━━━━━━━━━━━━━┓\n",
                            "┃<span style=\"font-weight: bold\">              Source Location               </span>┃<span style=\"font-weight: bold\">          Categories          </span>┃<span style=\"font-weight: bold\"> scvi-tools Encoding </span>┃\n",
                            "┡━━━━━━━━━━━━━━━━━━━━━━━━━━━━━━━━━━━━━━━━━━━━╇━━━━━━━━━━━━━━━━━━━━━━━━━━━━━━╇━━━━━━━━━━━━━━━━━━━━━┩\n",
                            "│<span style=\"color: #0087ff; text-decoration-color: #0087ff\"> adata.obs['ann_level_3_transferred_label'] </span>│<span style=\"color: #008000; text-decoration-color: #008000\">       2_Smooth muscle        </span>│<span style=\"color: #af00d7; text-decoration-color: #af00d7\">          0          </span>│\n",
                            "│<span style=\"color: #0087ff; text-decoration-color: #0087ff\">                                            </span>│<span style=\"color: #008000; text-decoration-color: #008000\">             AT1              </span>│<span style=\"color: #af00d7; text-decoration-color: #af00d7\">          1          </span>│\n",
                            "│<span style=\"color: #0087ff; text-decoration-color: #0087ff\">                                            </span>│<span style=\"color: #008000; text-decoration-color: #008000\">             AT2              </span>│<span style=\"color: #af00d7; text-decoration-color: #af00d7\">          2          </span>│\n",
                            "│<span style=\"color: #0087ff; text-decoration-color: #0087ff\">                                            </span>│<span style=\"color: #008000; text-decoration-color: #008000\">        B cell lineage        </span>│<span style=\"color: #af00d7; text-decoration-color: #af00d7\">          3          </span>│\n",
                            "│<span style=\"color: #0087ff; text-decoration-color: #0087ff\">                                            </span>│<span style=\"color: #008000; text-decoration-color: #008000\">         EC arterial          </span>│<span style=\"color: #af00d7; text-decoration-color: #af00d7\">          4          </span>│\n",
                            "│<span style=\"color: #0087ff; text-decoration-color: #0087ff\">                                            </span>│<span style=\"color: #008000; text-decoration-color: #008000\">         EC capillary         </span>│<span style=\"color: #af00d7; text-decoration-color: #af00d7\">          5          </span>│\n",
                            "│<span style=\"color: #0087ff; text-decoration-color: #0087ff\">                                            </span>│<span style=\"color: #008000; text-decoration-color: #008000\">          EC venous           </span>│<span style=\"color: #af00d7; text-decoration-color: #af00d7\">          6          </span>│\n",
                            "│<span style=\"color: #0087ff; text-decoration-color: #0087ff\">                                            </span>│<span style=\"color: #008000; text-decoration-color: #008000\">         Fibroblasts          </span>│<span style=\"color: #af00d7; text-decoration-color: #af00d7\">          7          </span>│\n",
                            "│<span style=\"color: #0087ff; text-decoration-color: #0087ff\">                                            </span>│<span style=\"color: #008000; text-decoration-color: #008000\">   Innate lymphoid cell NK    </span>│<span style=\"color: #af00d7; text-decoration-color: #af00d7\">          8          </span>│\n",
                            "│<span style=\"color: #0087ff; text-decoration-color: #0087ff\">                                            </span>│<span style=\"color: #008000; text-decoration-color: #008000\"> Lymphatic EC differentiating </span>│<span style=\"color: #af00d7; text-decoration-color: #af00d7\">          9          </span>│\n",
                            "│<span style=\"color: #0087ff; text-decoration-color: #0087ff\">                                            </span>│<span style=\"color: #008000; text-decoration-color: #008000\">     Lymphatic EC mature      </span>│<span style=\"color: #af00d7; text-decoration-color: #af00d7\">         10          </span>│\n",
                            "│<span style=\"color: #0087ff; text-decoration-color: #0087ff\">                                            </span>│<span style=\"color: #008000; text-decoration-color: #008000\">         Macrophages          </span>│<span style=\"color: #af00d7; text-decoration-color: #af00d7\">         11          </span>│\n",
                            "│<span style=\"color: #0087ff; text-decoration-color: #0087ff\">                                            </span>│<span style=\"color: #008000; text-decoration-color: #008000\">          Mast cells          </span>│<span style=\"color: #af00d7; text-decoration-color: #af00d7\">         12          </span>│\n",
                            "│<span style=\"color: #0087ff; text-decoration-color: #0087ff\">                                            </span>│<span style=\"color: #008000; text-decoration-color: #008000\">          Monocytes           </span>│<span style=\"color: #af00d7; text-decoration-color: #af00d7\">         13          </span>│\n",
                            "│<span style=\"color: #0087ff; text-decoration-color: #0087ff\">                                            </span>│<span style=\"color: #008000; text-decoration-color: #008000\">        T cell lineage        </span>│<span style=\"color: #af00d7; text-decoration-color: #af00d7\">         14          </span>│\n",
                            "│<span style=\"color: #0087ff; text-decoration-color: #0087ff\">                                            </span>│<span style=\"color: #008000; text-decoration-color: #008000\">           Unknown            </span>│<span style=\"color: #af00d7; text-decoration-color: #af00d7\">         15          </span>│\n",
                            "└────────────────────────────────────────────┴──────────────────────────────┴─────────────────────┘\n",
                            "</pre>\n"
                        ],
                        "text/plain": [
                            "\u001b[3m                                       labels State Registry                                       \u001b[0m\n",
                            "┏━━━━━━━━━━━━━━━━━━━━━━━━━━━━━━━━━━━━━━━━━━━━┳━━━━━━━━━━━━━━━━━━━━━━━━━━━━━━┳━━━━━━━━━━━━━━━━━━━━━┓\n",
                            "┃\u001b[1m \u001b[0m\u001b[1m             Source Location              \u001b[0m\u001b[1m \u001b[0m┃\u001b[1m \u001b[0m\u001b[1m         Categories         \u001b[0m\u001b[1m \u001b[0m┃\u001b[1m \u001b[0m\u001b[1mscvi-tools Encoding\u001b[0m\u001b[1m \u001b[0m┃\n",
                            "┡━━━━━━━━━━━━━━━━━━━━━━━━━━━━━━━━━━━━━━━━━━━━╇━━━━━━━━━━━━━━━━━━━━━━━━━━━━━━╇━━━━━━━━━━━━━━━━━━━━━┩\n",
                            "│\u001b[38;5;33m \u001b[0m\u001b[38;5;33madata.obs['ann_level_3_transferred_label']\u001b[0m\u001b[38;5;33m \u001b[0m│\u001b[32m \u001b[0m\u001b[32m      2_Smooth muscle       \u001b[0m\u001b[32m \u001b[0m│\u001b[38;5;128m \u001b[0m\u001b[38;5;128m         0         \u001b[0m\u001b[38;5;128m \u001b[0m│\n",
                            "│\u001b[38;5;33m \u001b[0m\u001b[38;5;33m                                          \u001b[0m\u001b[38;5;33m \u001b[0m│\u001b[32m \u001b[0m\u001b[32m            AT1             \u001b[0m\u001b[32m \u001b[0m│\u001b[38;5;128m \u001b[0m\u001b[38;5;128m         1         \u001b[0m\u001b[38;5;128m \u001b[0m│\n",
                            "│\u001b[38;5;33m \u001b[0m\u001b[38;5;33m                                          \u001b[0m\u001b[38;5;33m \u001b[0m│\u001b[32m \u001b[0m\u001b[32m            AT2             \u001b[0m\u001b[32m \u001b[0m│\u001b[38;5;128m \u001b[0m\u001b[38;5;128m         2         \u001b[0m\u001b[38;5;128m \u001b[0m│\n",
                            "│\u001b[38;5;33m \u001b[0m\u001b[38;5;33m                                          \u001b[0m\u001b[38;5;33m \u001b[0m│\u001b[32m \u001b[0m\u001b[32m       B cell lineage       \u001b[0m\u001b[32m \u001b[0m│\u001b[38;5;128m \u001b[0m\u001b[38;5;128m         3         \u001b[0m\u001b[38;5;128m \u001b[0m│\n",
                            "│\u001b[38;5;33m \u001b[0m\u001b[38;5;33m                                          \u001b[0m\u001b[38;5;33m \u001b[0m│\u001b[32m \u001b[0m\u001b[32m        EC arterial         \u001b[0m\u001b[32m \u001b[0m│\u001b[38;5;128m \u001b[0m\u001b[38;5;128m         4         \u001b[0m\u001b[38;5;128m \u001b[0m│\n",
                            "│\u001b[38;5;33m \u001b[0m\u001b[38;5;33m                                          \u001b[0m\u001b[38;5;33m \u001b[0m│\u001b[32m \u001b[0m\u001b[32m        EC capillary        \u001b[0m\u001b[32m \u001b[0m│\u001b[38;5;128m \u001b[0m\u001b[38;5;128m         5         \u001b[0m\u001b[38;5;128m \u001b[0m│\n",
                            "│\u001b[38;5;33m \u001b[0m\u001b[38;5;33m                                          \u001b[0m\u001b[38;5;33m \u001b[0m│\u001b[32m \u001b[0m\u001b[32m         EC venous          \u001b[0m\u001b[32m \u001b[0m│\u001b[38;5;128m \u001b[0m\u001b[38;5;128m         6         \u001b[0m\u001b[38;5;128m \u001b[0m│\n",
                            "│\u001b[38;5;33m \u001b[0m\u001b[38;5;33m                                          \u001b[0m\u001b[38;5;33m \u001b[0m│\u001b[32m \u001b[0m\u001b[32m        Fibroblasts         \u001b[0m\u001b[32m \u001b[0m│\u001b[38;5;128m \u001b[0m\u001b[38;5;128m         7         \u001b[0m\u001b[38;5;128m \u001b[0m│\n",
                            "│\u001b[38;5;33m \u001b[0m\u001b[38;5;33m                                          \u001b[0m\u001b[38;5;33m \u001b[0m│\u001b[32m \u001b[0m\u001b[32m  Innate lymphoid cell NK   \u001b[0m\u001b[32m \u001b[0m│\u001b[38;5;128m \u001b[0m\u001b[38;5;128m         8         \u001b[0m\u001b[38;5;128m \u001b[0m│\n",
                            "│\u001b[38;5;33m \u001b[0m\u001b[38;5;33m                                          \u001b[0m\u001b[38;5;33m \u001b[0m│\u001b[32m \u001b[0m\u001b[32mLymphatic EC differentiating\u001b[0m\u001b[32m \u001b[0m│\u001b[38;5;128m \u001b[0m\u001b[38;5;128m         9         \u001b[0m\u001b[38;5;128m \u001b[0m│\n",
                            "│\u001b[38;5;33m \u001b[0m\u001b[38;5;33m                                          \u001b[0m\u001b[38;5;33m \u001b[0m│\u001b[32m \u001b[0m\u001b[32m    Lymphatic EC mature     \u001b[0m\u001b[32m \u001b[0m│\u001b[38;5;128m \u001b[0m\u001b[38;5;128m        10         \u001b[0m\u001b[38;5;128m \u001b[0m│\n",
                            "│\u001b[38;5;33m \u001b[0m\u001b[38;5;33m                                          \u001b[0m\u001b[38;5;33m \u001b[0m│\u001b[32m \u001b[0m\u001b[32m        Macrophages         \u001b[0m\u001b[32m \u001b[0m│\u001b[38;5;128m \u001b[0m\u001b[38;5;128m        11         \u001b[0m\u001b[38;5;128m \u001b[0m│\n",
                            "│\u001b[38;5;33m \u001b[0m\u001b[38;5;33m                                          \u001b[0m\u001b[38;5;33m \u001b[0m│\u001b[32m \u001b[0m\u001b[32m         Mast cells         \u001b[0m\u001b[32m \u001b[0m│\u001b[38;5;128m \u001b[0m\u001b[38;5;128m        12         \u001b[0m\u001b[38;5;128m \u001b[0m│\n",
                            "│\u001b[38;5;33m \u001b[0m\u001b[38;5;33m                                          \u001b[0m\u001b[38;5;33m \u001b[0m│\u001b[32m \u001b[0m\u001b[32m         Monocytes          \u001b[0m\u001b[32m \u001b[0m│\u001b[38;5;128m \u001b[0m\u001b[38;5;128m        13         \u001b[0m\u001b[38;5;128m \u001b[0m│\n",
                            "│\u001b[38;5;33m \u001b[0m\u001b[38;5;33m                                          \u001b[0m\u001b[38;5;33m \u001b[0m│\u001b[32m \u001b[0m\u001b[32m       T cell lineage       \u001b[0m\u001b[32m \u001b[0m│\u001b[38;5;128m \u001b[0m\u001b[38;5;128m        14         \u001b[0m\u001b[38;5;128m \u001b[0m│\n",
                            "│\u001b[38;5;33m \u001b[0m\u001b[38;5;33m                                          \u001b[0m\u001b[38;5;33m \u001b[0m│\u001b[32m \u001b[0m\u001b[32m          Unknown           \u001b[0m\u001b[32m \u001b[0m│\u001b[38;5;128m \u001b[0m\u001b[38;5;128m        15         \u001b[0m\u001b[38;5;128m \u001b[0m│\n",
                            "└────────────────────────────────────────────┴──────────────────────────────┴─────────────────────┘\n"
                        ]
                    },
                    "metadata": {},
                    "output_type": "display_data"
                },
                {
                    "name": "stderr",
                    "output_type": "stream",
                    "text": [
                        "GPU available: False, used: False\n",
                        "TPU available: False, using: 0 TPU cores\n",
                        "IPU available: False, using: 0 IPUs\n",
                        "HPU available: False, using: 0 HPUs\n",
                        "c:\\Users\\rafaelo\\OneDrive - NTNU\\Documents\\Projects\\venv\\lib\\site-packages\\lightning\\pytorch\\trainer\\configuration_validator.py:69: You passed in a `val_dataloader` but have no `validation_step`. Skipping val loop.\n",
                        "c:\\Users\\rafaelo\\OneDrive - NTNU\\Documents\\Projects\\venv\\lib\\site-packages\\lightning\\pytorch\\loops\\fit_loop.py:281: The number of training batches (1) is smaller than the logging interval Trainer(log_every_n_steps=10). Set a lower value for log_every_n_steps if you want to see logs for the training epoch.\n",
                        "C:\\Users\\rafaelo\\AppData\\Local\\Programs\\Python\\Python310\\lib\\abc.py:119: FutureWarning: SparseDataset is deprecated and will be removed in late 2024. It has been replaced by the public classes CSRDataset and CSCDataset.\n",
                        "\n",
                        "For instance checks, use `isinstance(X, (anndata.experimental.CSRDataset, anndata.experimental.CSCDataset))` instead.\n",
                        "\n",
                        "For creation, use `anndata.experimental.sparse_dataset(X)` instead.\n",
                        "\n",
                        "  return _abc_instancecheck(cls, instance)\n"
                    ]
                },
                {
                    "name": "stdout",
                    "output_type": "stream",
                    "text": [
                        "Epoch 1250/1250: 100%|██████████| 1250/1250 [14:58<00:00,  1.42it/s, v_num=1, elbo_train=6.43e+6]"
                    ]
                },
                {
                    "name": "stderr",
                    "output_type": "stream",
                    "text": [
                        "`Trainer.fit` stopped: `max_epochs=1250` reached.\n"
                    ]
                },
                {
                    "name": "stdout",
                    "output_type": "stream",
                    "text": [
                        "Epoch 1250/1250: 100%|██████████| 1250/1250 [14:58<00:00,  1.39it/s, v_num=1, elbo_train=6.43e+6]\n"
                    ]
                }
            ],
            "source": [
                "# prepare anndata for the regression model\n",
                "RegressionModel.setup_anndata(\n",
                "    adata=adata_ref,\n",
                "    # 10X reaction / sample / batch\n",
                "    batch_key=\"dataset\",\n",
                "    # cell type, covariate used for constructing signatures\n",
                "    labels_key=\"ann_level_3_transferred_label\",\n",
                "\n",
                ")\n",
                "mod = RegressionModel(adata_ref)\n",
                "mod.view_anndata_setup()\n",
                "\n",
                "# Use all data for training (validation not implemented yet, train_size=1)\n",
                "mod.train(\n",
                "    max_epochs=1250,\n",
                "    batch_size=2500,\n",
                "    train_size=1,\n",
                "    lr=0.002,\n",
                ")"
            ]
        },
        {
            "cell_type": "markdown",
            "metadata": {
                "id": "-QyHi0E7FdCL"
            },
            "source": [
                "<div class=\"alert alert-block alert-message\">\n",
                "<b>Determine if the model needs more training.</b>\n",
                "</div>\n",
                "\n",
                "Here, we plot ELBO loss history during training, removing first 20 epochs from the plot.\n",
                "This plot should have a decreasing trend and level off by the end of training. If it is still decreasing, increase `max_epochs`."
            ]
        },
        {
            "cell_type": "code",
            "execution_count": 14,
            "metadata": {
                "colab": {
                    "base_uri": "https://localhost:8080/",
                    "height": 296
                },
                "id": "XkZITGJ-FdCL",
                "outputId": "56c97663-0c2c-42c3-dd33-60457a50480e"
            },
            "outputs": [
                {
                    "data": {
                        "image/png": "[encoded data removed]",
                        "text/plain": [
                            "<Figure size 480x480 with 1 Axes>"
                        ]
                    },
                    "metadata": {
                        "image/png": {
                            "height": 469,
                            "width": 467
                        }
                    },
                    "output_type": "display_data"
                }
            ],
            "source": [
                "mod.plot_history(20)"
            ]
        },
        {
            "cell_type": "code",
            "execution_count": 15,
            "metadata": {
                "colab": {
                    "base_uri": "https://localhost:8080/",
                    "height": 71
                },
                "id": "ae8FoYJGFdCL",
                "outputId": "801e934b-2220-4a72-c22b-ac56ee36b6af"
            },
            "outputs": [
                {
                    "name": "stderr",
                    "output_type": "stream",
                    "text": [
                        "c:\\Users\\rafaelo\\OneDrive - NTNU\\Documents\\Projects\\venv\\lib\\site-packages\\scvi\\model\\base\\_pyromixin.py:388: UserWarning: `use_gpu` is deprecated in v1.0 and will be removed in v1.1. Please use `accelerator` and `devices` instead.\n",
                        "  _, _, device = parse_device_args(\n"
                    ]
                },
                {
                    "name": "stdout",
                    "output_type": "stream",
                    "text": [
                        "Sampling local variables, batch:   0%|          | 0/1 [00:00<?, ?it/s]\n",
                        "Sampling global variables, sample: 100%|██████████| 999/999 [00:39<00:00, 25.54it/s]\n"
                    ]
                },
                {
                    "data": {
                        "text/plain": [
                            "'C:\\\\Users\\\\rafaelo\\\\OneDrive - NTNU\\\\Documents\\\\Projects\\\\STNav\\\\notebooks\\\\experimental\\\\cell2location/reference_signatures/sc.h5ad'"
                        ]
                    },
                    "execution_count": 15,
                    "metadata": {},
                    "output_type": "execute_result"
                }
            ],
            "source": [
                "# In this section, we export the estimated cell abundance\n",
                "# (summary of the posterior distribution).\n",
                "adata_ref = mod.export_posterior(\n",
                "    adata_ref,\n",
                "    sample_kwargs={\"num_samples\": 1000, \"batch_size\": 2500, \"use_gpu\": False},\n",
                ")\n",
                "\n",
                "# Save model\n",
                "mod.save(f\"{ref_run_name}\", overwrite=True)\n",
                "\n",
                "# Save anndata object with results\n",
                "adata_file = f\"{ref_run_name}/sc.h5ad\"\n",
                "adata_ref.write(adata_file)\n",
                "adata_file"
            ]
        },
        {
            "cell_type": "markdown",
            "metadata": {
                "id": "-JlBMSIoFdCL"
            },
            "source": [
                "<div class=\"alert alert-block alert-message\">\n",
                "<b>Examine QC plots.</b>\n",
                "</div>\n",
                "\n",
                "1. Reconstruction accuracy to assess if there are any issues with inference.\n",
                "\n",
                "1. The estimated expression signatures are distinct from mean expression in each cluster because of batch effects. For scRNA-seq datasets which do not suffer from batch effect (this dataset does), cluster average expression can be used instead of estimating signatures with a model. When this plot is very different from a diagonal plot (e.g. very low values on Y-axis, density everywhere) it indicates problems with signature estimation."
            ]
        },
        {
            "cell_type": "code",
            "execution_count": 16,
            "metadata": {
                "colab": {
                    "base_uri": "https://localhost:8080/",
                    "height": 582
                },
                "id": "TcOtbPcGFdCM",
                "outputId": "977f07aa-9bf9-4956-a968-82520b7494e7"
            },
            "outputs": [
                {
                    "data": {
                        "image/png": "[encoded data removed]",
                        "text/plain": [
                            "<Figure size 480x480 with 1 Axes>"
                        ]
                    },
                    "metadata": {
                        "image/png": {
                            "height": 329,
                            "width": 466
                        }
                    },
                    "output_type": "display_data"
                },
                {
                    "data": {
                        "image/png": "[encoded data removed]",
                        "text/plain": [
                            "<Figure size 480x480 with 1 Axes>"
                        ]
                    },
                    "metadata": {
                        "image/png": {
                            "height": 419,
                            "width": 434
                        }
                    },
                    "output_type": "display_data"
                }
            ],
            "source": [
                "mod.plot_QC()"
            ]
        },
        {
            "cell_type": "markdown",
            "metadata": {
                "id": "CqkMakqyFdCM"
            },
            "source": [
                "The model and output h5ad can be loaded later like this:\n",
                "\n",
                "```python\n",
                "mod = cell2location.models.RegressionModel.load(f\"{ref_run_name}\", adata_ref)\n",
                "adata_file = f\"{ref_run_name}/sc.h5ad\"\n",
                "adata_ref = sc.read_h5ad(adata_file)\n",
                "```"
            ]
        },
        {
            "cell_type": "markdown",
            "metadata": {
                "id": "eDAZvRJ2FdCM"
            },
            "source": [
                "<div class=\"alert alert-block alert-message\">\n",
                "<b>Extracting reference cell types signatures as a pd.DataFrame.</b>\n",
                "All parameters of the a Negative Binomial regression model are exported into reference anndata object, however for spatial mapping we just need the estimated expression of every gene in every cell type. Here we extract that from standard output:\n",
                "</div>"
            ]
        },
        {
            "cell_type": "code",
            "execution_count": 17,
            "metadata": {
                "colab": {
                    "base_uri": "https://localhost:8080/",
                    "height": 237
                },
                "id": "fHGrDYR4FdCM",
                "outputId": "5012a701-3307-4fb1-de85-4311cdd26550"
            },
            "outputs": [
                {
                    "data": {
                        "text/html": [
                            "<div>\n",
                            "<style scoped>\n",
                            "    .dataframe tbody tr th:only-of-type {\n",
                            "        vertical-align: middle;\n",
                            "    }\n",
                            "\n",
                            "    .dataframe tbody tr th {\n",
                            "        vertical-align: top;\n",
                            "    }\n",
                            "\n",
                            "    .dataframe thead th {\n",
                            "        text-align: right;\n",
                            "    }\n",
                            "</style>\n",
                            "<table border=\"1\" class=\"dataframe\">\n",
                            "  <thead>\n",
                            "    <tr style=\"text-align: right;\">\n",
                            "      <th></th>\n",
                            "      <th>2_Smooth muscle</th>\n",
                            "      <th>AT1</th>\n",
                            "      <th>AT2</th>\n",
                            "      <th>B cell lineage</th>\n",
                            "      <th>EC arterial</th>\n",
                            "    </tr>\n",
                            "    <tr>\n",
                            "      <th>gene_ids</th>\n",
                            "      <th></th>\n",
                            "      <th></th>\n",
                            "      <th></th>\n",
                            "      <th></th>\n",
                            "      <th></th>\n",
                            "    </tr>\n",
                            "  </thead>\n",
                            "  <tbody>\n",
                            "    <tr>\n",
                            "      <th>ENSG00000187634</th>\n",
                            "      <td>0.001583</td>\n",
                            "      <td>0.001485</td>\n",
                            "      <td>0.001614</td>\n",
                            "      <td>0.343172</td>\n",
                            "      <td>0.001553</td>\n",
                            "    </tr>\n",
                            "    <tr>\n",
                            "      <th>ENSG00000188976</th>\n",
                            "      <td>0.001528</td>\n",
                            "      <td>0.156313</td>\n",
                            "      <td>0.001631</td>\n",
                            "      <td>0.001690</td>\n",
                            "      <td>0.799142</td>\n",
                            "    </tr>\n",
                            "    <tr>\n",
                            "      <th>ENSG00000188290</th>\n",
                            "      <td>0.923153</td>\n",
                            "      <td>0.186648</td>\n",
                            "      <td>0.445908</td>\n",
                            "      <td>0.001634</td>\n",
                            "      <td>0.001509</td>\n",
                            "    </tr>\n",
                            "    <tr>\n",
                            "      <th>ENSG00000187608</th>\n",
                            "      <td>1.728233</td>\n",
                            "      <td>0.136702</td>\n",
                            "      <td>0.001589</td>\n",
                            "      <td>0.647061</td>\n",
                            "      <td>1.940974</td>\n",
                            "    </tr>\n",
                            "    <tr>\n",
                            "      <th>ENSG00000188157</th>\n",
                            "      <td>0.400498</td>\n",
                            "      <td>1.253291</td>\n",
                            "      <td>0.994008</td>\n",
                            "      <td>0.001558</td>\n",
                            "      <td>0.576898</td>\n",
                            "    </tr>\n",
                            "  </tbody>\n",
                            "</table>\n",
                            "</div>"
                        ],
                        "text/plain": [
                            "                 2_Smooth muscle       AT1       AT2  B cell lineage  \\\n",
                            "gene_ids                                                               \n",
                            "ENSG00000187634         0.001583  0.001485  0.001614        0.343172   \n",
                            "ENSG00000188976         0.001528  0.156313  0.001631        0.001690   \n",
                            "ENSG00000188290         0.923153  0.186648  0.445908        0.001634   \n",
                            "ENSG00000187608         1.728233  0.136702  0.001589        0.647061   \n",
                            "ENSG00000188157         0.400498  1.253291  0.994008        0.001558   \n",
                            "\n",
                            "                 EC arterial  \n",
                            "gene_ids                      \n",
                            "ENSG00000187634     0.001553  \n",
                            "ENSG00000188976     0.799142  \n",
                            "ENSG00000188290     0.001509  \n",
                            "ENSG00000187608     1.940974  \n",
                            "ENSG00000188157     0.576898  "
                        ]
                    },
                    "execution_count": 17,
                    "metadata": {},
                    "output_type": "execute_result"
                }
            ],
            "source": [
                "# export estimated expression in each cluster\n",
                "if \"means_per_cluster_mu_fg\" in adata_ref.varm.keys():\n",
                "    inf_aver = adata_ref.varm[\"means_per_cluster_mu_fg\"][\n",
                "        [f\"means_per_cluster_mu_fg_{i}\" for i in adata_ref.uns[\"mod\"][\"factor_names\"]]\n",
                "    ].copy()\n",
                "else:\n",
                "    inf_aver = adata_ref.var[\n",
                "        [f\"means_per_cluster_mu_fg_{i}\" for i in adata_ref.uns[\"mod\"][\"factor_names\"]]\n",
                "    ].copy()\n",
                "inf_aver.columns = adata_ref.uns[\"mod\"][\"factor_names\"]\n",
                "inf_aver.iloc[0:5, 0:5]"
            ]
        },
        {
            "cell_type": "markdown",
            "metadata": {
                "id": "7KPP77VmFdCM"
            },
            "source": [
                "## Cell2location: spatial mapping <a class=\"anchor\" id=\"cell2location\"></a>\n",
                "\n",
                "<div class=\"alert alert-block alert-message\">\n",
                "<b>Find shared genes and prepare anndata.</b>\n",
                "Subset both anndata and reference signatures:\n",
                "</div>"
            ]
        },
        {
            "cell_type": "code",
            "execution_count": 18,
            "metadata": {
                "id": "YIRmtYRKFdCM"
            },
            "outputs": [],
            "source": [
                "# find shared genes and subset both anndata and reference signatures\n",
                "intersect = np.intersect1d(adata_vis.var_names, inf_aver.index)\n",
                "adata_vis = adata_vis[:, intersect].copy()\n",
                "inf_aver = inf_aver.loc[intersect, :].copy()"
            ]
        },
        {
            "attachments": {},
            "cell_type": "markdown",
            "metadata": {
                "id": "1eyjeJK5FdCM"
            },
            "source": [
                "```{important}\n",
                "To use cell2location spatial mapping model, you need to specify 2 user-provided hyperparameters (`N_cells_per_location` and `detection_alpha`) - for detailed guidance on setting these hyperparameters and their impact see [the flow diagram and the note](https://github.com/BayraktarLab/cell2location/blob/master/docs/images/Note_on_selecting_hyperparameters.pdf).\n",
                "```"
            ]
        },
        {
            "cell_type": "markdown",
            "metadata": {
                "id": "ixjtwhJ5FdCM"
            },
            "source": [
                "**Choosing hyperparameter `N_cells_per_location`!**\n",
                "It is useful to adapt the expected cell abundance `N_cells_per_location` to every tissue</b>. This value can be estimated from paired histology images and as described in the note above. Change the value presented in this tutorial (`N_cells_per_location=30`) to the value observed in your your tissue.\n",
                "\n",
                "**Choosing hyperparameter `detection_alpha`!**\n",
                "You can often use the default value of `detection_alpha` hyperparameter (`detection_alpha=200`), but for datasets where you observe **within-batch variation in total RNA count that cannot be explained by tissue containing more cells** (histological examination) use `detection_alpha=20`."
            ]
        },
        {
            "cell_type": "code",
            "execution_count": 19,
            "metadata": {
                "colab": {
                    "base_uri": "https://localhost:8080/",
                    "height": 871
                },
                "id": "i-hCPEuZFdCM",
                "outputId": "2f72913c-b2a8-414b-c258-895e0f28ba48"
            },
            "outputs": [
                {
                    "data": {
                        "text/html": [
                            "<pre style=\"white-space:pre;overflow-x:auto;line-height:normal;font-family:Menlo,'DejaVu Sans Mono',consolas,'Courier New',monospace\">Anndata setup with scvi-tools version <span style=\"color: #008080; text-decoration-color: #008080; font-weight: bold\">1.0</span>.<span style=\"color: #008080; text-decoration-color: #008080; font-weight: bold\">4</span>.\n",
                            "</pre>\n"
                        ],
                        "text/plain": [
                            "Anndata setup with scvi-tools version \u001b[1;36m1.0\u001b[0m.\u001b[1;36m4\u001b[0m.\n"
                        ]
                    },
                    "metadata": {},
                    "output_type": "display_data"
                },
                {
                    "data": {
                        "text/html": [
                            "<pre style=\"white-space:pre;overflow-x:auto;line-height:normal;font-family:Menlo,'DejaVu Sans Mono',consolas,'Courier New',monospace\">\n",
                            "</pre>\n"
                        ],
                        "text/plain": [
                            "\n"
                        ]
                    },
                    "metadata": {},
                    "output_type": "display_data"
                },
                {
                    "data": {
                        "text/html": [
                            "<pre style=\"white-space:pre;overflow-x:auto;line-height:normal;font-family:Menlo,'DejaVu Sans Mono',consolas,'Courier New',monospace\">Setup via `Cell2location.setup_anndata` with arguments:\n",
                            "</pre>\n"
                        ],
                        "text/plain": [
                            "Setup via `Cell2location.setup_anndata` with arguments:\n"
                        ]
                    },
                    "metadata": {},
                    "output_type": "display_data"
                },
                {
                    "data": {
                        "text/html": [
                            "<pre style=\"white-space:pre;overflow-x:auto;line-height:normal;font-family:Menlo,'DejaVu Sans Mono',consolas,'Courier New',monospace\"><span style=\"font-weight: bold\">{</span>\n",
                            "<span style=\"color: #7fbf7f; text-decoration-color: #7fbf7f\">│   </span><span style=\"color: #008000; text-decoration-color: #008000\">'layer'</span>: <span style=\"color: #800080; text-decoration-color: #800080; font-style: italic\">None</span>,\n",
                            "<span style=\"color: #7fbf7f; text-decoration-color: #7fbf7f\">│   </span><span style=\"color: #008000; text-decoration-color: #008000\">'batch_key'</span>: <span style=\"color: #008000; text-decoration-color: #008000\">'sample'</span>,\n",
                            "<span style=\"color: #7fbf7f; text-decoration-color: #7fbf7f\">│   </span><span style=\"color: #008000; text-decoration-color: #008000\">'labels_key'</span>: <span style=\"color: #800080; text-decoration-color: #800080; font-style: italic\">None</span>,\n",
                            "<span style=\"color: #7fbf7f; text-decoration-color: #7fbf7f\">│   </span><span style=\"color: #008000; text-decoration-color: #008000\">'categorical_covariate_keys'</span>: <span style=\"color: #800080; text-decoration-color: #800080; font-style: italic\">None</span>,\n",
                            "<span style=\"color: #7fbf7f; text-decoration-color: #7fbf7f\">│   </span><span style=\"color: #008000; text-decoration-color: #008000\">'continuous_covariate_keys'</span>: <span style=\"color: #800080; text-decoration-color: #800080; font-style: italic\">None</span>\n",
                            "<span style=\"font-weight: bold\">}</span>\n",
                            "</pre>\n"
                        ],
                        "text/plain": [
                            "\u001b[1m{\u001b[0m\n",
                            "\u001b[2;32m│   \u001b[0m\u001b[32m'layer'\u001b[0m: \u001b[3;35mNone\u001b[0m,\n",
                            "\u001b[2;32m│   \u001b[0m\u001b[32m'batch_key'\u001b[0m: \u001b[32m'sample'\u001b[0m,\n",
                            "\u001b[2;32m│   \u001b[0m\u001b[32m'labels_key'\u001b[0m: \u001b[3;35mNone\u001b[0m,\n",
                            "\u001b[2;32m│   \u001b[0m\u001b[32m'categorical_covariate_keys'\u001b[0m: \u001b[3;35mNone\u001b[0m,\n",
                            "\u001b[2;32m│   \u001b[0m\u001b[32m'continuous_covariate_keys'\u001b[0m: \u001b[3;35mNone\u001b[0m\n",
                            "\u001b[1m}\u001b[0m\n"
                        ]
                    },
                    "metadata": {},
                    "output_type": "display_data"
                },
                {
                    "data": {
                        "text/html": [
                            "<pre style=\"white-space:pre;overflow-x:auto;line-height:normal;font-family:Menlo,'DejaVu Sans Mono',consolas,'Courier New',monospace\">\n",
                            "</pre>\n"
                        ],
                        "text/plain": [
                            "\n"
                        ]
                    },
                    "metadata": {},
                    "output_type": "display_data"
                },
                {
                    "data": {
                        "text/html": [
                            "<pre style=\"white-space:pre;overflow-x:auto;line-height:normal;font-family:Menlo,'DejaVu Sans Mono',consolas,'Courier New',monospace\"><span style=\"font-style: italic\">         Summary Statistics          </span>\n",
                            "┏━━━━━━━━━━━━━━━━━━━━━━━━━━┳━━━━━━━━┓\n",
                            "┃<span style=\"font-weight: bold\">     Summary Stat Key     </span>┃<span style=\"font-weight: bold\"> Value  </span>┃\n",
                            "┡━━━━━━━━━━━━━━━━━━━━━━━━━━╇━━━━━━━━┩\n",
                            "│<span style=\"color: #0087ff; text-decoration-color: #0087ff\">         n_batch          </span>│<span style=\"color: #af00d7; text-decoration-color: #af00d7\">   1    </span>│\n",
                            "│<span style=\"color: #0087ff; text-decoration-color: #0087ff\">         n_cells          </span>│<span style=\"color: #af00d7; text-decoration-color: #af00d7\"> 152048 </span>│\n",
                            "│<span style=\"color: #0087ff; text-decoration-color: #0087ff\"> n_extra_categorical_covs </span>│<span style=\"color: #af00d7; text-decoration-color: #af00d7\">   0    </span>│\n",
                            "│<span style=\"color: #0087ff; text-decoration-color: #0087ff\"> n_extra_continuous_covs  </span>│<span style=\"color: #af00d7; text-decoration-color: #af00d7\">   0    </span>│\n",
                            "│<span style=\"color: #0087ff; text-decoration-color: #0087ff\">         n_labels         </span>│<span style=\"color: #af00d7; text-decoration-color: #af00d7\">   1    </span>│\n",
                            "│<span style=\"color: #0087ff; text-decoration-color: #0087ff\">          n_vars          </span>│<span style=\"color: #af00d7; text-decoration-color: #af00d7\">  8747  </span>│\n",
                            "└──────────────────────────┴────────┘\n",
                            "</pre>\n"
                        ],
                        "text/plain": [
                            "\u001b[3m         Summary Statistics          \u001b[0m\n",
                            "┏━━━━━━━━━━━━━━━━━━━━━━━━━━┳━━━━━━━━┓\n",
                            "┃\u001b[1m \u001b[0m\u001b[1m    Summary Stat Key    \u001b[0m\u001b[1m \u001b[0m┃\u001b[1m \u001b[0m\u001b[1mValue \u001b[0m\u001b[1m \u001b[0m┃\n",
                            "┡━━━━━━━━━━━━━━━━━━━━━━━━━━╇━━━━━━━━┩\n",
                            "│\u001b[38;5;33m \u001b[0m\u001b[38;5;33m        n_batch         \u001b[0m\u001b[38;5;33m \u001b[0m│\u001b[38;5;128m \u001b[0m\u001b[38;5;128m  1   \u001b[0m\u001b[38;5;128m \u001b[0m│\n",
                            "│\u001b[38;5;33m \u001b[0m\u001b[38;5;33m        n_cells         \u001b[0m\u001b[38;5;33m \u001b[0m│\u001b[38;5;128m \u001b[0m\u001b[38;5;128m152048\u001b[0m\u001b[38;5;128m \u001b[0m│\n",
                            "│\u001b[38;5;33m \u001b[0m\u001b[38;5;33mn_extra_categorical_covs\u001b[0m\u001b[38;5;33m \u001b[0m│\u001b[38;5;128m \u001b[0m\u001b[38;5;128m  0   \u001b[0m\u001b[38;5;128m \u001b[0m│\n",
                            "│\u001b[38;5;33m \u001b[0m\u001b[38;5;33mn_extra_continuous_covs \u001b[0m\u001b[38;5;33m \u001b[0m│\u001b[38;5;128m \u001b[0m\u001b[38;5;128m  0   \u001b[0m\u001b[38;5;128m \u001b[0m│\n",
                            "│\u001b[38;5;33m \u001b[0m\u001b[38;5;33m        n_labels        \u001b[0m\u001b[38;5;33m \u001b[0m│\u001b[38;5;128m \u001b[0m\u001b[38;5;128m  1   \u001b[0m\u001b[38;5;128m \u001b[0m│\n",
                            "│\u001b[38;5;33m \u001b[0m\u001b[38;5;33m         n_vars         \u001b[0m\u001b[38;5;33m \u001b[0m│\u001b[38;5;128m \u001b[0m\u001b[38;5;128m 8747 \u001b[0m\u001b[38;5;128m \u001b[0m│\n",
                            "└──────────────────────────┴────────┘\n"
                        ]
                    },
                    "metadata": {},
                    "output_type": "display_data"
                },
                {
                    "data": {
                        "text/html": [
                            "<pre style=\"white-space:pre;overflow-x:auto;line-height:normal;font-family:Menlo,'DejaVu Sans Mono',consolas,'Courier New',monospace\"><span style=\"font-style: italic\">               Data Registry                </span>\n",
                            "┏━━━━━━━━━━━━━━┳━━━━━━━━━━━━━━━━━━━━━━━━━━━┓\n",
                            "┃<span style=\"font-weight: bold\"> Registry Key </span>┃<span style=\"font-weight: bold\">    scvi-tools Location    </span>┃\n",
                            "┡━━━━━━━━━━━━━━╇━━━━━━━━━━━━━━━━━━━━━━━━━━━┩\n",
                            "│<span style=\"color: #0087ff; text-decoration-color: #0087ff\">      X       </span>│<span style=\"color: #af00d7; text-decoration-color: #af00d7\">          adata.X          </span>│\n",
                            "│<span style=\"color: #0087ff; text-decoration-color: #0087ff\">    batch     </span>│<span style=\"color: #af00d7; text-decoration-color: #af00d7\"> adata.obs['_scvi_batch']  </span>│\n",
                            "│<span style=\"color: #0087ff; text-decoration-color: #0087ff\">    ind_x     </span>│<span style=\"color: #af00d7; text-decoration-color: #af00d7\">   adata.obs['_indices']   </span>│\n",
                            "│<span style=\"color: #0087ff; text-decoration-color: #0087ff\">    labels    </span>│<span style=\"color: #af00d7; text-decoration-color: #af00d7\"> adata.obs['_scvi_labels'] </span>│\n",
                            "└──────────────┴───────────────────────────┘\n",
                            "</pre>\n"
                        ],
                        "text/plain": [
                            "\u001b[3m               Data Registry                \u001b[0m\n",
                            "┏━━━━━━━━━━━━━━┳━━━━━━━━━━━━━━━━━━━━━━━━━━━┓\n",
                            "┃\u001b[1m \u001b[0m\u001b[1mRegistry Key\u001b[0m\u001b[1m \u001b[0m┃\u001b[1m \u001b[0m\u001b[1m   scvi-tools Location   \u001b[0m\u001b[1m \u001b[0m┃\n",
                            "┡━━━━━━━━━━━━━━╇━━━━━━━━━━━━━━━━━━━━━━━━━━━┩\n",
                            "│\u001b[38;5;33m \u001b[0m\u001b[38;5;33m     X      \u001b[0m\u001b[38;5;33m \u001b[0m│\u001b[38;5;128m \u001b[0m\u001b[38;5;128m         adata.X         \u001b[0m\u001b[38;5;128m \u001b[0m│\n",
                            "│\u001b[38;5;33m \u001b[0m\u001b[38;5;33m   batch    \u001b[0m\u001b[38;5;33m \u001b[0m│\u001b[38;5;128m \u001b[0m\u001b[38;5;128madata.obs['_scvi_batch'] \u001b[0m\u001b[38;5;128m \u001b[0m│\n",
                            "│\u001b[38;5;33m \u001b[0m\u001b[38;5;33m   ind_x    \u001b[0m\u001b[38;5;33m \u001b[0m│\u001b[38;5;128m \u001b[0m\u001b[38;5;128m  adata.obs['_indices']  \u001b[0m\u001b[38;5;128m \u001b[0m│\n",
                            "│\u001b[38;5;33m \u001b[0m\u001b[38;5;33m   labels   \u001b[0m\u001b[38;5;33m \u001b[0m│\u001b[38;5;128m \u001b[0m\u001b[38;5;128madata.obs['_scvi_labels']\u001b[0m\u001b[38;5;128m \u001b[0m│\n",
                            "└──────────────┴───────────────────────────┘\n"
                        ]
                    },
                    "metadata": {},
                    "output_type": "display_data"
                },
                {
                    "data": {
                        "text/html": [
                            "<pre style=\"white-space:pre;overflow-x:auto;line-height:normal;font-family:Menlo,'DejaVu Sans Mono',consolas,'Courier New',monospace\"><span style=\"font-style: italic\">                           batch State Registry                            </span>\n",
                            "┏━━━━━━━━━━━━━━━━━━━━━┳━━━━━━━━━━━━━━━━━━━━━━━━━━━━━┳━━━━━━━━━━━━━━━━━━━━━┓\n",
                            "┃<span style=\"font-weight: bold\">   Source Location   </span>┃<span style=\"font-weight: bold\">         Categories          </span>┃<span style=\"font-weight: bold\"> scvi-tools Encoding </span>┃\n",
                            "┡━━━━━━━━━━━━━━━━━━━━━╇━━━━━━━━━━━━━━━━━━━━━━━━━━━━━╇━━━━━━━━━━━━━━━━━━━━━┩\n",
                            "│<span style=\"color: #0087ff; text-decoration-color: #0087ff\"> adata.obs['sample'] </span>│<span style=\"color: #008000; text-decoration-color: #008000\"> Visium_HD_Human_Lung_Cancer </span>│<span style=\"color: #af00d7; text-decoration-color: #af00d7\">          0          </span>│\n",
                            "└─────────────────────┴─────────────────────────────┴─────────────────────┘\n",
                            "</pre>\n"
                        ],
                        "text/plain": [
                            "\u001b[3m                           batch State Registry                            \u001b[0m\n",
                            "┏━━━━━━━━━━━━━━━━━━━━━┳━━━━━━━━━━━━━━━━━━━━━━━━━━━━━┳━━━━━━━━━━━━━━━━━━━━━┓\n",
                            "┃\u001b[1m \u001b[0m\u001b[1m  Source Location  \u001b[0m\u001b[1m \u001b[0m┃\u001b[1m \u001b[0m\u001b[1m        Categories         \u001b[0m\u001b[1m \u001b[0m┃\u001b[1m \u001b[0m\u001b[1mscvi-tools Encoding\u001b[0m\u001b[1m \u001b[0m┃\n",
                            "┡━━━━━━━━━━━━━━━━━━━━━╇━━━━━━━━━━━━━━━━━━━━━━━━━━━━━╇━━━━━━━━━━━━━━━━━━━━━┩\n",
                            "│\u001b[38;5;33m \u001b[0m\u001b[38;5;33madata.obs['sample']\u001b[0m\u001b[38;5;33m \u001b[0m│\u001b[32m \u001b[0m\u001b[32mVisium_HD_Human_Lung_Cancer\u001b[0m\u001b[32m \u001b[0m│\u001b[38;5;128m \u001b[0m\u001b[38;5;128m         0         \u001b[0m\u001b[38;5;128m \u001b[0m│\n",
                            "└─────────────────────┴─────────────────────────────┴─────────────────────┘\n"
                        ]
                    },
                    "metadata": {},
                    "output_type": "display_data"
                },
                {
                    "data": {
                        "text/html": [
                            "<pre style=\"white-space:pre;overflow-x:auto;line-height:normal;font-family:Menlo,'DejaVu Sans Mono',consolas,'Courier New',monospace\"><span style=\"font-style: italic\">                     labels State Registry                      </span>\n",
                            "┏━━━━━━━━━━━━━━━━━━━━━━━━━━━┳━━━━━━━━━━━━┳━━━━━━━━━━━━━━━━━━━━━┓\n",
                            "┃<span style=\"font-weight: bold\">      Source Location      </span>┃<span style=\"font-weight: bold\"> Categories </span>┃<span style=\"font-weight: bold\"> scvi-tools Encoding </span>┃\n",
                            "┡━━━━━━━━━━━━━━━━━━━━━━━━━━━╇━━━━━━━━━━━━╇━━━━━━━━━━━━━━━━━━━━━┩\n",
                            "│<span style=\"color: #0087ff; text-decoration-color: #0087ff\"> adata.obs['_scvi_labels'] </span>│<span style=\"color: #008000; text-decoration-color: #008000\">     0      </span>│<span style=\"color: #af00d7; text-decoration-color: #af00d7\">          0          </span>│\n",
                            "└───────────────────────────┴────────────┴─────────────────────┘\n",
                            "</pre>\n"
                        ],
                        "text/plain": [
                            "\u001b[3m                     labels State Registry                      \u001b[0m\n",
                            "┏━━━━━━━━━━━━━━━━━━━━━━━━━━━┳━━━━━━━━━━━━┳━━━━━━━━━━━━━━━━━━━━━┓\n",
                            "┃\u001b[1m \u001b[0m\u001b[1m     Source Location     \u001b[0m\u001b[1m \u001b[0m┃\u001b[1m \u001b[0m\u001b[1mCategories\u001b[0m\u001b[1m \u001b[0m┃\u001b[1m \u001b[0m\u001b[1mscvi-tools Encoding\u001b[0m\u001b[1m \u001b[0m┃\n",
                            "┡━━━━━━━━━━━━━━━━━━━━━━━━━━━╇━━━━━━━━━━━━╇━━━━━━━━━━━━━━━━━━━━━┩\n",
                            "│\u001b[38;5;33m \u001b[0m\u001b[38;5;33madata.obs['_scvi_labels']\u001b[0m\u001b[38;5;33m \u001b[0m│\u001b[32m \u001b[0m\u001b[32m    0     \u001b[0m\u001b[32m \u001b[0m│\u001b[38;5;128m \u001b[0m\u001b[38;5;128m         0         \u001b[0m\u001b[38;5;128m \u001b[0m│\n",
                            "└───────────────────────────┴────────────┴─────────────────────┘\n"
                        ]
                    },
                    "metadata": {},
                    "output_type": "display_data"
                },
                {
                    "name": "stderr",
                    "output_type": "stream",
                    "text": [
                        "GPU available: False, used: False\n",
                        "TPU available: False, using: 0 TPU cores\n",
                        "IPU available: False, using: 0 IPUs\n",
                        "HPU available: False, using: 0 HPUs\n",
                        "c:\\Users\\rafaelo\\OneDrive - NTNU\\Documents\\Projects\\venv\\lib\\site-packages\\lightning\\pytorch\\trainer\\configuration_validator.py:69: You passed in a `val_dataloader` but have no `validation_step`. Skipping val loop.\n",
                        "c:\\Users\\rafaelo\\OneDrive - NTNU\\Documents\\Projects\\venv\\lib\\site-packages\\lightning\\pytorch\\loops\\fit_loop.py:281: The number of training batches (1) is smaller than the logging interval Trainer(log_every_n_steps=10). Set a lower value for log_every_n_steps if you want to see logs for the training epoch.\n"
                    ]
                },
                {
                    "name": "stdout",
                    "output_type": "stream",
                    "text": [
                        "Epoch 1/500:   0%|          | 0/500 [00:00<?, ?it/s]"
                    ]
                },
                {
                    "ename": "RuntimeError",
                    "evalue": "[enforce fail at alloc_cpu.cpp:80] data. DefaultCPUAllocator: not enough memory: you tried to allocate 5319855424 bytes.",
                    "output_type": "error",
                    "traceback": [
                        "\u001b[1;31m---------------------------------------------------------------------------\u001b[0m",
                        "\u001b[1;31mRuntimeError\u001b[0m                              Traceback (most recent call last)",
                        "Cell \u001b[1;32mIn[19], line 15\u001b[0m\n\u001b[0;32m      3\u001b[0m mod \u001b[38;5;241m=\u001b[39m Cell2location(\n\u001b[0;32m      4\u001b[0m     adata_vis,\n\u001b[0;32m      5\u001b[0m     cell_state_df\u001b[38;5;241m=\u001b[39minf_aver,\n\u001b[1;32m   (...)\u001b[0m\n\u001b[0;32m     11\u001b[0m     detection_alpha\u001b[38;5;241m=\u001b[39m\u001b[38;5;241m200\u001b[39m,\n\u001b[0;32m     12\u001b[0m )\n\u001b[0;32m     13\u001b[0m mod\u001b[38;5;241m.\u001b[39mview_anndata_setup()\n\u001b[1;32m---> 15\u001b[0m \u001b[43mmod\u001b[49m\u001b[38;5;241;43m.\u001b[39;49m\u001b[43mtrain\u001b[49m\u001b[43m(\u001b[49m\n\u001b[0;32m     16\u001b[0m \u001b[43m    \u001b[49m\u001b[43mmax_epochs\u001b[49m\u001b[38;5;241;43m=\u001b[39;49m\u001b[38;5;241;43m500\u001b[39;49m\u001b[43m,\u001b[49m\n\u001b[0;32m     17\u001b[0m \u001b[43m    \u001b[49m\u001b[38;5;66;43;03m# train using full data (batch_size=None)\u001b[39;49;00m\n\u001b[0;32m     18\u001b[0m \u001b[43m    \u001b[49m\u001b[43mbatch_size\u001b[49m\u001b[38;5;241;43m=\u001b[39;49m\u001b[38;5;28;43;01mNone\u001b[39;49;00m\u001b[43m,\u001b[49m\n\u001b[0;32m     19\u001b[0m \u001b[43m    \u001b[49m\u001b[38;5;66;43;03m# use all data points in training because\u001b[39;49;00m\n\u001b[0;32m     20\u001b[0m \u001b[43m    \u001b[49m\u001b[38;5;66;43;03m# we need to estimate cell abundance at all locations\u001b[39;49;00m\n\u001b[0;32m     21\u001b[0m \u001b[43m    \u001b[49m\u001b[43mtrain_size\u001b[49m\u001b[38;5;241;43m=\u001b[39;49m\u001b[38;5;241;43m1\u001b[39;49m\u001b[43m,\u001b[49m\n\u001b[0;32m     22\u001b[0m \u001b[43m)\u001b[49m\n\u001b[0;32m     24\u001b[0m \u001b[38;5;66;03m# plot ELBO loss history during training, removing first 100 epochs from the plot\u001b[39;00m\n\u001b[0;32m     25\u001b[0m mod\u001b[38;5;241m.\u001b[39mplot_history(\u001b[38;5;241m200\u001b[39m)\n",
                        "File \u001b[1;32mc:\\Users\\rafaelo\\OneDrive - NTNU\\Documents\\Projects\\venv\\lib\\site-packages\\cell2location\\models\\_cell2location_model.py:209\u001b[0m, in \u001b[0;36mCell2location.train\u001b[1;34m(self, max_epochs, batch_size, train_size, lr, num_particles, scale_elbo, **kwargs)\u001b[0m\n\u001b[0;32m    206\u001b[0m         scale_elbo \u001b[38;5;241m=\u001b[39m \u001b[38;5;241m1.0\u001b[39m \u001b[38;5;241m/\u001b[39m (\u001b[38;5;28mself\u001b[39m\u001b[38;5;241m.\u001b[39msummary_stats[\u001b[38;5;124m\"\u001b[39m\u001b[38;5;124mn_cells\u001b[39m\u001b[38;5;124m\"\u001b[39m] \u001b[38;5;241m*\u001b[39m \u001b[38;5;28mself\u001b[39m\u001b[38;5;241m.\u001b[39msummary_stats[\u001b[38;5;124m\"\u001b[39m\u001b[38;5;124mn_vars\u001b[39m\u001b[38;5;124m\"\u001b[39m])\n\u001b[0;32m    207\u001b[0m     kwargs[\u001b[38;5;124m\"\u001b[39m\u001b[38;5;124mplan_kwargs\u001b[39m\u001b[38;5;124m\"\u001b[39m][\u001b[38;5;124m\"\u001b[39m\u001b[38;5;124mscale_elbo\u001b[39m\u001b[38;5;124m\"\u001b[39m] \u001b[38;5;241m=\u001b[39m scale_elbo\n\u001b[1;32m--> 209\u001b[0m \u001b[38;5;28msuper\u001b[39m()\u001b[38;5;241m.\u001b[39mtrain(\u001b[38;5;241m*\u001b[39m\u001b[38;5;241m*\u001b[39mkwargs)\n",
                        "File \u001b[1;32mc:\\Users\\rafaelo\\OneDrive - NTNU\\Documents\\Projects\\venv\\lib\\site-packages\\scvi\\model\\base\\_pyromixin.py:184\u001b[0m, in \u001b[0;36mPyroSviTrainMixin.train\u001b[1;34m(self, max_epochs, use_gpu, accelerator, device, train_size, validation_size, shuffle_set_split, batch_size, early_stopping, lr, training_plan, plan_kwargs, **trainer_kwargs)\u001b[0m\n\u001b[0;32m    172\u001b[0m trainer_kwargs[\u001b[38;5;124m\"\u001b[39m\u001b[38;5;124mcallbacks\u001b[39m\u001b[38;5;124m\"\u001b[39m]\u001b[38;5;241m.\u001b[39mappend(PyroJitGuideWarmup())\n\u001b[0;32m    174\u001b[0m runner \u001b[38;5;241m=\u001b[39m \u001b[38;5;28mself\u001b[39m\u001b[38;5;241m.\u001b[39m_train_runner_cls(\n\u001b[0;32m    175\u001b[0m     \u001b[38;5;28mself\u001b[39m,\n\u001b[0;32m    176\u001b[0m     training_plan\u001b[38;5;241m=\u001b[39mtraining_plan,\n\u001b[1;32m   (...)\u001b[0m\n\u001b[0;32m    182\u001b[0m     \u001b[38;5;241m*\u001b[39m\u001b[38;5;241m*\u001b[39mtrainer_kwargs,\n\u001b[0;32m    183\u001b[0m )\n\u001b[1;32m--> 184\u001b[0m \u001b[38;5;28;01mreturn\u001b[39;00m \u001b[43mrunner\u001b[49m\u001b[43m(\u001b[49m\u001b[43m)\u001b[49m\n",
                        "File \u001b[1;32mc:\\Users\\rafaelo\\OneDrive - NTNU\\Documents\\Projects\\venv\\lib\\site-packages\\scvi\\train\\_trainrunner.py:99\u001b[0m, in \u001b[0;36mTrainRunner.__call__\u001b[1;34m(self)\u001b[0m\n\u001b[0;32m     96\u001b[0m \u001b[38;5;28;01mif\u001b[39;00m \u001b[38;5;28mhasattr\u001b[39m(\u001b[38;5;28mself\u001b[39m\u001b[38;5;241m.\u001b[39mdata_splitter, \u001b[38;5;124m\"\u001b[39m\u001b[38;5;124mn_val\u001b[39m\u001b[38;5;124m\"\u001b[39m):\n\u001b[0;32m     97\u001b[0m     \u001b[38;5;28mself\u001b[39m\u001b[38;5;241m.\u001b[39mtraining_plan\u001b[38;5;241m.\u001b[39mn_obs_validation \u001b[38;5;241m=\u001b[39m \u001b[38;5;28mself\u001b[39m\u001b[38;5;241m.\u001b[39mdata_splitter\u001b[38;5;241m.\u001b[39mn_val\n\u001b[1;32m---> 99\u001b[0m \u001b[38;5;28;43mself\u001b[39;49m\u001b[38;5;241;43m.\u001b[39;49m\u001b[43mtrainer\u001b[49m\u001b[38;5;241;43m.\u001b[39;49m\u001b[43mfit\u001b[49m\u001b[43m(\u001b[49m\u001b[38;5;28;43mself\u001b[39;49m\u001b[38;5;241;43m.\u001b[39;49m\u001b[43mtraining_plan\u001b[49m\u001b[43m,\u001b[49m\u001b[43m \u001b[49m\u001b[38;5;28;43mself\u001b[39;49m\u001b[38;5;241;43m.\u001b[39;49m\u001b[43mdata_splitter\u001b[49m\u001b[43m)\u001b[49m\n\u001b[0;32m    100\u001b[0m \u001b[38;5;28mself\u001b[39m\u001b[38;5;241m.\u001b[39m_update_history()\n\u001b[0;32m    102\u001b[0m \u001b[38;5;66;03m# data splitter only gets these attrs after fit\u001b[39;00m\n",
                        "File \u001b[1;32mc:\\Users\\rafaelo\\OneDrive - NTNU\\Documents\\Projects\\venv\\lib\\site-packages\\scvi\\train\\_trainer.py:186\u001b[0m, in \u001b[0;36mTrainer.fit\u001b[1;34m(self, *args, **kwargs)\u001b[0m\n\u001b[0;32m    180\u001b[0m \u001b[38;5;28;01mif\u001b[39;00m \u001b[38;5;28misinstance\u001b[39m(args[\u001b[38;5;241m0\u001b[39m], PyroTrainingPlan):\n\u001b[0;32m    181\u001b[0m     warnings\u001b[38;5;241m.\u001b[39mfilterwarnings(\n\u001b[0;32m    182\u001b[0m         action\u001b[38;5;241m=\u001b[39m\u001b[38;5;124m\"\u001b[39m\u001b[38;5;124mignore\u001b[39m\u001b[38;5;124m\"\u001b[39m,\n\u001b[0;32m    183\u001b[0m         category\u001b[38;5;241m=\u001b[39m\u001b[38;5;167;01mUserWarning\u001b[39;00m,\n\u001b[0;32m    184\u001b[0m         message\u001b[38;5;241m=\u001b[39m\u001b[38;5;124m\"\u001b[39m\u001b[38;5;124m`LightningModule.configure_optimizers` returned `None`\u001b[39m\u001b[38;5;124m\"\u001b[39m,\n\u001b[0;32m    185\u001b[0m     )\n\u001b[1;32m--> 186\u001b[0m \u001b[38;5;28msuper\u001b[39m()\u001b[38;5;241m.\u001b[39mfit(\u001b[38;5;241m*\u001b[39margs, \u001b[38;5;241m*\u001b[39m\u001b[38;5;241m*\u001b[39mkwargs)\n",
                        "File \u001b[1;32mc:\\Users\\rafaelo\\OneDrive - NTNU\\Documents\\Projects\\venv\\lib\\site-packages\\lightning\\pytorch\\trainer\\trainer.py:532\u001b[0m, in \u001b[0;36mTrainer.fit\u001b[1;34m(self, model, train_dataloaders, val_dataloaders, datamodule, ckpt_path)\u001b[0m\n\u001b[0;32m    530\u001b[0m \u001b[38;5;28mself\u001b[39m\u001b[38;5;241m.\u001b[39mstrategy\u001b[38;5;241m.\u001b[39m_lightning_module \u001b[38;5;241m=\u001b[39m model\n\u001b[0;32m    531\u001b[0m _verify_strategy_supports_compile(model, \u001b[38;5;28mself\u001b[39m\u001b[38;5;241m.\u001b[39mstrategy)\n\u001b[1;32m--> 532\u001b[0m \u001b[43mcall\u001b[49m\u001b[38;5;241;43m.\u001b[39;49m\u001b[43m_call_and_handle_interrupt\u001b[49m\u001b[43m(\u001b[49m\n\u001b[0;32m    533\u001b[0m \u001b[43m    \u001b[49m\u001b[38;5;28;43mself\u001b[39;49m\u001b[43m,\u001b[49m\u001b[43m \u001b[49m\u001b[38;5;28;43mself\u001b[39;49m\u001b[38;5;241;43m.\u001b[39;49m\u001b[43m_fit_impl\u001b[49m\u001b[43m,\u001b[49m\u001b[43m \u001b[49m\u001b[43mmodel\u001b[49m\u001b[43m,\u001b[49m\u001b[43m \u001b[49m\u001b[43mtrain_dataloaders\u001b[49m\u001b[43m,\u001b[49m\u001b[43m \u001b[49m\u001b[43mval_dataloaders\u001b[49m\u001b[43m,\u001b[49m\u001b[43m \u001b[49m\u001b[43mdatamodule\u001b[49m\u001b[43m,\u001b[49m\u001b[43m \u001b[49m\u001b[43mckpt_path\u001b[49m\n\u001b[0;32m    534\u001b[0m \u001b[43m\u001b[49m\u001b[43m)\u001b[49m\n",
                        "File \u001b[1;32mc:\\Users\\rafaelo\\OneDrive - NTNU\\Documents\\Projects\\venv\\lib\\site-packages\\lightning\\pytorch\\trainer\\call.py:43\u001b[0m, in \u001b[0;36m_call_and_handle_interrupt\u001b[1;34m(trainer, trainer_fn, *args, **kwargs)\u001b[0m\n\u001b[0;32m     41\u001b[0m     \u001b[38;5;28;01mif\u001b[39;00m trainer\u001b[38;5;241m.\u001b[39mstrategy\u001b[38;5;241m.\u001b[39mlauncher \u001b[38;5;129;01mis\u001b[39;00m \u001b[38;5;129;01mnot\u001b[39;00m \u001b[38;5;28;01mNone\u001b[39;00m:\n\u001b[0;32m     42\u001b[0m         \u001b[38;5;28;01mreturn\u001b[39;00m trainer\u001b[38;5;241m.\u001b[39mstrategy\u001b[38;5;241m.\u001b[39mlauncher\u001b[38;5;241m.\u001b[39mlaunch(trainer_fn, \u001b[38;5;241m*\u001b[39margs, trainer\u001b[38;5;241m=\u001b[39mtrainer, \u001b[38;5;241m*\u001b[39m\u001b[38;5;241m*\u001b[39mkwargs)\n\u001b[1;32m---> 43\u001b[0m     \u001b[38;5;28;01mreturn\u001b[39;00m trainer_fn(\u001b[38;5;241m*\u001b[39margs, \u001b[38;5;241m*\u001b[39m\u001b[38;5;241m*\u001b[39mkwargs)\n\u001b[0;32m     45\u001b[0m \u001b[38;5;28;01mexcept\u001b[39;00m _TunerExitException:\n\u001b[0;32m     46\u001b[0m     _call_teardown_hook(trainer)\n",
                        "File \u001b[1;32mc:\\Users\\rafaelo\\OneDrive - NTNU\\Documents\\Projects\\venv\\lib\\site-packages\\lightning\\pytorch\\trainer\\trainer.py:571\u001b[0m, in \u001b[0;36mTrainer._fit_impl\u001b[1;34m(self, model, train_dataloaders, val_dataloaders, datamodule, ckpt_path)\u001b[0m\n\u001b[0;32m    561\u001b[0m \u001b[38;5;28mself\u001b[39m\u001b[38;5;241m.\u001b[39m_data_connector\u001b[38;5;241m.\u001b[39mattach_data(\n\u001b[0;32m    562\u001b[0m     model, train_dataloaders\u001b[38;5;241m=\u001b[39mtrain_dataloaders, val_dataloaders\u001b[38;5;241m=\u001b[39mval_dataloaders, datamodule\u001b[38;5;241m=\u001b[39mdatamodule\n\u001b[0;32m    563\u001b[0m )\n\u001b[0;32m    565\u001b[0m ckpt_path \u001b[38;5;241m=\u001b[39m \u001b[38;5;28mself\u001b[39m\u001b[38;5;241m.\u001b[39m_checkpoint_connector\u001b[38;5;241m.\u001b[39m_select_ckpt_path(\n\u001b[0;32m    566\u001b[0m     \u001b[38;5;28mself\u001b[39m\u001b[38;5;241m.\u001b[39mstate\u001b[38;5;241m.\u001b[39mfn,\n\u001b[0;32m    567\u001b[0m     ckpt_path,\n\u001b[0;32m    568\u001b[0m     model_provided\u001b[38;5;241m=\u001b[39m\u001b[38;5;28;01mTrue\u001b[39;00m,\n\u001b[0;32m    569\u001b[0m     model_connected\u001b[38;5;241m=\u001b[39m\u001b[38;5;28mself\u001b[39m\u001b[38;5;241m.\u001b[39mlightning_module \u001b[38;5;129;01mis\u001b[39;00m \u001b[38;5;129;01mnot\u001b[39;00m \u001b[38;5;28;01mNone\u001b[39;00m,\n\u001b[0;32m    570\u001b[0m )\n\u001b[1;32m--> 571\u001b[0m \u001b[38;5;28;43mself\u001b[39;49m\u001b[38;5;241;43m.\u001b[39;49m\u001b[43m_run\u001b[49m\u001b[43m(\u001b[49m\u001b[43mmodel\u001b[49m\u001b[43m,\u001b[49m\u001b[43m \u001b[49m\u001b[43mckpt_path\u001b[49m\u001b[38;5;241;43m=\u001b[39;49m\u001b[43mckpt_path\u001b[49m\u001b[43m)\u001b[49m\n\u001b[0;32m    573\u001b[0m \u001b[38;5;28;01massert\u001b[39;00m \u001b[38;5;28mself\u001b[39m\u001b[38;5;241m.\u001b[39mstate\u001b[38;5;241m.\u001b[39mstopped\n\u001b[0;32m    574\u001b[0m \u001b[38;5;28mself\u001b[39m\u001b[38;5;241m.\u001b[39mtraining \u001b[38;5;241m=\u001b[39m \u001b[38;5;28;01mFalse\u001b[39;00m\n",
                        "File \u001b[1;32mc:\\Users\\rafaelo\\OneDrive - NTNU\\Documents\\Projects\\venv\\lib\\site-packages\\lightning\\pytorch\\trainer\\trainer.py:980\u001b[0m, in \u001b[0;36mTrainer._run\u001b[1;34m(self, model, ckpt_path)\u001b[0m\n\u001b[0;32m    975\u001b[0m \u001b[38;5;28mself\u001b[39m\u001b[38;5;241m.\u001b[39m_signal_connector\u001b[38;5;241m.\u001b[39mregister_signal_handlers()\n\u001b[0;32m    977\u001b[0m \u001b[38;5;66;03m# ----------------------------\u001b[39;00m\n\u001b[0;32m    978\u001b[0m \u001b[38;5;66;03m# RUN THE TRAINER\u001b[39;00m\n\u001b[0;32m    979\u001b[0m \u001b[38;5;66;03m# ----------------------------\u001b[39;00m\n\u001b[1;32m--> 980\u001b[0m results \u001b[38;5;241m=\u001b[39m \u001b[38;5;28;43mself\u001b[39;49m\u001b[38;5;241;43m.\u001b[39;49m\u001b[43m_run_stage\u001b[49m\u001b[43m(\u001b[49m\u001b[43m)\u001b[49m\n\u001b[0;32m    982\u001b[0m \u001b[38;5;66;03m# ----------------------------\u001b[39;00m\n\u001b[0;32m    983\u001b[0m \u001b[38;5;66;03m# POST-Training CLEAN UP\u001b[39;00m\n\u001b[0;32m    984\u001b[0m \u001b[38;5;66;03m# ----------------------------\u001b[39;00m\n\u001b[0;32m    985\u001b[0m log\u001b[38;5;241m.\u001b[39mdebug(\u001b[38;5;124mf\u001b[39m\u001b[38;5;124m\"\u001b[39m\u001b[38;5;132;01m{\u001b[39;00m\u001b[38;5;28mself\u001b[39m\u001b[38;5;241m.\u001b[39m\u001b[38;5;18m__class__\u001b[39m\u001b[38;5;241m.\u001b[39m\u001b[38;5;18m__name__\u001b[39m\u001b[38;5;132;01m}\u001b[39;00m\u001b[38;5;124m: trainer tearing down\u001b[39m\u001b[38;5;124m\"\u001b[39m)\n",
                        "File \u001b[1;32mc:\\Users\\rafaelo\\OneDrive - NTNU\\Documents\\Projects\\venv\\lib\\site-packages\\lightning\\pytorch\\trainer\\trainer.py:1023\u001b[0m, in \u001b[0;36mTrainer._run_stage\u001b[1;34m(self)\u001b[0m\n\u001b[0;32m   1021\u001b[0m         \u001b[38;5;28mself\u001b[39m\u001b[38;5;241m.\u001b[39m_run_sanity_check()\n\u001b[0;32m   1022\u001b[0m     \u001b[38;5;28;01mwith\u001b[39;00m torch\u001b[38;5;241m.\u001b[39mautograd\u001b[38;5;241m.\u001b[39mset_detect_anomaly(\u001b[38;5;28mself\u001b[39m\u001b[38;5;241m.\u001b[39m_detect_anomaly):\n\u001b[1;32m-> 1023\u001b[0m         \u001b[38;5;28;43mself\u001b[39;49m\u001b[38;5;241;43m.\u001b[39;49m\u001b[43mfit_loop\u001b[49m\u001b[38;5;241;43m.\u001b[39;49m\u001b[43mrun\u001b[49m\u001b[43m(\u001b[49m\u001b[43m)\u001b[49m\n\u001b[0;32m   1024\u001b[0m     \u001b[38;5;28;01mreturn\u001b[39;00m \u001b[38;5;28;01mNone\u001b[39;00m\n\u001b[0;32m   1025\u001b[0m \u001b[38;5;28;01mraise\u001b[39;00m \u001b[38;5;167;01mRuntimeError\u001b[39;00m(\u001b[38;5;124mf\u001b[39m\u001b[38;5;124m\"\u001b[39m\u001b[38;5;124mUnexpected state \u001b[39m\u001b[38;5;132;01m{\u001b[39;00m\u001b[38;5;28mself\u001b[39m\u001b[38;5;241m.\u001b[39mstate\u001b[38;5;132;01m}\u001b[39;00m\u001b[38;5;124m\"\u001b[39m)\n",
                        "File \u001b[1;32mc:\\Users\\rafaelo\\OneDrive - NTNU\\Documents\\Projects\\venv\\lib\\site-packages\\lightning\\pytorch\\loops\\fit_loop.py:202\u001b[0m, in \u001b[0;36m_FitLoop.run\u001b[1;34m(self)\u001b[0m\n\u001b[0;32m    200\u001b[0m \u001b[38;5;28;01mtry\u001b[39;00m:\n\u001b[0;32m    201\u001b[0m     \u001b[38;5;28mself\u001b[39m\u001b[38;5;241m.\u001b[39mon_advance_start()\n\u001b[1;32m--> 202\u001b[0m     \u001b[38;5;28;43mself\u001b[39;49m\u001b[38;5;241;43m.\u001b[39;49m\u001b[43madvance\u001b[49m\u001b[43m(\u001b[49m\u001b[43m)\u001b[49m\n\u001b[0;32m    203\u001b[0m     \u001b[38;5;28mself\u001b[39m\u001b[38;5;241m.\u001b[39mon_advance_end()\n\u001b[0;32m    204\u001b[0m     \u001b[38;5;28mself\u001b[39m\u001b[38;5;241m.\u001b[39m_restarting \u001b[38;5;241m=\u001b[39m \u001b[38;5;28;01mFalse\u001b[39;00m\n",
                        "File \u001b[1;32mc:\\Users\\rafaelo\\OneDrive - NTNU\\Documents\\Projects\\venv\\lib\\site-packages\\lightning\\pytorch\\loops\\fit_loop.py:355\u001b[0m, in \u001b[0;36m_FitLoop.advance\u001b[1;34m(self)\u001b[0m\n\u001b[0;32m    353\u001b[0m \u001b[38;5;28mself\u001b[39m\u001b[38;5;241m.\u001b[39m_data_fetcher\u001b[38;5;241m.\u001b[39msetup(combined_loader)\n\u001b[0;32m    354\u001b[0m \u001b[38;5;28;01mwith\u001b[39;00m \u001b[38;5;28mself\u001b[39m\u001b[38;5;241m.\u001b[39mtrainer\u001b[38;5;241m.\u001b[39mprofiler\u001b[38;5;241m.\u001b[39mprofile(\u001b[38;5;124m\"\u001b[39m\u001b[38;5;124mrun_training_epoch\u001b[39m\u001b[38;5;124m\"\u001b[39m):\n\u001b[1;32m--> 355\u001b[0m     \u001b[38;5;28;43mself\u001b[39;49m\u001b[38;5;241;43m.\u001b[39;49m\u001b[43mepoch_loop\u001b[49m\u001b[38;5;241;43m.\u001b[39;49m\u001b[43mrun\u001b[49m\u001b[43m(\u001b[49m\u001b[38;5;28;43mself\u001b[39;49m\u001b[38;5;241;43m.\u001b[39;49m\u001b[43m_data_fetcher\u001b[49m\u001b[43m)\u001b[49m\n",
                        "File \u001b[1;32mc:\\Users\\rafaelo\\OneDrive - NTNU\\Documents\\Projects\\venv\\lib\\site-packages\\lightning\\pytorch\\loops\\training_epoch_loop.py:133\u001b[0m, in \u001b[0;36m_TrainingEpochLoop.run\u001b[1;34m(self, data_fetcher)\u001b[0m\n\u001b[0;32m    131\u001b[0m \u001b[38;5;28;01mwhile\u001b[39;00m \u001b[38;5;129;01mnot\u001b[39;00m \u001b[38;5;28mself\u001b[39m\u001b[38;5;241m.\u001b[39mdone:\n\u001b[0;32m    132\u001b[0m     \u001b[38;5;28;01mtry\u001b[39;00m:\n\u001b[1;32m--> 133\u001b[0m         \u001b[38;5;28;43mself\u001b[39;49m\u001b[38;5;241;43m.\u001b[39;49m\u001b[43madvance\u001b[49m\u001b[43m(\u001b[49m\u001b[43mdata_fetcher\u001b[49m\u001b[43m)\u001b[49m\n\u001b[0;32m    134\u001b[0m         \u001b[38;5;28mself\u001b[39m\u001b[38;5;241m.\u001b[39mon_advance_end()\n\u001b[0;32m    135\u001b[0m         \u001b[38;5;28mself\u001b[39m\u001b[38;5;241m.\u001b[39m_restarting \u001b[38;5;241m=\u001b[39m \u001b[38;5;28;01mFalse\u001b[39;00m\n",
                        "File \u001b[1;32mc:\\Users\\rafaelo\\OneDrive - NTNU\\Documents\\Projects\\venv\\lib\\site-packages\\lightning\\pytorch\\loops\\training_epoch_loop.py:221\u001b[0m, in \u001b[0;36m_TrainingEpochLoop.advance\u001b[1;34m(self, data_fetcher)\u001b[0m\n\u001b[0;32m    219\u001b[0m             batch_output \u001b[38;5;241m=\u001b[39m \u001b[38;5;28mself\u001b[39m\u001b[38;5;241m.\u001b[39mautomatic_optimization\u001b[38;5;241m.\u001b[39mrun(trainer\u001b[38;5;241m.\u001b[39moptimizers[\u001b[38;5;241m0\u001b[39m], kwargs)\n\u001b[0;32m    220\u001b[0m         \u001b[38;5;28;01melse\u001b[39;00m:\n\u001b[1;32m--> 221\u001b[0m             batch_output \u001b[38;5;241m=\u001b[39m \u001b[38;5;28;43mself\u001b[39;49m\u001b[38;5;241;43m.\u001b[39;49m\u001b[43mmanual_optimization\u001b[49m\u001b[38;5;241;43m.\u001b[39;49m\u001b[43mrun\u001b[49m\u001b[43m(\u001b[49m\u001b[43mkwargs\u001b[49m\u001b[43m)\u001b[49m\n\u001b[0;32m    223\u001b[0m \u001b[38;5;28mself\u001b[39m\u001b[38;5;241m.\u001b[39mbatch_progress\u001b[38;5;241m.\u001b[39mincrement_processed()\n\u001b[0;32m    225\u001b[0m \u001b[38;5;66;03m# update non-plateau LR schedulers\u001b[39;00m\n\u001b[0;32m    226\u001b[0m \u001b[38;5;66;03m# update epoch-interval ones only when we are at the end of training epoch\u001b[39;00m\n",
                        "File \u001b[1;32mc:\\Users\\rafaelo\\OneDrive - NTNU\\Documents\\Projects\\venv\\lib\\site-packages\\lightning\\pytorch\\loops\\optimization\\manual.py:91\u001b[0m, in \u001b[0;36m_ManualOptimization.run\u001b[1;34m(self, kwargs)\u001b[0m\n\u001b[0;32m     89\u001b[0m \u001b[38;5;28mself\u001b[39m\u001b[38;5;241m.\u001b[39mon_run_start()\n\u001b[0;32m     90\u001b[0m \u001b[38;5;28;01mwith\u001b[39;00m suppress(\u001b[38;5;167;01mStopIteration\u001b[39;00m):  \u001b[38;5;66;03m# no loop to break at this level\u001b[39;00m\n\u001b[1;32m---> 91\u001b[0m     \u001b[38;5;28;43mself\u001b[39;49m\u001b[38;5;241;43m.\u001b[39;49m\u001b[43madvance\u001b[49m\u001b[43m(\u001b[49m\u001b[43mkwargs\u001b[49m\u001b[43m)\u001b[49m\n\u001b[0;32m     92\u001b[0m \u001b[38;5;28mself\u001b[39m\u001b[38;5;241m.\u001b[39m_restarting \u001b[38;5;241m=\u001b[39m \u001b[38;5;28;01mFalse\u001b[39;00m\n\u001b[0;32m     93\u001b[0m \u001b[38;5;28;01mreturn\u001b[39;00m \u001b[38;5;28mself\u001b[39m\u001b[38;5;241m.\u001b[39mon_run_end()\n",
                        "File \u001b[1;32mc:\\Users\\rafaelo\\OneDrive - NTNU\\Documents\\Projects\\venv\\lib\\site-packages\\lightning\\pytorch\\loops\\optimization\\manual.py:111\u001b[0m, in \u001b[0;36m_ManualOptimization.advance\u001b[1;34m(self, kwargs)\u001b[0m\n\u001b[0;32m    108\u001b[0m trainer \u001b[38;5;241m=\u001b[39m \u001b[38;5;28mself\u001b[39m\u001b[38;5;241m.\u001b[39mtrainer\n\u001b[0;32m    110\u001b[0m \u001b[38;5;66;03m# manually capture logged metrics\u001b[39;00m\n\u001b[1;32m--> 111\u001b[0m training_step_output \u001b[38;5;241m=\u001b[39m \u001b[43mcall\u001b[49m\u001b[38;5;241;43m.\u001b[39;49m\u001b[43m_call_strategy_hook\u001b[49m\u001b[43m(\u001b[49m\u001b[43mtrainer\u001b[49m\u001b[43m,\u001b[49m\u001b[43m \u001b[49m\u001b[38;5;124;43m\"\u001b[39;49m\u001b[38;5;124;43mtraining_step\u001b[39;49m\u001b[38;5;124;43m\"\u001b[39;49m\u001b[43m,\u001b[49m\u001b[43m \u001b[49m\u001b[38;5;241;43m*\u001b[39;49m\u001b[43mkwargs\u001b[49m\u001b[38;5;241;43m.\u001b[39;49m\u001b[43mvalues\u001b[49m\u001b[43m(\u001b[49m\u001b[43m)\u001b[49m\u001b[43m)\u001b[49m\n\u001b[0;32m    112\u001b[0m \u001b[38;5;28;01mdel\u001b[39;00m kwargs  \u001b[38;5;66;03m# release the batch from memory\u001b[39;00m\n\u001b[0;32m    113\u001b[0m \u001b[38;5;28mself\u001b[39m\u001b[38;5;241m.\u001b[39mtrainer\u001b[38;5;241m.\u001b[39mstrategy\u001b[38;5;241m.\u001b[39mpost_training_step()\n",
                        "File \u001b[1;32mc:\\Users\\rafaelo\\OneDrive - NTNU\\Documents\\Projects\\venv\\lib\\site-packages\\lightning\\pytorch\\trainer\\call.py:294\u001b[0m, in \u001b[0;36m_call_strategy_hook\u001b[1;34m(trainer, hook_name, *args, **kwargs)\u001b[0m\n\u001b[0;32m    291\u001b[0m     \u001b[38;5;28;01mreturn\u001b[39;00m \u001b[38;5;28;01mNone\u001b[39;00m\n\u001b[0;32m    293\u001b[0m \u001b[38;5;28;01mwith\u001b[39;00m trainer\u001b[38;5;241m.\u001b[39mprofiler\u001b[38;5;241m.\u001b[39mprofile(\u001b[38;5;124mf\u001b[39m\u001b[38;5;124m\"\u001b[39m\u001b[38;5;124m[Strategy]\u001b[39m\u001b[38;5;132;01m{\u001b[39;00mtrainer\u001b[38;5;241m.\u001b[39mstrategy\u001b[38;5;241m.\u001b[39m\u001b[38;5;18m__class__\u001b[39m\u001b[38;5;241m.\u001b[39m\u001b[38;5;18m__name__\u001b[39m\u001b[38;5;132;01m}\u001b[39;00m\u001b[38;5;124m.\u001b[39m\u001b[38;5;132;01m{\u001b[39;00mhook_name\u001b[38;5;132;01m}\u001b[39;00m\u001b[38;5;124m\"\u001b[39m):\n\u001b[1;32m--> 294\u001b[0m     output \u001b[38;5;241m=\u001b[39m fn(\u001b[38;5;241m*\u001b[39margs, \u001b[38;5;241m*\u001b[39m\u001b[38;5;241m*\u001b[39mkwargs)\n\u001b[0;32m    296\u001b[0m \u001b[38;5;66;03m# restore current_fx when nested context\u001b[39;00m\n\u001b[0;32m    297\u001b[0m pl_module\u001b[38;5;241m.\u001b[39m_current_fx_name \u001b[38;5;241m=\u001b[39m prev_fx_name\n",
                        "File \u001b[1;32mc:\\Users\\rafaelo\\OneDrive - NTNU\\Documents\\Projects\\venv\\lib\\site-packages\\lightning\\pytorch\\strategies\\strategy.py:380\u001b[0m, in \u001b[0;36mStrategy.training_step\u001b[1;34m(self, *args, **kwargs)\u001b[0m\n\u001b[0;32m    378\u001b[0m \u001b[38;5;28;01mwith\u001b[39;00m \u001b[38;5;28mself\u001b[39m\u001b[38;5;241m.\u001b[39mprecision_plugin\u001b[38;5;241m.\u001b[39mtrain_step_context():\n\u001b[0;32m    379\u001b[0m     \u001b[38;5;28;01massert\u001b[39;00m \u001b[38;5;28misinstance\u001b[39m(\u001b[38;5;28mself\u001b[39m\u001b[38;5;241m.\u001b[39mmodel, TrainingStep)\n\u001b[1;32m--> 380\u001b[0m     \u001b[38;5;28;01mreturn\u001b[39;00m \u001b[38;5;28mself\u001b[39m\u001b[38;5;241m.\u001b[39mmodel\u001b[38;5;241m.\u001b[39mtraining_step(\u001b[38;5;241m*\u001b[39margs, \u001b[38;5;241m*\u001b[39m\u001b[38;5;241m*\u001b[39mkwargs)\n",
                        "File \u001b[1;32mc:\\Users\\rafaelo\\OneDrive - NTNU\\Documents\\Projects\\venv\\lib\\site-packages\\scvi\\train\\_trainingplans.py:1041\u001b[0m, in \u001b[0;36mPyroTrainingPlan.training_step\u001b[1;34m(self, batch, batch_idx)\u001b[0m\n\u001b[0;32m   1039\u001b[0m     kwargs\u001b[38;5;241m.\u001b[39mupdate({\u001b[38;5;124m\"\u001b[39m\u001b[38;5;124mkl_weight\u001b[39m\u001b[38;5;124m\"\u001b[39m: \u001b[38;5;28mself\u001b[39m\u001b[38;5;241m.\u001b[39mkl_weight})\n\u001b[0;32m   1040\u001b[0m \u001b[38;5;66;03m# pytorch lightning requires a Tensor object for loss\u001b[39;00m\n\u001b[1;32m-> 1041\u001b[0m loss \u001b[38;5;241m=\u001b[39m torch\u001b[38;5;241m.\u001b[39mTensor([\u001b[38;5;28mself\u001b[39m\u001b[38;5;241m.\u001b[39msvi\u001b[38;5;241m.\u001b[39mstep(\u001b[38;5;241m*\u001b[39margs, \u001b[38;5;241m*\u001b[39m\u001b[38;5;241m*\u001b[39mkwargs)])\n\u001b[0;32m   1043\u001b[0m _opt \u001b[38;5;241m=\u001b[39m \u001b[38;5;28mself\u001b[39m\u001b[38;5;241m.\u001b[39moptimizers()\n\u001b[0;32m   1044\u001b[0m _opt\u001b[38;5;241m.\u001b[39mstep()\n",
                        "File \u001b[1;32mc:\\Users\\rafaelo\\OneDrive - NTNU\\Documents\\Projects\\venv\\lib\\site-packages\\pyro\\infer\\svi.py:145\u001b[0m, in \u001b[0;36mSVI.step\u001b[1;34m(self, *args, **kwargs)\u001b[0m\n\u001b[0;32m    143\u001b[0m \u001b[38;5;66;03m# get loss and compute gradients\u001b[39;00m\n\u001b[0;32m    144\u001b[0m \u001b[38;5;28;01mwith\u001b[39;00m poutine\u001b[38;5;241m.\u001b[39mtrace(param_only\u001b[38;5;241m=\u001b[39m\u001b[38;5;28;01mTrue\u001b[39;00m) \u001b[38;5;28;01mas\u001b[39;00m param_capture:\n\u001b[1;32m--> 145\u001b[0m     loss \u001b[38;5;241m=\u001b[39m \u001b[38;5;28mself\u001b[39m\u001b[38;5;241m.\u001b[39mloss_and_grads(\u001b[38;5;28mself\u001b[39m\u001b[38;5;241m.\u001b[39mmodel, \u001b[38;5;28mself\u001b[39m\u001b[38;5;241m.\u001b[39mguide, \u001b[38;5;241m*\u001b[39margs, \u001b[38;5;241m*\u001b[39m\u001b[38;5;241m*\u001b[39mkwargs)\n\u001b[0;32m    147\u001b[0m params \u001b[38;5;241m=\u001b[39m \u001b[38;5;28mset\u001b[39m(\n\u001b[0;32m    148\u001b[0m     site[\u001b[38;5;124m\"\u001b[39m\u001b[38;5;124mvalue\u001b[39m\u001b[38;5;124m\"\u001b[39m]\u001b[38;5;241m.\u001b[39munconstrained() \u001b[38;5;28;01mfor\u001b[39;00m site \u001b[38;5;129;01min\u001b[39;00m param_capture\u001b[38;5;241m.\u001b[39mtrace\u001b[38;5;241m.\u001b[39mnodes\u001b[38;5;241m.\u001b[39mvalues()\n\u001b[0;32m    149\u001b[0m )\n\u001b[0;32m    151\u001b[0m \u001b[38;5;66;03m# actually perform gradient steps\u001b[39;00m\n\u001b[0;32m    152\u001b[0m \u001b[38;5;66;03m# torch.optim objects gets instantiated for any params that haven't been seen yet\u001b[39;00m\n",
                        "File \u001b[1;32mc:\\Users\\rafaelo\\OneDrive - NTNU\\Documents\\Projects\\venv\\lib\\site-packages\\pyro\\infer\\trace_elbo.py:140\u001b[0m, in \u001b[0;36mTrace_ELBO.loss_and_grads\u001b[1;34m(self, model, guide, *args, **kwargs)\u001b[0m\n\u001b[0;32m    138\u001b[0m loss \u001b[38;5;241m=\u001b[39m \u001b[38;5;241m0.0\u001b[39m\n\u001b[0;32m    139\u001b[0m \u001b[38;5;66;03m# grab a trace from the generator\u001b[39;00m\n\u001b[1;32m--> 140\u001b[0m \u001b[38;5;28;01mfor\u001b[39;00m model_trace, guide_trace \u001b[38;5;129;01min\u001b[39;00m \u001b[38;5;28mself\u001b[39m\u001b[38;5;241m.\u001b[39m_get_traces(model, guide, args, kwargs):\n\u001b[0;32m    141\u001b[0m     loss_particle, surrogate_loss_particle \u001b[38;5;241m=\u001b[39m \u001b[38;5;28mself\u001b[39m\u001b[38;5;241m.\u001b[39m_differentiable_loss_particle(\n\u001b[0;32m    142\u001b[0m         model_trace, guide_trace\n\u001b[0;32m    143\u001b[0m     )\n\u001b[0;32m    144\u001b[0m     loss \u001b[38;5;241m+\u001b[39m\u001b[38;5;241m=\u001b[39m loss_particle \u001b[38;5;241m/\u001b[39m \u001b[38;5;28mself\u001b[39m\u001b[38;5;241m.\u001b[39mnum_particles\n",
                        "File \u001b[1;32mc:\\Users\\rafaelo\\OneDrive - NTNU\\Documents\\Projects\\venv\\lib\\site-packages\\pyro\\infer\\elbo.py:237\u001b[0m, in \u001b[0;36mELBO._get_traces\u001b[1;34m(self, model, guide, args, kwargs)\u001b[0m\n\u001b[0;32m    235\u001b[0m \u001b[38;5;28;01melse\u001b[39;00m:\n\u001b[0;32m    236\u001b[0m     \u001b[38;5;28;01mfor\u001b[39;00m i \u001b[38;5;129;01min\u001b[39;00m \u001b[38;5;28mrange\u001b[39m(\u001b[38;5;28mself\u001b[39m\u001b[38;5;241m.\u001b[39mnum_particles):\n\u001b[1;32m--> 237\u001b[0m         \u001b[38;5;28;01myield\u001b[39;00m \u001b[38;5;28;43mself\u001b[39;49m\u001b[38;5;241;43m.\u001b[39;49m\u001b[43m_get_trace\u001b[49m\u001b[43m(\u001b[49m\u001b[43mmodel\u001b[49m\u001b[43m,\u001b[49m\u001b[43m \u001b[49m\u001b[43mguide\u001b[49m\u001b[43m,\u001b[49m\u001b[43m \u001b[49m\u001b[43margs\u001b[49m\u001b[43m,\u001b[49m\u001b[43m \u001b[49m\u001b[43mkwargs\u001b[49m\u001b[43m)\u001b[49m\n",
                        "File \u001b[1;32mc:\\Users\\rafaelo\\OneDrive - NTNU\\Documents\\Projects\\venv\\lib\\site-packages\\pyro\\infer\\trace_elbo.py:57\u001b[0m, in \u001b[0;36mTrace_ELBO._get_trace\u001b[1;34m(self, model, guide, args, kwargs)\u001b[0m\n\u001b[0;32m     52\u001b[0m \u001b[38;5;28;01mdef\u001b[39;00m \u001b[38;5;21m_get_trace\u001b[39m(\u001b[38;5;28mself\u001b[39m, model, guide, args, kwargs):\n\u001b[0;32m     53\u001b[0m \u001b[38;5;250m    \u001b[39m\u001b[38;5;124;03m\"\"\"\u001b[39;00m\n\u001b[0;32m     54\u001b[0m \u001b[38;5;124;03m    Returns a single trace from the guide, and the model that is run\u001b[39;00m\n\u001b[0;32m     55\u001b[0m \u001b[38;5;124;03m    against it.\u001b[39;00m\n\u001b[0;32m     56\u001b[0m \u001b[38;5;124;03m    \"\"\"\u001b[39;00m\n\u001b[1;32m---> 57\u001b[0m     model_trace, guide_trace \u001b[38;5;241m=\u001b[39m \u001b[43mget_importance_trace\u001b[49m\u001b[43m(\u001b[49m\n\u001b[0;32m     58\u001b[0m \u001b[43m        \u001b[49m\u001b[38;5;124;43m\"\u001b[39;49m\u001b[38;5;124;43mflat\u001b[39;49m\u001b[38;5;124;43m\"\u001b[39;49m\u001b[43m,\u001b[49m\u001b[43m \u001b[49m\u001b[38;5;28;43mself\u001b[39;49m\u001b[38;5;241;43m.\u001b[39;49m\u001b[43mmax_plate_nesting\u001b[49m\u001b[43m,\u001b[49m\u001b[43m \u001b[49m\u001b[43mmodel\u001b[49m\u001b[43m,\u001b[49m\u001b[43m \u001b[49m\u001b[43mguide\u001b[49m\u001b[43m,\u001b[49m\u001b[43m \u001b[49m\u001b[43margs\u001b[49m\u001b[43m,\u001b[49m\u001b[43m \u001b[49m\u001b[43mkwargs\u001b[49m\n\u001b[0;32m     59\u001b[0m \u001b[43m    \u001b[49m\u001b[43m)\u001b[49m\n\u001b[0;32m     60\u001b[0m     \u001b[38;5;28;01mif\u001b[39;00m is_validation_enabled():\n\u001b[0;32m     61\u001b[0m         check_if_enumerated(guide_trace)\n",
                        "File \u001b[1;32mc:\\Users\\rafaelo\\OneDrive - NTNU\\Documents\\Projects\\venv\\lib\\site-packages\\pyro\\infer\\enum.py:75\u001b[0m, in \u001b[0;36mget_importance_trace\u001b[1;34m(graph_type, max_plate_nesting, model, guide, args, kwargs, detach)\u001b[0m\n\u001b[0;32m     72\u001b[0m guide_trace \u001b[38;5;241m=\u001b[39m prune_subsample_sites(guide_trace)\n\u001b[0;32m     73\u001b[0m model_trace \u001b[38;5;241m=\u001b[39m prune_subsample_sites(model_trace)\n\u001b[1;32m---> 75\u001b[0m \u001b[43mmodel_trace\u001b[49m\u001b[38;5;241;43m.\u001b[39;49m\u001b[43mcompute_log_prob\u001b[49m\u001b[43m(\u001b[49m\u001b[43m)\u001b[49m\n\u001b[0;32m     76\u001b[0m guide_trace\u001b[38;5;241m.\u001b[39mcompute_score_parts()\n\u001b[0;32m     77\u001b[0m \u001b[38;5;28;01mif\u001b[39;00m is_validation_enabled():\n",
                        "File \u001b[1;32mc:\\Users\\rafaelo\\OneDrive - NTNU\\Documents\\Projects\\venv\\lib\\site-packages\\pyro\\poutine\\trace_struct.py:230\u001b[0m, in \u001b[0;36mTrace.compute_log_prob\u001b[1;34m(self, site_filter)\u001b[0m\n\u001b[0;32m    228\u001b[0m \u001b[38;5;28;01mif\u001b[39;00m \u001b[38;5;124m\"\u001b[39m\u001b[38;5;124mlog_prob\u001b[39m\u001b[38;5;124m\"\u001b[39m \u001b[38;5;129;01mnot\u001b[39;00m \u001b[38;5;129;01min\u001b[39;00m site:\n\u001b[0;32m    229\u001b[0m     \u001b[38;5;28;01mtry\u001b[39;00m:\n\u001b[1;32m--> 230\u001b[0m         log_p \u001b[38;5;241m=\u001b[39m site[\u001b[38;5;124m\"\u001b[39m\u001b[38;5;124mfn\u001b[39m\u001b[38;5;124m\"\u001b[39m]\u001b[38;5;241m.\u001b[39mlog_prob(\n\u001b[0;32m    231\u001b[0m             site[\u001b[38;5;124m\"\u001b[39m\u001b[38;5;124mvalue\u001b[39m\u001b[38;5;124m\"\u001b[39m], \u001b[38;5;241m*\u001b[39msite[\u001b[38;5;124m\"\u001b[39m\u001b[38;5;124margs\u001b[39m\u001b[38;5;124m\"\u001b[39m], \u001b[38;5;241m*\u001b[39m\u001b[38;5;241m*\u001b[39msite[\u001b[38;5;124m\"\u001b[39m\u001b[38;5;124mkwargs\u001b[39m\u001b[38;5;124m\"\u001b[39m]\n\u001b[0;32m    232\u001b[0m         )\n\u001b[0;32m    233\u001b[0m     \u001b[38;5;28;01mexcept\u001b[39;00m \u001b[38;5;167;01mValueError\u001b[39;00m \u001b[38;5;28;01mas\u001b[39;00m e:\n\u001b[0;32m    234\u001b[0m         _, exc_value, traceback \u001b[38;5;241m=\u001b[39m sys\u001b[38;5;241m.\u001b[39mexc_info()\n",
                        "File \u001b[1;32mc:\\Users\\rafaelo\\OneDrive - NTNU\\Documents\\Projects\\venv\\lib\\site-packages\\pyro\\distributions\\conjugate.py:280\u001b[0m, in \u001b[0;36mGammaPoisson.log_prob\u001b[1;34m(self, value)\u001b[0m\n\u001b[0;32m    277\u001b[0m     \u001b[38;5;28mself\u001b[39m\u001b[38;5;241m.\u001b[39m_validate_sample(value)\n\u001b[0;32m    278\u001b[0m post_value \u001b[38;5;241m=\u001b[39m \u001b[38;5;28mself\u001b[39m\u001b[38;5;241m.\u001b[39mconcentration \u001b[38;5;241m+\u001b[39m value\n\u001b[0;32m    279\u001b[0m \u001b[38;5;28;01mreturn\u001b[39;00m (\n\u001b[1;32m--> 280\u001b[0m     \u001b[38;5;241m-\u001b[39m\u001b[43mlog_beta\u001b[49m\u001b[43m(\u001b[49m\u001b[38;5;28;43mself\u001b[39;49m\u001b[38;5;241;43m.\u001b[39;49m\u001b[43mconcentration\u001b[49m\u001b[43m,\u001b[49m\u001b[43m \u001b[49m\u001b[43mvalue\u001b[49m\u001b[43m \u001b[49m\u001b[38;5;241;43m+\u001b[39;49m\u001b[43m \u001b[49m\u001b[38;5;241;43m1\u001b[39;49m\u001b[43m)\u001b[49m\n\u001b[0;32m    281\u001b[0m     \u001b[38;5;241m-\u001b[39m post_value\u001b[38;5;241m.\u001b[39mlog()\n\u001b[0;32m    282\u001b[0m     \u001b[38;5;241m+\u001b[39m \u001b[38;5;28mself\u001b[39m\u001b[38;5;241m.\u001b[39mconcentration \u001b[38;5;241m*\u001b[39m \u001b[38;5;28mself\u001b[39m\u001b[38;5;241m.\u001b[39mrate\u001b[38;5;241m.\u001b[39mlog()\n\u001b[0;32m    283\u001b[0m     \u001b[38;5;241m-\u001b[39m post_value \u001b[38;5;241m*\u001b[39m (\u001b[38;5;241m1\u001b[39m \u001b[38;5;241m+\u001b[39m \u001b[38;5;28mself\u001b[39m\u001b[38;5;241m.\u001b[39mrate)\u001b[38;5;241m.\u001b[39mlog()\n\u001b[0;32m    284\u001b[0m )\n",
                        "File \u001b[1;32mc:\\Users\\rafaelo\\OneDrive - NTNU\\Documents\\Projects\\venv\\lib\\site-packages\\pyro\\ops\\special.py:68\u001b[0m, in \u001b[0;36mlog_beta\u001b[1;34m(x, y, tol)\u001b[0m\n\u001b[0;32m     65\u001b[0m \u001b[38;5;28;01massert\u001b[39;00m \u001b[38;5;28misinstance\u001b[39m(tol, (\u001b[38;5;28mfloat\u001b[39m, \u001b[38;5;28mint\u001b[39m)) \u001b[38;5;129;01mand\u001b[39;00m tol \u001b[38;5;241m>\u001b[39m\u001b[38;5;241m=\u001b[39m \u001b[38;5;241m0\u001b[39m\n\u001b[0;32m     66\u001b[0m \u001b[38;5;28;01mif\u001b[39;00m tol \u001b[38;5;241m<\u001b[39m \u001b[38;5;241m0.02\u001b[39m:\n\u001b[0;32m     67\u001b[0m     \u001b[38;5;66;03m# At small tolerance it is cheaper to defer to torch.lgamma().\u001b[39;00m\n\u001b[1;32m---> 68\u001b[0m     \u001b[38;5;28;01mreturn\u001b[39;00m x\u001b[38;5;241m.\u001b[39mlgamma() \u001b[38;5;241m+\u001b[39m \u001b[43my\u001b[49m\u001b[38;5;241;43m.\u001b[39;49m\u001b[43mlgamma\u001b[49m\u001b[43m(\u001b[49m\u001b[43m)\u001b[49m \u001b[38;5;241m-\u001b[39m (x \u001b[38;5;241m+\u001b[39m y)\u001b[38;5;241m.\u001b[39mlgamma()\n\u001b[0;32m     70\u001b[0m \u001b[38;5;66;03m# This bound holds for arbitrary x,y. We could do better with large x,y.\u001b[39;00m\n\u001b[0;32m     71\u001b[0m shift \u001b[38;5;241m=\u001b[39m \u001b[38;5;28mint\u001b[39m(math\u001b[38;5;241m.\u001b[39mceil(\u001b[38;5;241m0.082\u001b[39m \u001b[38;5;241m/\u001b[39m tol))\n",
                        "\u001b[1;31mRuntimeError\u001b[0m: [enforce fail at alloc_cpu.cpp:80] data. DefaultCPUAllocator: not enough memory: you tried to allocate 5319855424 bytes."
                    ]
                }
            ],
            "source": [
                "Cell2location.setup_anndata(adata=adata_vis, batch_key=\"sample\")\n",
                "\n",
                "mod = Cell2location(\n",
                "    adata_vis,\n",
                "    cell_state_df=inf_aver,\n",
                "    # the expected average cell abundance: tissue-dependent\n",
                "    # hyper-prior which can be estimated from paired histology:\n",
                "    N_cells_per_location=3,\n",
                "    # hyperparameter controlling normalisation of\n",
                "    # within-experiment variation in RNA detection (using default here):\n",
                "    detection_alpha=200,\n",
                ")\n",
                "mod.view_anndata_setup()\n",
                "\n",
                "mod.train(\n",
                "    max_epochs=500,\n",
                "    # train using full data (batch_size=None)\n",
                "    batch_size=None,\n",
                "    # use all data points in training because\n",
                "    # we need to estimate cell abundance at all locations\n",
                "    train_size=1,\n",
                ")\n",
                "\n",
                "# plot ELBO loss history during training, removing first 100 epochs from the plot\n",
                "mod.plot_history(200)\n",
                "plt.legend(labels=[\"full data training\"]);"
            ]
        },
        {
            "cell_type": "markdown",
            "metadata": {
                "id": "qvXCPejnFdCM"
            },
            "source": [
                "<div class=\"alert alert-block alert-message\">\n",
                "<b>Exporting estimated posterior distributions of cell abundance and saving results:</b>\n",
                "</div>"
            ]
        },
        {
            "cell_type": "code",
            "execution_count": null,
            "metadata": {
                "id": "7tnOpggnFdCM"
            },
            "outputs": [],
            "source": [
                "# In this section, we export the estimated cell abundance (summary of the posterior distribution).\n",
                "adata_vis = mod.export_posterior(\n",
                "    adata_vis,\n",
                "    sample_kwargs={\"num_samples\": 1000, \"batch_size\": mod.adata.n_obs, \"use_gpu\": False},\n",
                ")\n",
                "\n",
                "# Save model\n",
                "mod.save(f\"{run_name}\", overwrite=True)\n",
                "\n",
                "# mod = cell2location.models.Cell2location.load(f\"{run_name}\", adata_vis)\n",
                "\n",
                "# Save anndata object with results\n",
                "adata_file = f\"{run_name}/sp.h5ad\"\n",
                "adata_vis.write(adata_file)\n",
                "adata_file"
            ]
        },
        {
            "cell_type": "markdown",
            "metadata": {
                "id": "4Yuru8aKFdCM"
            },
            "source": [
                "The model and output h5ad can be loaded later like this:\n",
                "```python\n",
                "mod = cell2location.models.Cell2location.load(f\"{run_name}\", adata_vis)\n",
                "adata_file = f\"{run_name}/sp.h5ad\"\n",
                "adata_vis = sc.read_h5ad(adata_file)\n",
                "```"
            ]
        },
        {
            "cell_type": "markdown",
            "metadata": {
                "id": "LyswjzsHFdCM"
            },
            "source": [
                "<div class=\"alert alert-block alert-message\">\n",
                "<b>Assessing mapping quality.</b>\n",
                "Examine reconstruction accuracy to assess if there are any issues with mapping.\n",
                "The plot should be roughly diagonal, strong deviations will signal problems that need to be investigated\n",
                "</div>"
            ]
        },
        {
            "cell_type": "code",
            "execution_count": null,
            "metadata": {
                "id": "j34h4nXsFdCM"
            },
            "outputs": [],
            "source": [
                "mod.plot_QC()"
            ]
        },
        {
            "cell_type": "markdown",
            "metadata": {
                "id": "VTVbPydKFdCN"
            },
            "source": [
                "When intergrating multiple spatial batches and when working with datasets that have substantial variation of detected RNA within slides (that cannot be explained by high cellular density in the histology), it is important to assess whether cell2location normalised those effects. You expect to see similar total cell abundance across batches but distinct RNA detection sensitivity (both estimated by cell2location). You expect total cell abundance to mirror high cellular density in the histology.\n",
                "\n",
                "```python\n",
                "fig = mod.plot_spatial_QC_across_batches()\n",
                "```"
            ]
        },
        {
            "attachments": {},
            "cell_type": "markdown",
            "metadata": {
                "id": "CWiIrw2rFdCN"
            },
            "source": [
                "## Visualising cell abundance in spatial coordinates <a class=\"anchor\" id=\"Visualising\"></a>\n",
                "\n",
                "```{note}\n",
                "We use 5% quantile of the posterior distribution, representing the value of cell abundance that the model has high confidence in (aka 'at least this amount is present').\n",
                "```"
            ]
        },
        {
            "cell_type": "code",
            "execution_count": null,
            "metadata": {
                "id": "HCjPfUamFdCN"
            },
            "outputs": [],
            "source": [
                "# add 5% quantile, representing confident cell abundance, 'at least this amount is present',\n",
                "# to adata.obs with nice names for plotting\n",
                "adata_vis.obs[adata_vis.uns[\"mod\"][\"factor_names\"]] = adata_vis.obsm[\n",
                "    \"q05_cell_abundance_w_sf\"\n",
                "]\n",
                "\n",
                "\n",
                "slide = select_slide(adata_vis, \"V1_Human_Lymph_Node\")\n",
                "\n",
                "# plot in spatial coordinates\n",
                "with mpl.rc_context({\"axes.facecolor\": \"black\", \"figure.figsize\": [4.5, 5]}):\n",
                "    colors = [\n",
                "        \"B_Cycling\",\n",
                "        \"B_GC_LZ\",\n",
                "        \"T_CD4+_TfH_GC\",\n",
                "        \"FDC\",\n",
                "        \"B_naive\",\n",
                "        \"T_CD4+_naive\",\n",
                "        \"B_plasma\",\n",
                "        \"Endo\",\n",
                "    ]\n",
                "    sc.pl.spatial(\n",
                "        slide,\n",
                "        cmap=\"magma\",\n",
                "        # show first 8 cell types\n",
                "        color=colors,\n",
                "        ncols=2,\n",
                "        size=1.3,\n",
                "        img_key=\"hires\",\n",
                "        # limit color scale at 99.2% quantile of cell abundance\n",
                "        vmin=0,\n",
                "        vmax=\"p99.2\",\n",
                "    )"
            ]
        },
        {
            "cell_type": "code",
            "execution_count": null,
            "metadata": {
                "id": "0P5L5l-kFdCN"
            },
            "outputs": [],
            "source": [
                "# select up to 6 clusters\n",
                "clust_labels = [\"T_CD4+_naive\", \"B_naive\", \"FDC\"]\n",
                "clust_col = [\n",
                "    \"\" + str(i) for i in clust_labels\n",
                "]  # in case column names differ from labels\n",
                "\n",
                "slide = select_slide(adata_vis, \"V1_Human_Lymph_Node\")\n",
                "\n",
                "with mpl.rc_context({\"figure.figsize\": (15, 15)}):\n",
                "    fig = plot_spatial(\n",
                "        adata=slide,\n",
                "        # labels to show on a plot\n",
                "        color=clust_col,\n",
                "        labels=clust_labels,\n",
                "        show_img=True,\n",
                "        # 'fast' (white background) or 'dark_background'\n",
                "        style=\"fast\",\n",
                "        # limit color scale at 99.2% quantile of cell abundance\n",
                "        max_color_quantile=0.992,\n",
                "        # size of locations (adjust depending on figure size)\n",
                "        circle_diameter=6,\n",
                "        colorbar_position=\"right\",\n",
                "    )"
            ]
        }
    ],
    "metadata": {
        "accelerator": "GPU",
        "colab": {
            "collapsed_sections": [],
            "machine_shape": "hm",
            "name": "cell2location_lymph_node_spatial_tutorial.ipynb",
            "provenance": []
        },
        "kernelspec": {
            "display_name": "scvi-tools-dev",
            "language": "python",
            "name": "python3"
        },
        "language_info": {
            "codemirror_mode": {
                "name": "ipython",
                "version": 3
            },
            "file_extension": ".py",
            "mimetype": "text/x-python",
            "name": "python",
            "nbconvert_exporter": "python",
            "pygments_lexer": "ipython3",
            "version": "3.10.2"
        },
        "vscode": {
            "interpreter": {
                "hash": "b5142939ddaa1787bd1bfcf4c0ad4d35be0fa2237c553f986d37efcb39f03f79"
            }
        },
        "widgets": {
            "application/vnd.jupyter.widget-state+json": {
                "0bb6b8cd1da14e05be74e9b19322658b": {
                    "model_module": "@jupyter-widgets/base",
                    "model_module_version": "1.2.0",
                    "model_name": "LayoutModel",
                    "state": {
                        "_model_module": "@jupyter-widgets/base",
                        "_model_module_version": "1.2.0",
                        "_model_name": "LayoutModel",
                        "_view_count": null,
                        "_view_module": "@jupyter-widgets/base",
                        "_view_module_version": "1.2.0",
                        "_view_name": "LayoutView",
                        "align_content": null,
                        "align_items": null,
                        "align_self": null,
                        "border": null,
                        "bottom": null,
                        "display": null,
                        "flex": null,
                        "flex_flow": null,
                        "grid_area": null,
                        "grid_auto_columns": null,
                        "grid_auto_flow": null,
                        "grid_auto_rows": null,
                        "grid_column": null,
                        "grid_gap": null,
                        "grid_row": null,
                        "grid_template_areas": null,
                        "grid_template_columns": null,
                        "grid_template_rows": null,
                        "height": null,
                        "justify_content": null,
                        "justify_items": null,
                        "left": null,
                        "margin": null,
                        "max_height": null,
                        "max_width": null,
                        "min_height": null,
                        "min_width": null,
                        "object_fit": null,
                        "object_position": null,
                        "order": null,
                        "overflow": null,
                        "overflow_x": null,
                        "overflow_y": null,
                        "padding": null,
                        "right": null,
                        "top": null,
                        "visibility": null,
                        "width": null
                    }
                },
                "0d5eab07d0094da5b8aa46f2591d6c1f": {
                    "model_module": "@jupyter-widgets/controls",
                    "model_module_version": "1.5.0",
                    "model_name": "ProgressStyleModel",
                    "state": {
                        "_model_module": "@jupyter-widgets/controls",
                        "_model_module_version": "1.5.0",
                        "_model_name": "ProgressStyleModel",
                        "_view_count": null,
                        "_view_module": "@jupyter-widgets/base",
                        "_view_module_version": "1.2.0",
                        "_view_name": "StyleView",
                        "bar_color": null,
                        "description_width": ""
                    }
                },
                "13cab460ef8b471cbae1a6cb2240e619": {
                    "model_module": "@jupyter-widgets/controls",
                    "model_module_version": "1.5.0",
                    "model_name": "FloatProgressModel",
                    "state": {
                        "_dom_classes": [],
                        "_model_module": "@jupyter-widgets/controls",
                        "_model_module_version": "1.5.0",
                        "_model_name": "FloatProgressModel",
                        "_view_count": null,
                        "_view_module": "@jupyter-widgets/controls",
                        "_view_module_version": "1.5.0",
                        "_view_name": "ProgressView",
                        "bar_style": "success",
                        "description": "",
                        "description_tooltip": null,
                        "layout": "IPY_MODEL_effa314248b3455e84694cc69680efa7",
                        "max": 552080848,
                        "min": 0,
                        "orientation": "horizontal",
                        "style": "IPY_MODEL_2df39ad6d9a142a29b16d71a106efbe4",
                        "value": 552080848
                    }
                },
                "259c6926017542d2b9172ce89d497f14": {
                    "model_module": "@jupyter-widgets/base",
                    "model_module_version": "1.2.0",
                    "model_name": "LayoutModel",
                    "state": {
                        "_model_module": "@jupyter-widgets/base",
                        "_model_module_version": "1.2.0",
                        "_model_name": "LayoutModel",
                        "_view_count": null,
                        "_view_module": "@jupyter-widgets/base",
                        "_view_module_version": "1.2.0",
                        "_view_name": "LayoutView",
                        "align_content": null,
                        "align_items": null,
                        "align_self": null,
                        "border": null,
                        "bottom": null,
                        "display": null,
                        "flex": null,
                        "flex_flow": null,
                        "grid_area": null,
                        "grid_auto_columns": null,
                        "grid_auto_flow": null,
                        "grid_auto_rows": null,
                        "grid_column": null,
                        "grid_gap": null,
                        "grid_row": null,
                        "grid_template_areas": null,
                        "grid_template_columns": null,
                        "grid_template_rows": null,
                        "height": null,
                        "justify_content": null,
                        "justify_items": null,
                        "left": null,
                        "margin": null,
                        "max_height": null,
                        "max_width": null,
                        "min_height": null,
                        "min_width": null,
                        "object_fit": null,
                        "object_position": null,
                        "order": null,
                        "overflow": null,
                        "overflow_x": null,
                        "overflow_y": null,
                        "padding": null,
                        "right": null,
                        "top": null,
                        "visibility": null,
                        "width": null
                    }
                },
                "27af6592eae24b31ad8e8151dea2a82c": {
                    "model_module": "@jupyter-widgets/controls",
                    "model_module_version": "1.5.0",
                    "model_name": "HTMLModel",
                    "state": {
                        "_dom_classes": [],
                        "_model_module": "@jupyter-widgets/controls",
                        "_model_module_version": "1.5.0",
                        "_model_name": "HTMLModel",
                        "_view_count": null,
                        "_view_module": "@jupyter-widgets/controls",
                        "_view_module_version": "1.5.0",
                        "_view_name": "HTMLView",
                        "description": "",
                        "description_tooltip": null,
                        "layout": "IPY_MODEL_71e214ace0cb4cf2a46ab69a18e8ed66",
                        "placeholder": "​",
                        "style": "IPY_MODEL_f150164587ca4ad39c839816c96e3382",
                        "value": "100%"
                    }
                },
                "2b685f6d882142719331b8b226d18689": {
                    "model_module": "@jupyter-widgets/base",
                    "model_module_version": "1.2.0",
                    "model_name": "LayoutModel",
                    "state": {
                        "_model_module": "@jupyter-widgets/base",
                        "_model_module_version": "1.2.0",
                        "_model_name": "LayoutModel",
                        "_view_count": null,
                        "_view_module": "@jupyter-widgets/base",
                        "_view_module_version": "1.2.0",
                        "_view_name": "LayoutView",
                        "align_content": null,
                        "align_items": null,
                        "align_self": null,
                        "border": null,
                        "bottom": null,
                        "display": null,
                        "flex": null,
                        "flex_flow": null,
                        "grid_area": null,
                        "grid_auto_columns": null,
                        "grid_auto_flow": null,
                        "grid_auto_rows": null,
                        "grid_column": null,
                        "grid_gap": null,
                        "grid_row": null,
                        "grid_template_areas": null,
                        "grid_template_columns": null,
                        "grid_template_rows": null,
                        "height": null,
                        "justify_content": null,
                        "justify_items": null,
                        "left": null,
                        "margin": null,
                        "max_height": null,
                        "max_width": null,
                        "min_height": null,
                        "min_width": null,
                        "object_fit": null,
                        "object_position": null,
                        "order": null,
                        "overflow": null,
                        "overflow_x": null,
                        "overflow_y": null,
                        "padding": null,
                        "right": null,
                        "top": null,
                        "visibility": null,
                        "width": null
                    }
                },
                "2df39ad6d9a142a29b16d71a106efbe4": {
                    "model_module": "@jupyter-widgets/controls",
                    "model_module_version": "1.5.0",
                    "model_name": "ProgressStyleModel",
                    "state": {
                        "_model_module": "@jupyter-widgets/controls",
                        "_model_module_version": "1.5.0",
                        "_model_name": "ProgressStyleModel",
                        "_view_count": null,
                        "_view_module": "@jupyter-widgets/base",
                        "_view_module_version": "1.2.0",
                        "_view_name": "StyleView",
                        "bar_color": null,
                        "description_width": ""
                    }
                },
                "2e776a24bf28498a9f10ca91da0fc866": {
                    "model_module": "@jupyter-widgets/controls",
                    "model_module_version": "1.5.0",
                    "model_name": "FloatProgressModel",
                    "state": {
                        "_dom_classes": [],
                        "_model_module": "@jupyter-widgets/controls",
                        "_model_module_version": "1.5.0",
                        "_model_name": "FloatProgressModel",
                        "_view_count": null,
                        "_view_module": "@jupyter-widgets/controls",
                        "_view_module_version": "1.5.0",
                        "_view_name": "ProgressView",
                        "bar_style": "success",
                        "description": "",
                        "description_tooltip": null,
                        "layout": "IPY_MODEL_ba249b8ffd744a198e14957d12c7d830",
                        "max": 8246238,
                        "min": 0,
                        "orientation": "horizontal",
                        "style": "IPY_MODEL_0d5eab07d0094da5b8aa46f2591d6c1f",
                        "value": 8246238
                    }
                },
                "3b3d95ebaac749609dafec6053c11669": {
                    "model_module": "@jupyter-widgets/base",
                    "model_module_version": "1.2.0",
                    "model_name": "LayoutModel",
                    "state": {
                        "_model_module": "@jupyter-widgets/base",
                        "_model_module_version": "1.2.0",
                        "_model_name": "LayoutModel",
                        "_view_count": null,
                        "_view_module": "@jupyter-widgets/base",
                        "_view_module_version": "1.2.0",
                        "_view_name": "LayoutView",
                        "align_content": null,
                        "align_items": null,
                        "align_self": null,
                        "border": null,
                        "bottom": null,
                        "display": null,
                        "flex": null,
                        "flex_flow": null,
                        "grid_area": null,
                        "grid_auto_columns": null,
                        "grid_auto_flow": null,
                        "grid_auto_rows": null,
                        "grid_column": null,
                        "grid_gap": null,
                        "grid_row": null,
                        "grid_template_areas": null,
                        "grid_template_columns": null,
                        "grid_template_rows": null,
                        "height": null,
                        "justify_content": null,
                        "justify_items": null,
                        "left": null,
                        "margin": null,
                        "max_height": null,
                        "max_width": null,
                        "min_height": null,
                        "min_width": null,
                        "object_fit": null,
                        "object_position": null,
                        "order": null,
                        "overflow": null,
                        "overflow_x": null,
                        "overflow_y": null,
                        "padding": null,
                        "right": null,
                        "top": null,
                        "visibility": null,
                        "width": null
                    }
                },
                "596e11172e1c487791e6cca30ae71be7": {
                    "model_module": "@jupyter-widgets/base",
                    "model_module_version": "1.2.0",
                    "model_name": "LayoutModel",
                    "state": {
                        "_model_module": "@jupyter-widgets/base",
                        "_model_module_version": "1.2.0",
                        "_model_name": "LayoutModel",
                        "_view_count": null,
                        "_view_module": "@jupyter-widgets/base",
                        "_view_module_version": "1.2.0",
                        "_view_name": "LayoutView",
                        "align_content": null,
                        "align_items": null,
                        "align_self": null,
                        "border": null,
                        "bottom": null,
                        "display": null,
                        "flex": null,
                        "flex_flow": null,
                        "grid_area": null,
                        "grid_auto_columns": null,
                        "grid_auto_flow": null,
                        "grid_auto_rows": null,
                        "grid_column": null,
                        "grid_gap": null,
                        "grid_row": null,
                        "grid_template_areas": null,
                        "grid_template_columns": null,
                        "grid_template_rows": null,
                        "height": null,
                        "justify_content": null,
                        "justify_items": null,
                        "left": null,
                        "margin": null,
                        "max_height": null,
                        "max_width": null,
                        "min_height": null,
                        "min_width": null,
                        "object_fit": null,
                        "object_position": null,
                        "order": null,
                        "overflow": null,
                        "overflow_x": null,
                        "overflow_y": null,
                        "padding": null,
                        "right": null,
                        "top": null,
                        "visibility": null,
                        "width": null
                    }
                },
                "5a56037c5dac4be0bb68ad4c2bb3e9e1": {
                    "model_module": "@jupyter-widgets/controls",
                    "model_module_version": "1.5.0",
                    "model_name": "DescriptionStyleModel",
                    "state": {
                        "_model_module": "@jupyter-widgets/controls",
                        "_model_module_version": "1.5.0",
                        "_model_name": "DescriptionStyleModel",
                        "_view_count": null,
                        "_view_module": "@jupyter-widgets/base",
                        "_view_module_version": "1.2.0",
                        "_view_name": "StyleView",
                        "description_width": ""
                    }
                },
                "65ba2660fc624fb3b58f2e2c4bea295b": {
                    "model_module": "@jupyter-widgets/base",
                    "model_module_version": "1.2.0",
                    "model_name": "LayoutModel",
                    "state": {
                        "_model_module": "@jupyter-widgets/base",
                        "_model_module_version": "1.2.0",
                        "_model_name": "LayoutModel",
                        "_view_count": null,
                        "_view_module": "@jupyter-widgets/base",
                        "_view_module_version": "1.2.0",
                        "_view_name": "LayoutView",
                        "align_content": null,
                        "align_items": null,
                        "align_self": null,
                        "border": null,
                        "bottom": null,
                        "display": null,
                        "flex": null,
                        "flex_flow": null,
                        "grid_area": null,
                        "grid_auto_columns": null,
                        "grid_auto_flow": null,
                        "grid_auto_rows": null,
                        "grid_column": null,
                        "grid_gap": null,
                        "grid_row": null,
                        "grid_template_areas": null,
                        "grid_template_columns": null,
                        "grid_template_rows": null,
                        "height": null,
                        "justify_content": null,
                        "justify_items": null,
                        "left": null,
                        "margin": null,
                        "max_height": null,
                        "max_width": null,
                        "min_height": null,
                        "min_width": null,
                        "object_fit": null,
                        "object_position": null,
                        "order": null,
                        "overflow": null,
                        "overflow_x": null,
                        "overflow_y": null,
                        "padding": null,
                        "right": null,
                        "top": null,
                        "visibility": null,
                        "width": null
                    }
                },
                "67c43fa66ae547ec8ca17d43864f3008": {
                    "model_module": "@jupyter-widgets/controls",
                    "model_module_version": "1.5.0",
                    "model_name": "DescriptionStyleModel",
                    "state": {
                        "_model_module": "@jupyter-widgets/controls",
                        "_model_module_version": "1.5.0",
                        "_model_name": "DescriptionStyleModel",
                        "_view_count": null,
                        "_view_module": "@jupyter-widgets/base",
                        "_view_module_version": "1.2.0",
                        "_view_name": "StyleView",
                        "description_width": ""
                    }
                },
                "6ddf94087ac548d0999be2520b97beed": {
                    "model_module": "@jupyter-widgets/controls",
                    "model_module_version": "1.5.0",
                    "model_name": "DescriptionStyleModel",
                    "state": {
                        "_model_module": "@jupyter-widgets/controls",
                        "_model_module_version": "1.5.0",
                        "_model_name": "DescriptionStyleModel",
                        "_view_count": null,
                        "_view_module": "@jupyter-widgets/base",
                        "_view_module_version": "1.2.0",
                        "_view_name": "StyleView",
                        "description_width": ""
                    }
                },
                "71e214ace0cb4cf2a46ab69a18e8ed66": {
                    "model_module": "@jupyter-widgets/base",
                    "model_module_version": "1.2.0",
                    "model_name": "LayoutModel",
                    "state": {
                        "_model_module": "@jupyter-widgets/base",
                        "_model_module_version": "1.2.0",
                        "_model_name": "LayoutModel",
                        "_view_count": null,
                        "_view_module": "@jupyter-widgets/base",
                        "_view_module_version": "1.2.0",
                        "_view_name": "LayoutView",
                        "align_content": null,
                        "align_items": null,
                        "align_self": null,
                        "border": null,
                        "bottom": null,
                        "display": null,
                        "flex": null,
                        "flex_flow": null,
                        "grid_area": null,
                        "grid_auto_columns": null,
                        "grid_auto_flow": null,
                        "grid_auto_rows": null,
                        "grid_column": null,
                        "grid_gap": null,
                        "grid_row": null,
                        "grid_template_areas": null,
                        "grid_template_columns": null,
                        "grid_template_rows": null,
                        "height": null,
                        "justify_content": null,
                        "justify_items": null,
                        "left": null,
                        "margin": null,
                        "max_height": null,
                        "max_width": null,
                        "min_height": null,
                        "min_width": null,
                        "object_fit": null,
                        "object_position": null,
                        "order": null,
                        "overflow": null,
                        "overflow_x": null,
                        "overflow_y": null,
                        "padding": null,
                        "right": null,
                        "top": null,
                        "visibility": null,
                        "width": null
                    }
                },
                "739b1ba95abd480c923d56dfdf3d8184": {
                    "model_module": "@jupyter-widgets/controls",
                    "model_module_version": "1.5.0",
                    "model_name": "HTMLModel",
                    "state": {
                        "_dom_classes": [],
                        "_model_module": "@jupyter-widgets/controls",
                        "_model_module_version": "1.5.0",
                        "_model_name": "HTMLModel",
                        "_view_count": null,
                        "_view_module": "@jupyter-widgets/controls",
                        "_view_module_version": "1.5.0",
                        "_view_name": "HTMLView",
                        "description": "",
                        "description_tooltip": null,
                        "layout": "IPY_MODEL_259c6926017542d2b9172ce89d497f14",
                        "placeholder": "​",
                        "style": "IPY_MODEL_6ddf94087ac548d0999be2520b97beed",
                        "value": "100%"
                    }
                },
                "7f01a258c71b4ece8cebc3726111bc00": {
                    "model_module": "@jupyter-widgets/controls",
                    "model_module_version": "1.5.0",
                    "model_name": "FloatProgressModel",
                    "state": {
                        "_dom_classes": [],
                        "_model_module": "@jupyter-widgets/controls",
                        "_model_module_version": "1.5.0",
                        "_model_name": "FloatProgressModel",
                        "_view_count": null,
                        "_view_module": "@jupyter-widgets/controls",
                        "_view_module_version": "1.5.0",
                        "_view_name": "ProgressView",
                        "bar_style": "success",
                        "description": "",
                        "description_tooltip": null,
                        "layout": "IPY_MODEL_65ba2660fc624fb3b58f2e2c4bea295b",
                        "max": 30736856,
                        "min": 0,
                        "orientation": "horizontal",
                        "style": "IPY_MODEL_a602d26d9ddc4ba4b9c7186bf636d895",
                        "value": 30736856
                    }
                },
                "8063acc8e3e845edaedb908f5b8fae7c": {
                    "model_module": "@jupyter-widgets/base",
                    "model_module_version": "1.2.0",
                    "model_name": "LayoutModel",
                    "state": {
                        "_model_module": "@jupyter-widgets/base",
                        "_model_module_version": "1.2.0",
                        "_model_name": "LayoutModel",
                        "_view_count": null,
                        "_view_module": "@jupyter-widgets/base",
                        "_view_module_version": "1.2.0",
                        "_view_name": "LayoutView",
                        "align_content": null,
                        "align_items": null,
                        "align_self": null,
                        "border": null,
                        "bottom": null,
                        "display": null,
                        "flex": null,
                        "flex_flow": null,
                        "grid_area": null,
                        "grid_auto_columns": null,
                        "grid_auto_flow": null,
                        "grid_auto_rows": null,
                        "grid_column": null,
                        "grid_gap": null,
                        "grid_row": null,
                        "grid_template_areas": null,
                        "grid_template_columns": null,
                        "grid_template_rows": null,
                        "height": null,
                        "justify_content": null,
                        "justify_items": null,
                        "left": null,
                        "margin": null,
                        "max_height": null,
                        "max_width": null,
                        "min_height": null,
                        "min_width": null,
                        "object_fit": null,
                        "object_position": null,
                        "order": null,
                        "overflow": null,
                        "overflow_x": null,
                        "overflow_y": null,
                        "padding": null,
                        "right": null,
                        "top": null,
                        "visibility": null,
                        "width": null
                    }
                },
                "889188052d73445c8eed5cf7a11bab11": {
                    "model_module": "@jupyter-widgets/base",
                    "model_module_version": "1.2.0",
                    "model_name": "LayoutModel",
                    "state": {
                        "_model_module": "@jupyter-widgets/base",
                        "_model_module_version": "1.2.0",
                        "_model_name": "LayoutModel",
                        "_view_count": null,
                        "_view_module": "@jupyter-widgets/base",
                        "_view_module_version": "1.2.0",
                        "_view_name": "LayoutView",
                        "align_content": null,
                        "align_items": null,
                        "align_self": null,
                        "border": null,
                        "bottom": null,
                        "display": null,
                        "flex": null,
                        "flex_flow": null,
                        "grid_area": null,
                        "grid_auto_columns": null,
                        "grid_auto_flow": null,
                        "grid_auto_rows": null,
                        "grid_column": null,
                        "grid_gap": null,
                        "grid_row": null,
                        "grid_template_areas": null,
                        "grid_template_columns": null,
                        "grid_template_rows": null,
                        "height": null,
                        "justify_content": null,
                        "justify_items": null,
                        "left": null,
                        "margin": null,
                        "max_height": null,
                        "max_width": null,
                        "min_height": null,
                        "min_width": null,
                        "object_fit": null,
                        "object_position": null,
                        "order": null,
                        "overflow": null,
                        "overflow_x": null,
                        "overflow_y": null,
                        "padding": null,
                        "right": null,
                        "top": null,
                        "visibility": null,
                        "width": null
                    }
                },
                "9fda862299f342e3bdc8a312d2dd7615": {
                    "model_module": "@jupyter-widgets/controls",
                    "model_module_version": "1.5.0",
                    "model_name": "HBoxModel",
                    "state": {
                        "_dom_classes": [],
                        "_model_module": "@jupyter-widgets/controls",
                        "_model_module_version": "1.5.0",
                        "_model_name": "HBoxModel",
                        "_view_count": null,
                        "_view_module": "@jupyter-widgets/controls",
                        "_view_module_version": "1.5.0",
                        "_view_name": "HBoxView",
                        "box_style": "",
                        "children": [
                            "IPY_MODEL_f487573f4fad47f5a1048c41306b9a92",
                            "IPY_MODEL_2e776a24bf28498a9f10ca91da0fc866",
                            "IPY_MODEL_a836b4d0253d42a1ab56a1344f971924"
                        ],
                        "layout": "IPY_MODEL_8063acc8e3e845edaedb908f5b8fae7c"
                    }
                },
                "a602d26d9ddc4ba4b9c7186bf636d895": {
                    "model_module": "@jupyter-widgets/controls",
                    "model_module_version": "1.5.0",
                    "model_name": "ProgressStyleModel",
                    "state": {
                        "_model_module": "@jupyter-widgets/controls",
                        "_model_module_version": "1.5.0",
                        "_model_name": "ProgressStyleModel",
                        "_view_count": null,
                        "_view_module": "@jupyter-widgets/base",
                        "_view_module_version": "1.2.0",
                        "_view_name": "StyleView",
                        "bar_color": null,
                        "description_width": ""
                    }
                },
                "a836b4d0253d42a1ab56a1344f971924": {
                    "model_module": "@jupyter-widgets/controls",
                    "model_module_version": "1.5.0",
                    "model_name": "HTMLModel",
                    "state": {
                        "_dom_classes": [],
                        "_model_module": "@jupyter-widgets/controls",
                        "_model_module_version": "1.5.0",
                        "_model_name": "HTMLModel",
                        "_view_count": null,
                        "_view_module": "@jupyter-widgets/controls",
                        "_view_module_version": "1.5.0",
                        "_view_name": "HTMLView",
                        "description": "",
                        "description_tooltip": null,
                        "layout": "IPY_MODEL_3b3d95ebaac749609dafec6053c11669",
                        "placeholder": "​",
                        "style": "IPY_MODEL_67c43fa66ae547ec8ca17d43864f3008",
                        "value": " 7.86M/7.86M [00:00&lt;00:00, 18.4MB/s]"
                    }
                },
                "ac5642ba40e0466ea9d2e8f46c4056fd": {
                    "model_module": "@jupyter-widgets/base",
                    "model_module_version": "1.2.0",
                    "model_name": "LayoutModel",
                    "state": {
                        "_model_module": "@jupyter-widgets/base",
                        "_model_module_version": "1.2.0",
                        "_model_name": "LayoutModel",
                        "_view_count": null,
                        "_view_module": "@jupyter-widgets/base",
                        "_view_module_version": "1.2.0",
                        "_view_name": "LayoutView",
                        "align_content": null,
                        "align_items": null,
                        "align_self": null,
                        "border": null,
                        "bottom": null,
                        "display": null,
                        "flex": null,
                        "flex_flow": null,
                        "grid_area": null,
                        "grid_auto_columns": null,
                        "grid_auto_flow": null,
                        "grid_auto_rows": null,
                        "grid_column": null,
                        "grid_gap": null,
                        "grid_row": null,
                        "grid_template_areas": null,
                        "grid_template_columns": null,
                        "grid_template_rows": null,
                        "height": null,
                        "justify_content": null,
                        "justify_items": null,
                        "left": null,
                        "margin": null,
                        "max_height": null,
                        "max_width": null,
                        "min_height": null,
                        "min_width": null,
                        "object_fit": null,
                        "object_position": null,
                        "order": null,
                        "overflow": null,
                        "overflow_x": null,
                        "overflow_y": null,
                        "padding": null,
                        "right": null,
                        "top": null,
                        "visibility": null,
                        "width": null
                    }
                },
                "ba249b8ffd744a198e14957d12c7d830": {
                    "model_module": "@jupyter-widgets/base",
                    "model_module_version": "1.2.0",
                    "model_name": "LayoutModel",
                    "state": {
                        "_model_module": "@jupyter-widgets/base",
                        "_model_module_version": "1.2.0",
                        "_model_name": "LayoutModel",
                        "_view_count": null,
                        "_view_module": "@jupyter-widgets/base",
                        "_view_module_version": "1.2.0",
                        "_view_name": "LayoutView",
                        "align_content": null,
                        "align_items": null,
                        "align_self": null,
                        "border": null,
                        "bottom": null,
                        "display": null,
                        "flex": null,
                        "flex_flow": null,
                        "grid_area": null,
                        "grid_auto_columns": null,
                        "grid_auto_flow": null,
                        "grid_auto_rows": null,
                        "grid_column": null,
                        "grid_gap": null,
                        "grid_row": null,
                        "grid_template_areas": null,
                        "grid_template_columns": null,
                        "grid_template_rows": null,
                        "height": null,
                        "justify_content": null,
                        "justify_items": null,
                        "left": null,
                        "margin": null,
                        "max_height": null,
                        "max_width": null,
                        "min_height": null,
                        "min_width": null,
                        "object_fit": null,
                        "object_position": null,
                        "order": null,
                        "overflow": null,
                        "overflow_x": null,
                        "overflow_y": null,
                        "padding": null,
                        "right": null,
                        "top": null,
                        "visibility": null,
                        "width": null
                    }
                },
                "d3a428d020494069a89f3098331561da": {
                    "model_module": "@jupyter-widgets/controls",
                    "model_module_version": "1.5.0",
                    "model_name": "HBoxModel",
                    "state": {
                        "_dom_classes": [],
                        "_model_module": "@jupyter-widgets/controls",
                        "_model_module_version": "1.5.0",
                        "_model_name": "HBoxModel",
                        "_view_count": null,
                        "_view_module": "@jupyter-widgets/controls",
                        "_view_module_version": "1.5.0",
                        "_view_name": "HBoxView",
                        "box_style": "",
                        "children": [
                            "IPY_MODEL_27af6592eae24b31ad8e8151dea2a82c",
                            "IPY_MODEL_7f01a258c71b4ece8cebc3726111bc00",
                            "IPY_MODEL_dee2ee6efef24a6a98125bfa0b2356d6"
                        ],
                        "layout": "IPY_MODEL_2b685f6d882142719331b8b226d18689"
                    }
                },
                "dc787088710740a6a947e029de984879": {
                    "model_module": "@jupyter-widgets/controls",
                    "model_module_version": "1.5.0",
                    "model_name": "HTMLModel",
                    "state": {
                        "_dom_classes": [],
                        "_model_module": "@jupyter-widgets/controls",
                        "_model_module_version": "1.5.0",
                        "_model_name": "HTMLModel",
                        "_view_count": null,
                        "_view_module": "@jupyter-widgets/controls",
                        "_view_module_version": "1.5.0",
                        "_view_name": "HTMLView",
                        "description": "",
                        "description_tooltip": null,
                        "layout": "IPY_MODEL_889188052d73445c8eed5cf7a11bab11",
                        "placeholder": "​",
                        "style": "IPY_MODEL_5a56037c5dac4be0bb68ad4c2bb3e9e1",
                        "value": " 527M/527M [01:47&lt;00:00, 11.3MB/s]"
                    }
                },
                "ded5e94b6af64809af5eda91f294dfd0": {
                    "model_module": "@jupyter-widgets/controls",
                    "model_module_version": "1.5.0",
                    "model_name": "DescriptionStyleModel",
                    "state": {
                        "_model_module": "@jupyter-widgets/controls",
                        "_model_module_version": "1.5.0",
                        "_model_name": "DescriptionStyleModel",
                        "_view_count": null,
                        "_view_module": "@jupyter-widgets/base",
                        "_view_module_version": "1.2.0",
                        "_view_name": "StyleView",
                        "description_width": ""
                    }
                },
                "dee2ee6efef24a6a98125bfa0b2356d6": {
                    "model_module": "@jupyter-widgets/controls",
                    "model_module_version": "1.5.0",
                    "model_name": "HTMLModel",
                    "state": {
                        "_dom_classes": [],
                        "_model_module": "@jupyter-widgets/controls",
                        "_model_module_version": "1.5.0",
                        "_model_name": "HTMLModel",
                        "_view_count": null,
                        "_view_module": "@jupyter-widgets/controls",
                        "_view_module_version": "1.5.0",
                        "_view_name": "HTMLView",
                        "description": "",
                        "description_tooltip": null,
                        "layout": "IPY_MODEL_ac5642ba40e0466ea9d2e8f46c4056fd",
                        "placeholder": "​",
                        "style": "IPY_MODEL_e5f9c5b011c34297ac87115686034d33",
                        "value": " 29.3M/29.3M [00:00&lt;00:00, 40.1MB/s]"
                    }
                },
                "e59c6f3ff3084ea1af7c98fc1ca36667": {
                    "model_module": "@jupyter-widgets/controls",
                    "model_module_version": "1.5.0",
                    "model_name": "HBoxModel",
                    "state": {
                        "_dom_classes": [],
                        "_model_module": "@jupyter-widgets/controls",
                        "_model_module_version": "1.5.0",
                        "_model_name": "HBoxModel",
                        "_view_count": null,
                        "_view_module": "@jupyter-widgets/controls",
                        "_view_module_version": "1.5.0",
                        "_view_name": "HBoxView",
                        "box_style": "",
                        "children": [
                            "IPY_MODEL_739b1ba95abd480c923d56dfdf3d8184",
                            "IPY_MODEL_13cab460ef8b471cbae1a6cb2240e619",
                            "IPY_MODEL_dc787088710740a6a947e029de984879"
                        ],
                        "layout": "IPY_MODEL_0bb6b8cd1da14e05be74e9b19322658b"
                    }
                },
                "e5f9c5b011c34297ac87115686034d33": {
                    "model_module": "@jupyter-widgets/controls",
                    "model_module_version": "1.5.0",
                    "model_name": "DescriptionStyleModel",
                    "state": {
                        "_model_module": "@jupyter-widgets/controls",
                        "_model_module_version": "1.5.0",
                        "_model_name": "DescriptionStyleModel",
                        "_view_count": null,
                        "_view_module": "@jupyter-widgets/base",
                        "_view_module_version": "1.2.0",
                        "_view_name": "StyleView",
                        "description_width": ""
                    }
                },
                "effa314248b3455e84694cc69680efa7": {
                    "model_module": "@jupyter-widgets/base",
                    "model_module_version": "1.2.0",
                    "model_name": "LayoutModel",
                    "state": {
                        "_model_module": "@jupyter-widgets/base",
                        "_model_module_version": "1.2.0",
                        "_model_name": "LayoutModel",
                        "_view_count": null,
                        "_view_module": "@jupyter-widgets/base",
                        "_view_module_version": "1.2.0",
                        "_view_name": "LayoutView",
                        "align_content": null,
                        "align_items": null,
                        "align_self": null,
                        "border": null,
                        "bottom": null,
                        "display": null,
                        "flex": null,
                        "flex_flow": null,
                        "grid_area": null,
                        "grid_auto_columns": null,
                        "grid_auto_flow": null,
                        "grid_auto_rows": null,
                        "grid_column": null,
                        "grid_gap": null,
                        "grid_row": null,
                        "grid_template_areas": null,
                        "grid_template_columns": null,
                        "grid_template_rows": null,
                        "height": null,
                        "justify_content": null,
                        "justify_items": null,
                        "left": null,
                        "margin": null,
                        "max_height": null,
                        "max_width": null,
                        "min_height": null,
                        "min_width": null,
                        "object_fit": null,
                        "object_position": null,
                        "order": null,
                        "overflow": null,
                        "overflow_x": null,
                        "overflow_y": null,
                        "padding": null,
                        "right": null,
                        "top": null,
                        "visibility": null,
                        "width": null
                    }
                },
                "f150164587ca4ad39c839816c96e3382": {
                    "model_module": "@jupyter-widgets/controls",
                    "model_module_version": "1.5.0",
                    "model_name": "DescriptionStyleModel",
                    "state": {
                        "_model_module": "@jupyter-widgets/controls",
                        "_model_module_version": "1.5.0",
                        "_model_name": "DescriptionStyleModel",
                        "_view_count": null,
                        "_view_module": "@jupyter-widgets/base",
                        "_view_module_version": "1.2.0",
                        "_view_name": "StyleView",
                        "description_width": ""
                    }
                },
                "f487573f4fad47f5a1048c41306b9a92": {
                    "model_module": "@jupyter-widgets/controls",
                    "model_module_version": "1.5.0",
                    "model_name": "HTMLModel",
                    "state": {
                        "_dom_classes": [],
                        "_model_module": "@jupyter-widgets/controls",
                        "_model_module_version": "1.5.0",
                        "_model_name": "HTMLModel",
                        "_view_count": null,
                        "_view_module": "@jupyter-widgets/controls",
                        "_view_module_version": "1.5.0",
                        "_view_name": "HTMLView",
                        "description": "",
                        "description_tooltip": null,
                        "layout": "IPY_MODEL_596e11172e1c487791e6cca30ae71be7",
                        "placeholder": "​",
                        "style": "IPY_MODEL_ded5e94b6af64809af5eda91f294dfd0",
                        "value": "100%"
                    }
                }
            }
        }
    },
    "nbformat": 4,
    "nbformat_minor": 0
}
