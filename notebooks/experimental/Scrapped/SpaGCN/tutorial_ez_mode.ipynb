{
 "cells": [
  {
   "cell_type": "markdown",
   "metadata": {},
   "source": [
    "<h1><center>SpaGCN Tutorial Easy Mode</center></h1>\n",
    "\n",
    "\n",
    "<center>Author: Jian Hu,*, Xiangjie Li, Kyle Coleman, Amelia Schroeder, Nan Ma, David J. Irwin, Edward B. Lee, Russell T. Shinohara, Mingyao Li*"
   ]
  },
  {
   "cell_type": "markdown",
   "metadata": {},
   "source": [
    "### Outline\n",
    "1. Installation\n",
    "2. Import modules\n",
    "3. Read in data\n",
    "4. Spatial domain detection using SpaGCN\n",
    "5. Identify SVGs\n",
    "6. Identify Meta Gene"
   ]
  },
  {
   "cell_type": "markdown",
   "metadata": {},
   "source": [
    "### 1. Installation\n",
    "To install SpaGCN package you must make sure that your python version is over 3.5.=. If you don’t know the version of python you can check it by:"
   ]
  },
  {
   "cell_type": "code",
   "execution_count": 1,
   "metadata": {},
   "outputs": [
    {
     "data": {
      "text/plain": [
       "'3.10.12'"
      ]
     },
     "execution_count": 1,
     "metadata": {},
     "output_type": "execute_result"
    }
   ],
   "source": [
    "import platform\n",
    "platform.python_version()"
   ]
  },
  {
   "cell_type": "markdown",
   "metadata": {},
   "source": [
    "Note: Because SpaGCN pends on pytorch, you should make sure torch is correctly installed.\n",
    "<br>\n",
    "Now you can install the current release of SpaGCN by the following three ways:\n",
    "#### 1.1 PyPI: Directly install the package from PyPI."
   ]
  },
  {
   "cell_type": "code",
   "execution_count": 2,
   "metadata": {},
   "outputs": [
    {
     "name": "stdout",
     "output_type": "stream",
     "text": [
      "Requirement already satisfied: SpaGCN in /mnt/work/RO_src/venv/stnav_venv/lib/python3.10/site-packages (1.2.7)\n",
      "Requirement already satisfied: numpy in /mnt/work/RO_src/venv/stnav_venv/lib/python3.10/site-packages (from SpaGCN) (1.25.2)\n",
      "Requirement already satisfied: torch in /mnt/work/RO_src/venv/stnav_venv/lib/python3.10/site-packages (from SpaGCN) (2.3.1)\n",
      "Requirement already satisfied: scanpy in /mnt/work/RO_src/venv/stnav_venv/lib/python3.10/site-packages (from SpaGCN) (1.9.8)\n",
      "Requirement already satisfied: python-igraph in /mnt/work/RO_src/venv/stnav_venv/lib/python3.10/site-packages (from SpaGCN) (0.11.5)\n",
      "Requirement already satisfied: numba in /mnt/work/RO_src/venv/stnav_venv/lib/python3.10/site-packages (from SpaGCN) (0.58.0)\n",
      "Requirement already satisfied: scipy in /mnt/work/RO_src/venv/stnav_venv/lib/python3.10/site-packages (from SpaGCN) (1.11.4)\n",
      "Requirement already satisfied: louvain in /mnt/work/RO_src/venv/stnav_venv/lib/python3.10/site-packages (from SpaGCN) (0.8.2)\n",
      "Requirement already satisfied: pandas in /mnt/work/RO_src/venv/stnav_venv/lib/python3.10/site-packages (from SpaGCN) (2.2.2)\n",
      "Requirement already satisfied: scikit-learn in /mnt/work/RO_src/venv/stnav_venv/lib/python3.10/site-packages (from SpaGCN) (1.5.0)\n",
      "Requirement already satisfied: anndata in /mnt/work/RO_src/venv/stnav_venv/lib/python3.10/site-packages (from SpaGCN) (0.10.5.post1)\n",
      "Requirement already satisfied: packaging>=20 in /mnt/work/RO_src/venv/stnav_venv/lib/python3.10/site-packages (from anndata->SpaGCN) (24.1)\n",
      "Requirement already satisfied: exceptiongroup in /mnt/work/RO_src/venv/stnav_venv/lib/python3.10/site-packages (from anndata->SpaGCN) (1.2.1)\n",
      "Requirement already satisfied: natsort in /mnt/work/RO_src/venv/stnav_venv/lib/python3.10/site-packages (from anndata->SpaGCN) (8.4.0)\n",
      "Requirement already satisfied: array-api-compat in /mnt/work/RO_src/venv/stnav_venv/lib/python3.10/site-packages (from anndata->SpaGCN) (1.7.1)\n",
      "Requirement already satisfied: h5py>=3 in /mnt/work/RO_src/venv/stnav_venv/lib/python3.10/site-packages (from anndata->SpaGCN) (3.11.0)\n",
      "Requirement already satisfied: pytz>=2020.1 in /mnt/work/RO_src/venv/stnav_venv/lib/python3.10/site-packages (from pandas->SpaGCN) (2024.1)\n",
      "Requirement already satisfied: python-dateutil>=2.8.2 in /mnt/work/RO_src/venv/stnav_venv/lib/python3.10/site-packages (from pandas->SpaGCN) (2.9.0.post0)\n",
      "Requirement already satisfied: tzdata>=2022.7 in /mnt/work/RO_src/venv/stnav_venv/lib/python3.10/site-packages (from pandas->SpaGCN) (2024.1)\n",
      "Requirement already satisfied: igraph<0.12,>=0.10.0 in /mnt/work/RO_src/venv/stnav_venv/lib/python3.10/site-packages (from louvain->SpaGCN) (0.11.5)\n",
      "Requirement already satisfied: llvmlite<0.42,>=0.41.0dev0 in /mnt/work/RO_src/venv/stnav_venv/lib/python3.10/site-packages (from numba->SpaGCN) (0.41.1)\n",
      "Requirement already satisfied: texttable>=1.6.2 in /mnt/work/RO_src/venv/stnav_venv/lib/python3.10/site-packages (from igraph<0.12,>=0.10.0->louvain->SpaGCN) (1.7.0)\n",
      "Requirement already satisfied: seaborn>=0.13.0 in /mnt/work/RO_src/venv/stnav_venv/lib/python3.10/site-packages (from scanpy->SpaGCN) (0.13.2)\n",
      "Requirement already satisfied: statsmodels>=0.10.0rc2 in /mnt/work/RO_src/venv/stnav_venv/lib/python3.10/site-packages (from scanpy->SpaGCN) (0.14.1)\n",
      "Requirement already satisfied: tqdm in /mnt/work/RO_src/venv/stnav_venv/lib/python3.10/site-packages (from scanpy->SpaGCN) (4.66.4)\n",
      "Requirement already satisfied: joblib in /mnt/work/RO_src/venv/stnav_venv/lib/python3.10/site-packages (from scanpy->SpaGCN) (1.4.2)\n",
      "Requirement already satisfied: patsy in /mnt/work/RO_src/venv/stnav_venv/lib/python3.10/site-packages (from scanpy->SpaGCN) (0.5.6)\n",
      "Requirement already satisfied: matplotlib>=3.6 in /mnt/work/RO_src/venv/stnav_venv/lib/python3.10/site-packages (from scanpy->SpaGCN) (3.8.4)\n",
      "Requirement already satisfied: umap-learn>=0.3.10 in /mnt/work/RO_src/venv/stnav_venv/lib/python3.10/site-packages (from scanpy->SpaGCN) (0.5.6)\n",
      "Requirement already satisfied: networkx>=2.3 in /mnt/work/RO_src/venv/stnav_venv/lib/python3.10/site-packages (from scanpy->SpaGCN) (3.3)\n",
      "Requirement already satisfied: session-info in /mnt/work/RO_src/venv/stnav_venv/lib/python3.10/site-packages (from scanpy->SpaGCN) (1.0.0)\n",
      "Requirement already satisfied: threadpoolctl>=3.1.0 in /mnt/work/RO_src/venv/stnav_venv/lib/python3.10/site-packages (from scikit-learn->SpaGCN) (3.5.0)\n",
      "Requirement already satisfied: nvidia-cuda-runtime-cu12==12.1.105 in /mnt/work/RO_src/venv/stnav_venv/lib/python3.10/site-packages (from torch->SpaGCN) (12.1.105)\n",
      "Requirement already satisfied: fsspec in /mnt/work/RO_src/venv/stnav_venv/lib/python3.10/site-packages (from torch->SpaGCN) (2023.6.0)\n",
      "Requirement already satisfied: nvidia-cufft-cu12==11.0.2.54 in /mnt/work/RO_src/venv/stnav_venv/lib/python3.10/site-packages (from torch->SpaGCN) (11.0.2.54)\n",
      "Requirement already satisfied: nvidia-curand-cu12==10.3.2.106 in /mnt/work/RO_src/venv/stnav_venv/lib/python3.10/site-packages (from torch->SpaGCN) (10.3.2.106)\n",
      "Requirement already satisfied: triton==2.3.1 in /mnt/work/RO_src/venv/stnav_venv/lib/python3.10/site-packages (from torch->SpaGCN) (2.3.1)\n",
      "Requirement already satisfied: typing-extensions>=4.8.0 in /mnt/work/RO_src/venv/stnav_venv/lib/python3.10/site-packages (from torch->SpaGCN) (4.12.2)\n",
      "Requirement already satisfied: nvidia-cusolver-cu12==11.4.5.107 in /mnt/work/RO_src/venv/stnav_venv/lib/python3.10/site-packages (from torch->SpaGCN) (11.4.5.107)\n",
      "Requirement already satisfied: nvidia-nccl-cu12==2.20.5 in /mnt/work/RO_src/venv/stnav_venv/lib/python3.10/site-packages (from torch->SpaGCN) (2.20.5)\n",
      "Requirement already satisfied: nvidia-cudnn-cu12==8.9.2.26 in /mnt/work/RO_src/venv/stnav_venv/lib/python3.10/site-packages (from torch->SpaGCN) (8.9.2.26)\n",
      "Requirement already satisfied: nvidia-cusparse-cu12==12.1.0.106 in /mnt/work/RO_src/venv/stnav_venv/lib/python3.10/site-packages (from torch->SpaGCN) (12.1.0.106)\n",
      "Requirement already satisfied: nvidia-nvtx-cu12==12.1.105 in /mnt/work/RO_src/venv/stnav_venv/lib/python3.10/site-packages (from torch->SpaGCN) (12.1.105)\n",
      "Requirement already satisfied: nvidia-cublas-cu12==12.1.3.1 in /mnt/work/RO_src/venv/stnav_venv/lib/python3.10/site-packages (from torch->SpaGCN) (12.1.3.1)\n",
      "Requirement already satisfied: filelock in /mnt/work/RO_src/venv/stnav_venv/lib/python3.10/site-packages (from torch->SpaGCN) (3.15.3)\n",
      "Requirement already satisfied: nvidia-cuda-cupti-cu12==12.1.105 in /mnt/work/RO_src/venv/stnav_venv/lib/python3.10/site-packages (from torch->SpaGCN) (12.1.105)\n",
      "Requirement already satisfied: nvidia-cuda-nvrtc-cu12==12.1.105 in /mnt/work/RO_src/venv/stnav_venv/lib/python3.10/site-packages (from torch->SpaGCN) (12.1.105)\n",
      "Requirement already satisfied: sympy in /mnt/work/RO_src/venv/stnav_venv/lib/python3.10/site-packages (from torch->SpaGCN) (1.12.1)\n",
      "Requirement already satisfied: jinja2 in /mnt/work/RO_src/venv/stnav_venv/lib/python3.10/site-packages (from torch->SpaGCN) (3.1.4)\n",
      "Requirement already satisfied: nvidia-nvjitlink-cu12 in /mnt/work/RO_src/venv/stnav_venv/lib/python3.10/site-packages (from nvidia-cusolver-cu12==11.4.5.107->torch->SpaGCN) (12.5.40)\n",
      "Requirement already satisfied: kiwisolver>=1.3.1 in /mnt/work/RO_src/venv/stnav_venv/lib/python3.10/site-packages (from matplotlib>=3.6->scanpy->SpaGCN) (1.4.5)\n",
      "Requirement already satisfied: pillow>=8 in /mnt/work/RO_src/venv/stnav_venv/lib/python3.10/site-packages (from matplotlib>=3.6->scanpy->SpaGCN) (10.3.0)\n",
      "Requirement already satisfied: contourpy>=1.0.1 in /mnt/work/RO_src/venv/stnav_venv/lib/python3.10/site-packages (from matplotlib>=3.6->scanpy->SpaGCN) (1.2.1)\n",
      "Requirement already satisfied: fonttools>=4.22.0 in /mnt/work/RO_src/venv/stnav_venv/lib/python3.10/site-packages (from matplotlib>=3.6->scanpy->SpaGCN) (4.53.0)\n",
      "Requirement already satisfied: pyparsing>=2.3.1 in /mnt/work/RO_src/venv/stnav_venv/lib/python3.10/site-packages (from matplotlib>=3.6->scanpy->SpaGCN) (3.1.2)\n",
      "Requirement already satisfied: cycler>=0.10 in /mnt/work/RO_src/venv/stnav_venv/lib/python3.10/site-packages (from matplotlib>=3.6->scanpy->SpaGCN) (0.12.1)\n",
      "Requirement already satisfied: six>=1.5 in /mnt/work/RO_src/venv/stnav_venv/lib/python3.10/site-packages (from python-dateutil>=2.8.2->pandas->SpaGCN) (1.16.0)\n",
      "Requirement already satisfied: pynndescent>=0.5 in /mnt/work/RO_src/venv/stnav_venv/lib/python3.10/site-packages (from umap-learn>=0.3.10->scanpy->SpaGCN) (0.5.13)\n",
      "Requirement already satisfied: MarkupSafe>=2.0 in /mnt/work/RO_src/venv/stnav_venv/lib/python3.10/site-packages (from jinja2->torch->SpaGCN) (2.1.5)\n",
      "Requirement already satisfied: stdlib-list in /mnt/work/RO_src/venv/stnav_venv/lib/python3.10/site-packages (from session-info->scanpy->SpaGCN) (0.10.0)\n",
      "Requirement already satisfied: mpmath<1.4.0,>=1.1.0 in /mnt/work/RO_src/venv/stnav_venv/lib/python3.10/site-packages (from sympy->torch->SpaGCN) (1.3.0)\n"
     ]
    }
   ],
   "source": [
    "!pip3 install SpaGCN\n",
    "#Note: you need to make sure that the pip is for python3，or we should install SpaGCN by\n",
    "# python3 -m pip install SpaGCN\n",
    "# pip3 install SpaGCN\n",
    "# #If you do not have permission (when you get a permission denied error), you should install SpaGCN by\n",
    "# pip3 install --user SpaGCN"
   ]
  },
  {
   "cell_type": "markdown",
   "metadata": {},
   "source": [
    "#### 1.2 Github\n",
    "Download the package from Github and install it locally:"
   ]
  },
  {
   "cell_type": "markdown",
   "metadata": {},
   "source": [
    "#### 1.3 Anaconda\n",
    "If you do not have Python3.5 or Python3.6 installed, consider installing Anaconda (see Installing Anaconda). After installing Anaconda, you can create a new environment, for example, SpaGCN (you can change to any name you like)."
   ]
  },
  {
   "cell_type": "markdown",
   "metadata": {},
   "source": [
    "### 2. Import python modules"
   ]
  },
  {
   "cell_type": "code",
   "execution_count": 31,
   "metadata": {},
   "outputs": [],
   "source": [
    "import os,csv,re\n",
    "import pandas as pd\n",
    "import numpy as np\n",
    "import scanpy as sc\n",
    "import math\n",
    "import SpaGCN as spg\n",
    "from scipy.sparse import issparse\n",
    "import random, torch\n",
    "import warnings\n",
    "warnings.filterwarnings(\"ignore\")\n",
    "import matplotlib.colors as clr\n",
    "import matplotlib.pyplot as plt\n",
    "import SpaGCN as spg\n",
    "\n",
    "import cv2"
   ]
  },
  {
   "cell_type": "code",
   "execution_count": 7,
   "metadata": {},
   "outputs": [
    {
     "data": {
      "text/plain": [
       "'1.2.7'"
      ]
     },
     "execution_count": 7,
     "metadata": {},
     "output_type": "execute_result"
    }
   ],
   "source": [
    "spg.__version__"
   ]
  },
  {
   "cell_type": "markdown",
   "metadata": {},
   "source": [
    "### 3. Read in data\n",
    "The current version of SpaGCN requres three input data: \n",
    "<br>\n",
    "1. The gene expression matrix(n by k): expression_matrix.h5;\n",
    "<br>\n",
    "2. Spatial coordinateds of samplespositions.txt;\n",
    "<br>\n",
    "3. Histology image(optional): histology.tif, can be tif or png or jepg.\n",
    "<br>\n",
    "The gene expreesion data can be stored as an AnnData object. AnnData stores a data matrix .X together with annotations of observations .obs, variables .var and unstructured annotations .uns. "
   ]
  },
  {
   "cell_type": "code",
   "execution_count": 13,
   "metadata": {},
   "outputs": [],
   "source": [
    "from scanpy import read_10x_h5\n",
    "adata = read_10x_h5(\"/mnt/work/RO_src/data/raw/VisiumHD/square_008um/filtered_feature_bc_matrix.h5\")\n",
    "spatial = pd.read_csv(\"/mnt/work/RO_src/data/raw/VisiumHD/square_008um/spatial/tissue_positions_list.csv\", sep=\",\", na_filter=False,header=None, index_col=0)\n"
   ]
  },
  {
   "cell_type": "code",
   "execution_count": 14,
   "metadata": {},
   "outputs": [
    {
     "data": {
      "text/html": [
       "<div>\n",
       "<style scoped>\n",
       "    .dataframe tbody tr th:only-of-type {\n",
       "        vertical-align: middle;\n",
       "    }\n",
       "\n",
       "    .dataframe tbody tr th {\n",
       "        vertical-align: top;\n",
       "    }\n",
       "\n",
       "    .dataframe thead th {\n",
       "        text-align: right;\n",
       "    }\n",
       "</style>\n",
       "<table border=\"1\" class=\"dataframe\">\n",
       "  <thead>\n",
       "    <tr style=\"text-align: right;\">\n",
       "      <th></th>\n",
       "      <th>1</th>\n",
       "      <th>2</th>\n",
       "      <th>3</th>\n",
       "      <th>4</th>\n",
       "      <th>5</th>\n",
       "    </tr>\n",
       "    <tr>\n",
       "      <th>0</th>\n",
       "      <th></th>\n",
       "      <th></th>\n",
       "      <th></th>\n",
       "      <th></th>\n",
       "      <th></th>\n",
       "    </tr>\n",
       "  </thead>\n",
       "  <tbody>\n",
       "    <tr>\n",
       "      <th>barcode</th>\n",
       "      <td>in_tissue</td>\n",
       "      <td>array_row</td>\n",
       "      <td>array_col</td>\n",
       "      <td>pxl_row_in_fullres</td>\n",
       "      <td>pxl_col_in_fullres</td>\n",
       "    </tr>\n",
       "    <tr>\n",
       "      <th>s_008um_00000_00000-1</th>\n",
       "      <td>0</td>\n",
       "      <td>0</td>\n",
       "      <td>0</td>\n",
       "      <td>4445.954347413988</td>\n",
       "      <td>21248.521851078658</td>\n",
       "    </tr>\n",
       "    <tr>\n",
       "      <th>s_008um_00000_00001-1</th>\n",
       "      <td>0</td>\n",
       "      <td>0</td>\n",
       "      <td>1</td>\n",
       "      <td>4446.10936011058</td>\n",
       "      <td>21223.905485815525</td>\n",
       "    </tr>\n",
       "    <tr>\n",
       "      <th>s_008um_00000_00002-1</th>\n",
       "      <td>0</td>\n",
       "      <td>0</td>\n",
       "      <td>2</td>\n",
       "      <td>4446.264372805187</td>\n",
       "      <td>21199.289120867452</td>\n",
       "    </tr>\n",
       "    <tr>\n",
       "      <th>s_008um_00000_00003-1</th>\n",
       "      <td>0</td>\n",
       "      <td>0</td>\n",
       "      <td>3</td>\n",
       "      <td>4446.419385497811</td>\n",
       "      <td>21174.672756234435</td>\n",
       "    </tr>\n",
       "    <tr>\n",
       "      <th>...</th>\n",
       "      <td>...</td>\n",
       "      <td>...</td>\n",
       "      <td>...</td>\n",
       "      <td>...</td>\n",
       "      <td>...</td>\n",
       "    </tr>\n",
       "    <tr>\n",
       "      <th>s_008um_00837_00833-1</th>\n",
       "      <td>0</td>\n",
       "      <td>837</td>\n",
       "      <td>833</td>\n",
       "      <td>25179.151984</td>\n",
       "      <td>872.206291</td>\n",
       "    </tr>\n",
       "    <tr>\n",
       "      <th>s_008um_00837_00834-1</th>\n",
       "      <td>0</td>\n",
       "      <td>837</td>\n",
       "      <td>834</td>\n",
       "      <td>25179.306867</td>\n",
       "      <td>847.589476</td>\n",
       "    </tr>\n",
       "    <tr>\n",
       "      <th>s_008um_00837_00835-1</th>\n",
       "      <td>0</td>\n",
       "      <td>837</td>\n",
       "      <td>835</td>\n",
       "      <td>25179.461751</td>\n",
       "      <td>822.972661</td>\n",
       "    </tr>\n",
       "    <tr>\n",
       "      <th>s_008um_00837_00836-1</th>\n",
       "      <td>0</td>\n",
       "      <td>837</td>\n",
       "      <td>836</td>\n",
       "      <td>25179.616635</td>\n",
       "      <td>798.355847</td>\n",
       "    </tr>\n",
       "    <tr>\n",
       "      <th>s_008um_00837_00837-1</th>\n",
       "      <td>0</td>\n",
       "      <td>837</td>\n",
       "      <td>837</td>\n",
       "      <td>25179.771518</td>\n",
       "      <td>773.739032</td>\n",
       "    </tr>\n",
       "  </tbody>\n",
       "</table>\n",
       "<p>702245 rows × 5 columns</p>\n",
       "</div>"
      ],
      "text/plain": [
       "                               1          2          3                   4  \\\n",
       "0                                                                            \n",
       "barcode                in_tissue  array_row  array_col  pxl_row_in_fullres   \n",
       "s_008um_00000_00000-1          0          0          0   4445.954347413988   \n",
       "s_008um_00000_00001-1          0          0          1    4446.10936011058   \n",
       "s_008um_00000_00002-1          0          0          2   4446.264372805187   \n",
       "s_008um_00000_00003-1          0          0          3   4446.419385497811   \n",
       "...                          ...        ...        ...                 ...   \n",
       "s_008um_00837_00833-1          0        837        833        25179.151984   \n",
       "s_008um_00837_00834-1          0        837        834        25179.306867   \n",
       "s_008um_00837_00835-1          0        837        835        25179.461751   \n",
       "s_008um_00837_00836-1          0        837        836        25179.616635   \n",
       "s_008um_00837_00837-1          0        837        837        25179.771518   \n",
       "\n",
       "                                        5  \n",
       "0                                          \n",
       "barcode                pxl_col_in_fullres  \n",
       "s_008um_00000_00000-1  21248.521851078658  \n",
       "s_008um_00000_00001-1  21223.905485815525  \n",
       "s_008um_00000_00002-1  21199.289120867452  \n",
       "s_008um_00000_00003-1  21174.672756234435  \n",
       "...                                   ...  \n",
       "s_008um_00837_00833-1          872.206291  \n",
       "s_008um_00837_00834-1          847.589476  \n",
       "s_008um_00837_00835-1          822.972661  \n",
       "s_008um_00837_00836-1          798.355847  \n",
       "s_008um_00837_00837-1          773.739032  \n",
       "\n",
       "[702245 rows x 5 columns]"
      ]
     },
     "execution_count": 14,
     "metadata": {},
     "output_type": "execute_result"
    }
   ],
   "source": [
    "spatial"
   ]
  },
  {
   "cell_type": "code",
   "execution_count": 19,
   "metadata": {},
   "outputs": [],
   "source": [
    "adata.obs[\"x1\"]=spatial[1]\n",
    "adata.obs[\"x2\"]=spatial[2]\n",
    "adata.obs[\"x3\"]=spatial[3]\n",
    "adata.obs[\"x4\"]=spatial[4]\n",
    "adata.obs[\"x5\"]=spatial[5]\n",
    "adata.obs[\"x_array\"]=adata.obs[\"x2\"]\n",
    "adata.obs[\"y_array\"]=adata.obs[\"x3\"]\n",
    "adata.obs[\"x_pixel\"]=adata.obs[\"x4\"]\n",
    "adata.obs[\"y_pixel\"]=adata.obs[\"x5\"]\n",
    "#Select captured samples\n",
    "adata=adata[adata.obs[\"x1\"]==1]\n",
    "adata.var_names=[i.upper() for i in list(adata.var_names)]\n",
    "adata.var[\"genename\"]=adata.var.index.astype(\"str\")\n",
    "adata.obs[\"x1\"] = adata.obs[\"x1\"].astype(str)\n",
    "adata.obs[\"x2\"] = adata.obs[\"x2\"].astype(str)\n",
    "adata.obs[\"x3\"] = adata.obs[\"x3\"].astype(str)\n",
    "adata.obs[\"x4\"] = adata.obs[\"x4\"].astype(str)\n",
    "adata.obs[\"x5\"] = adata.obs[\"x5\"].astype(str)\n",
    "adata.obs[\"x_array\"] = adata.obs[\"x_array\"].astype(str)\n",
    "adata.obs[\"y_array\"] = adata.obs[\"y_array\"].astype(str)\n",
    "adata.obs[\"x_pixel\"] = adata.obs[\"x_pixel\"].astype(str)\n",
    "adata.obs[\"y_pixel\"] = adata.obs[\"y_pixel\"].astype(str)\n",
    "\n",
    "adata.write_h5ad(\"./raw_sample.h5ad\")"
   ]
  },
  {
   "cell_type": "code",
   "execution_count": 20,
   "metadata": {},
   "outputs": [],
   "source": [
    "\"\"\"\n",
    "#Read original 10x_h5 data and save it to h5ad\n",
    "from scanpy import read_10x_h5\n",
    "adata = read_10x_h5(\"../tutorial/data/151673/expression_matrix.h5\")\n",
    "spatial=pd.read_csv(\"../tutorial/data/151673/positions.txt\",sep=\",\",header=None,na_filter=False,index_col=0) \n",
    "adata.obs[\"x1\"]=spatial[1]\n",
    "adata.obs[\"x2\"]=spatial[2]\n",
    "adata.obs[\"x3\"]=spatial[3]\n",
    "adata.obs[\"x4\"]=spatial[4]\n",
    "adata.obs[\"x5\"]=spatial[5]\n",
    "#Select captured samples\n",
    "adata=adata[adata.obs[\"x1\"]==1]\n",
    "adata.var_names=[i.upper() for i in list(adata.var_names)]\n",
    "adata.var[\"genename\"]=adata.var.index.astype(\"str\")\n",
    "adata.write_h5ad(\"../tutorial/data/151673/sample_data.h5ad\")\n",
    "\"\"\"\n",
    "#Read in gene expression and spatial location\n",
    "adata=sc.read_h5ad(\"/mnt/work/RO_src/Pipelines/STNav/notebooks/experimental/SpaGCN/raw_sample.h5ad\")\n",
    "#Read in hitology image\n"
   ]
  },
  {
   "cell_type": "code",
   "execution_count": 48,
   "metadata": {},
   "outputs": [],
   "source": [
    "img=cv2.imread(\"/mnt/work/RO_src/data/raw/VisiumHD/Visium_HD_Human_Lung_Cancer_image.tif\")"
   ]
  },
  {
   "cell_type": "markdown",
   "metadata": {},
   "source": [
    "### 4. Spatial domain detection using SpaGCN"
   ]
  },
  {
   "cell_type": "markdown",
   "metadata": {},
   "source": [
    "- s: This parameter determines the weight given to histology when calculating Euclidean distance between every two spots. ‘s = 1’ means that the histology pixel intensity value has the same scale variance as the (x,y) coordinates, whereas higher value of ‘s’ indicates higher scale variance, hence, higher weight to histology, when calculating the Euclidean distance. \n",
    "\n",
    "- b: This parameter determines the area of each spot when extracting color intensity.\n",
    "- n_clusters: Number of spatial domains wanted.\n",
    "- res: Resolution in the initial Louvain's Clustering methods. If the number of clusters is known, we can use the spg.search_res() fnction to search for suitable resolution(optional)"
   ]
  },
  {
   "cell_type": "code",
   "execution_count": 33,
   "metadata": {},
   "outputs": [],
   "source": [
    "#Set coordinates\n",
    "x_array=adata.obs[\"x_array\"].astype(int).tolist()\n",
    "y_array=adata.obs[\"y_array\"].astype(int).tolist()\n",
    "x_pixel=adata.obs[\"x_pixel\"].astype(float).tolist()\n",
    "y_pixel=adata.obs[\"y_pixel\"].astype(float).tolist()"
   ]
  },
  {
   "cell_type": "code",
   "execution_count": 53,
   "metadata": {},
   "outputs": [
    {
     "name": "stdout",
     "output_type": "stream",
     "text": [
      "Calculateing adj matrix using xy only...\n"
     ]
    },
    {
     "ename": "MemoryError",
     "evalue": "Allocation failed (probably too large).",
     "output_type": "error",
     "traceback": [
      "\u001b[0;31m---------------------------------------------------------------------------\u001b[0m",
      "\u001b[0;31mMemoryError\u001b[0m                               Traceback (most recent call last)",
      "Cell \u001b[0;32mIn[53], line 2\u001b[0m\n\u001b[1;32m      1\u001b[0m \u001b[38;5;66;03m#Run SpaGCN\u001b[39;00m\n\u001b[0;32m----> 2\u001b[0m adata\u001b[38;5;241m.\u001b[39mobs[\u001b[38;5;124m\"\u001b[39m\u001b[38;5;124mpred\u001b[39m\u001b[38;5;124m\"\u001b[39m]\u001b[38;5;241m=\u001b[39m \u001b[43mspg\u001b[49m\u001b[38;5;241;43m.\u001b[39;49m\u001b[43mdetect_spatial_domains_ez_mode\u001b[49m\u001b[43m(\u001b[49m\u001b[43madata\u001b[49m\u001b[43m,\u001b[49m\u001b[43m \u001b[49m\u001b[43mimg\u001b[49m\u001b[43m,\u001b[49m\u001b[43m \u001b[49m\u001b[43mx_array\u001b[49m\u001b[43m,\u001b[49m\u001b[43m \u001b[49m\u001b[43my_array\u001b[49m\u001b[43m,\u001b[49m\u001b[43m \u001b[49m\u001b[43mx_pixel\u001b[49m\u001b[43m,\u001b[49m\u001b[43m \u001b[49m\u001b[43my_pixel\u001b[49m\u001b[43m,\u001b[49m\u001b[43m \u001b[49m\u001b[43mn_clusters\u001b[49m\u001b[38;5;241;43m=\u001b[39;49m\u001b[38;5;241;43m7\u001b[39;49m\u001b[43m,\u001b[49m\u001b[43m \u001b[49m\u001b[43mhistology\u001b[49m\u001b[38;5;241;43m=\u001b[39;49m\u001b[38;5;28;43;01mFalse\u001b[39;49;00m\u001b[43m,\u001b[49m\u001b[43m \u001b[49m\u001b[43ms\u001b[49m\u001b[38;5;241;43m=\u001b[39;49m\u001b[38;5;241;43m1\u001b[39;49m\u001b[43m,\u001b[49m\u001b[43m \u001b[49m\u001b[43mb\u001b[49m\u001b[38;5;241;43m=\u001b[39;49m\u001b[38;5;241;43m3\u001b[39;49m\u001b[43m,\u001b[49m\u001b[43m \u001b[49m\u001b[43mp\u001b[49m\u001b[38;5;241;43m=\u001b[39;49m\u001b[38;5;241;43m0.5\u001b[39;49m\u001b[43m,\u001b[49m\u001b[43m \u001b[49m\u001b[43mr_seed\u001b[49m\u001b[38;5;241;43m=\u001b[39;49m\u001b[38;5;241;43m100\u001b[39;49m\u001b[43m,\u001b[49m\u001b[43m \u001b[49m\u001b[43mt_seed\u001b[49m\u001b[38;5;241;43m=\u001b[39;49m\u001b[38;5;241;43m100\u001b[39;49m\u001b[43m,\u001b[49m\u001b[43m \u001b[49m\u001b[43mn_seed\u001b[49m\u001b[38;5;241;43m=\u001b[39;49m\u001b[38;5;241;43m100\u001b[39;49m\u001b[43m)\u001b[49m\n\u001b[1;32m      3\u001b[0m adata\u001b[38;5;241m.\u001b[39mobs[\u001b[38;5;124m\"\u001b[39m\u001b[38;5;124mpred\u001b[39m\u001b[38;5;124m\"\u001b[39m]\u001b[38;5;241m=\u001b[39madata\u001b[38;5;241m.\u001b[39mobs[\u001b[38;5;124m\"\u001b[39m\u001b[38;5;124mpred\u001b[39m\u001b[38;5;124m\"\u001b[39m]\u001b[38;5;241m.\u001b[39mastype(\u001b[38;5;124m'\u001b[39m\u001b[38;5;124mcategory\u001b[39m\u001b[38;5;124m'\u001b[39m)\n\u001b[1;32m      4\u001b[0m \u001b[38;5;66;03m#Refine domains (optional)\u001b[39;00m\n\u001b[1;32m      5\u001b[0m \u001b[38;5;66;03m#shape=\"hexagon\" for Visium data, \"square\" for ST data.\u001b[39;00m\n",
      "File \u001b[0;32m/mnt/work/RO_src/venv/stnav_venv/lib/python3.10/site-packages/SpaGCN/ez_mode.py:7\u001b[0m, in \u001b[0;36mdetect_spatial_domains_ez_mode\u001b[0;34m(adata, img, x_array, y_array, x_pixel, y_pixel, n_clusters, histology, s, b, p, r_seed, t_seed, n_seed)\u001b[0m\n\u001b[1;32m      6\u001b[0m \u001b[38;5;28;01mdef\u001b[39;00m \u001b[38;5;21mdetect_spatial_domains_ez_mode\u001b[39m(adata, img, x_array, y_array, x_pixel, y_pixel, n_clusters, histology\u001b[38;5;241m=\u001b[39m\u001b[38;5;28;01mTrue\u001b[39;00m, s\u001b[38;5;241m=\u001b[39m\u001b[38;5;241m1\u001b[39m, b\u001b[38;5;241m=\u001b[39m\u001b[38;5;241m49\u001b[39m, p\u001b[38;5;241m=\u001b[39m\u001b[38;5;241m0.5\u001b[39m, r_seed\u001b[38;5;241m=\u001b[39m\u001b[38;5;241m100\u001b[39m, t_seed\u001b[38;5;241m=\u001b[39m\u001b[38;5;241m100\u001b[39m, n_seed\u001b[38;5;241m=\u001b[39m\u001b[38;5;241m100\u001b[39m):\n\u001b[0;32m----> 7\u001b[0m \tadj\u001b[38;5;241m=\u001b[39m\u001b[43mcalculate_adj_matrix\u001b[49m\u001b[43m(\u001b[49m\u001b[43mx\u001b[49m\u001b[38;5;241;43m=\u001b[39;49m\u001b[43mx_pixel\u001b[49m\u001b[43m,\u001b[49m\u001b[43my\u001b[49m\u001b[38;5;241;43m=\u001b[39;49m\u001b[43my_pixel\u001b[49m\u001b[43m,\u001b[49m\u001b[43m \u001b[49m\u001b[43mx_pixel\u001b[49m\u001b[38;5;241;43m=\u001b[39;49m\u001b[43mx_pixel\u001b[49m\u001b[43m,\u001b[49m\u001b[43m \u001b[49m\u001b[43my_pixel\u001b[49m\u001b[38;5;241;43m=\u001b[39;49m\u001b[43my_pixel\u001b[49m\u001b[43m,\u001b[49m\u001b[43m \u001b[49m\u001b[43mimage\u001b[49m\u001b[38;5;241;43m=\u001b[39;49m\u001b[43mimg\u001b[49m\u001b[43m,\u001b[49m\u001b[43m \u001b[49m\u001b[43mbeta\u001b[49m\u001b[38;5;241;43m=\u001b[39;49m\u001b[43mb\u001b[49m\u001b[43m,\u001b[49m\u001b[43m \u001b[49m\u001b[43malpha\u001b[49m\u001b[38;5;241;43m=\u001b[39;49m\u001b[43ms\u001b[49m\u001b[43m,\u001b[49m\u001b[43m \u001b[49m\u001b[43mhistology\u001b[49m\u001b[38;5;241;43m=\u001b[39;49m\u001b[43mhistology\u001b[49m\u001b[43m)\u001b[49m\n\u001b[1;32m      8\u001b[0m \tprefilter_genes(adata,min_cells\u001b[38;5;241m=\u001b[39m\u001b[38;5;241m3\u001b[39m) \u001b[38;5;66;03m# avoiding all genes are zeros\u001b[39;00m\n\u001b[1;32m      9\u001b[0m \tprefilter_specialgenes(adata)\n",
      "File \u001b[0;32m/mnt/work/RO_src/venv/stnav_venv/lib/python3.10/site-packages/SpaGCN/calculate_adj.py:78\u001b[0m, in \u001b[0;36mcalculate_adj_matrix\u001b[0;34m(x, y, x_pixel, y_pixel, image, beta, alpha, histology)\u001b[0m\n\u001b[1;32m     76\u001b[0m \t\u001b[38;5;28mprint\u001b[39m(\u001b[38;5;124m\"\u001b[39m\u001b[38;5;124mCalculateing adj matrix using xy only...\u001b[39m\u001b[38;5;124m\"\u001b[39m)\n\u001b[1;32m     77\u001b[0m \tX\u001b[38;5;241m=\u001b[39mnp\u001b[38;5;241m.\u001b[39marray([x, y])\u001b[38;5;241m.\u001b[39mT\u001b[38;5;241m.\u001b[39mastype(np\u001b[38;5;241m.\u001b[39mfloat32)\n\u001b[0;32m---> 78\u001b[0m \u001b[38;5;28;01mreturn\u001b[39;00m \u001b[43mpairwise_distance\u001b[49m\u001b[43m(\u001b[49m\u001b[43mX\u001b[49m\u001b[43m)\u001b[49m\n",
      "\u001b[0;31mMemoryError\u001b[0m: Allocation failed (probably too large)."
     ]
    }
   ],
   "source": [
    "\n",
    "\n",
    "#Run SpaGCN\n",
    "adata.obs[\"pred\"]= spg.detect_spatial_domains_ez_mode(adata, img, x_array, y_array, x_pixel, y_pixel, n_clusters=7, histology=False, s=1, b=3, p=0.5, r_seed=100, t_seed=100, n_seed=100)\n",
    "adata.obs[\"pred\"]=adata.obs[\"pred\"].astype('category')\n",
    "#Refine domains (optional)\n",
    "#shape=\"hexagon\" for Visium data, \"square\" for ST data.\n",
    "adata.obs[\"refined_pred\"]=spg.spatial_domains_refinement_ez_mode(sample_id=adata.obs.index.tolist(), pred=adata.obs[\"pred\"].tolist(), x_array=x_array, y_array=y_array, shape=\"hexagon\")\n",
    "adata.obs[\"refined_pred\"]=adata.obs[\"refined_pred\"].astype('category')"
   ]
  },
  {
   "cell_type": "code",
   "execution_count": null,
   "metadata": {},
   "outputs": [
    {
     "name": "stdout",
     "output_type": "stream",
     "text": [
      "Calculateing adj matrix using histology image...\n"
     ]
    },
    {
     "ename": "TypeError",
     "evalue": "slice indices must be integers or None or have an __index__ method",
     "output_type": "error",
     "traceback": [
      "\u001b[0;31m---------------------------------------------------------------------------\u001b[0m\n",
      "\u001b[0;31mTypeError\u001b[0m                                 Traceback (most recent call last)\n",
      "Cell \u001b[0;32mIn[36], line 2\u001b[0m\n",
      "\u001b[1;32m      1\u001b[0m \u001b[38;5;66;03m#Run SpaGCN\u001b[39;00m\n",
      "\u001b[0;32m----> 2\u001b[0m adata\u001b[38;5;241m.\u001b[39mobs[\u001b[38;5;124m\"\u001b[39m\u001b[38;5;124mpred\u001b[39m\u001b[38;5;124m\"\u001b[39m]\u001b[38;5;241m=\u001b[39m \u001b[43mspg\u001b[49m\u001b[38;5;241;43m.\u001b[39;49m\u001b[43mdetect_spatial_domains_ez_mode\u001b[49m\u001b[43m(\u001b[49m\u001b[43madata\u001b[49m\u001b[43m,\u001b[49m\u001b[43m \u001b[49m\u001b[43mimg\u001b[49m\u001b[43m,\u001b[49m\u001b[43m \u001b[49m\u001b[43mx_array\u001b[49m\u001b[43m,\u001b[49m\u001b[43m \u001b[49m\u001b[43my_array\u001b[49m\u001b[43m,\u001b[49m\u001b[43m \u001b[49m\u001b[43mx_pixel\u001b[49m\u001b[43m,\u001b[49m\u001b[43m \u001b[49m\u001b[43my_pixel\u001b[49m\u001b[43m,\u001b[49m\u001b[43m \u001b[49m\u001b[43mn_clusters\u001b[49m\u001b[38;5;241;43m=\u001b[39;49m\u001b[38;5;241;43m7\u001b[39;49m\u001b[43m,\u001b[49m\u001b[43m \u001b[49m\u001b[43mhistology\u001b[49m\u001b[38;5;241;43m=\u001b[39;49m\u001b[38;5;28;43;01mTrue\u001b[39;49;00m\u001b[43m,\u001b[49m\u001b[43m \u001b[49m\u001b[43ms\u001b[49m\u001b[38;5;241;43m=\u001b[39;49m\u001b[38;5;241;43m1\u001b[39;49m\u001b[43m,\u001b[49m\u001b[43m \u001b[49m\u001b[43mb\u001b[49m\u001b[38;5;241;43m=\u001b[39;49m\u001b[38;5;241;43m49\u001b[39;49m\u001b[43m,\u001b[49m\u001b[43m \u001b[49m\u001b[43mp\u001b[49m\u001b[38;5;241;43m=\u001b[39;49m\u001b[38;5;241;43m0.5\u001b[39;49m\u001b[43m,\u001b[49m\u001b[43m \u001b[49m\u001b[43mr_seed\u001b[49m\u001b[38;5;241;43m=\u001b[39;49m\u001b[38;5;241;43m100\u001b[39;49m\u001b[43m,\u001b[49m\u001b[43m \u001b[49m\u001b[43mt_seed\u001b[49m\u001b[38;5;241;43m=\u001b[39;49m\u001b[38;5;241;43m100\u001b[39;49m\u001b[43m,\u001b[49m\u001b[43m \u001b[49m\u001b[43mn_seed\u001b[49m\u001b[38;5;241;43m=\u001b[39;49m\u001b[38;5;241;43m100\u001b[39;49m\u001b[43m)\u001b[49m\n",
      "\u001b[1;32m      3\u001b[0m adata\u001b[38;5;241m.\u001b[39mobs[\u001b[38;5;124m\"\u001b[39m\u001b[38;5;124mpred\u001b[39m\u001b[38;5;124m\"\u001b[39m]\u001b[38;5;241m=\u001b[39madata\u001b[38;5;241m.\u001b[39mobs[\u001b[38;5;124m\"\u001b[39m\u001b[38;5;124mpred\u001b[39m\u001b[38;5;124m\"\u001b[39m]\u001b[38;5;241m.\u001b[39mastype(\u001b[38;5;124m'\u001b[39m\u001b[38;5;124mcategory\u001b[39m\u001b[38;5;124m'\u001b[39m)\n",
      "\u001b[1;32m      4\u001b[0m \u001b[38;5;66;03m#Refine domains (optional)\u001b[39;00m\n",
      "\u001b[1;32m      5\u001b[0m \u001b[38;5;66;03m#shape=\"hexagon\" for Visium data, \"square\" for ST data.\u001b[39;00m\n",
      "\n",
      "File \u001b[0;32m/mnt/work/RO_src/venv/stnav_venv/lib/python3.10/site-packages/SpaGCN/ez_mode.py:7\u001b[0m, in \u001b[0;36mdetect_spatial_domains_ez_mode\u001b[0;34m(adata, img, x_array, y_array, x_pixel, y_pixel, n_clusters, histology, s, b, p, r_seed, t_seed, n_seed)\u001b[0m\n",
      "\u001b[1;32m      6\u001b[0m \u001b[38;5;28;01mdef\u001b[39;00m \u001b[38;5;21mdetect_spatial_domains_ez_mode\u001b[39m(adata, img, x_array, y_array, x_pixel, y_pixel, n_clusters, histology\u001b[38;5;241m=\u001b[39m\u001b[38;5;28;01mTrue\u001b[39;00m, s\u001b[38;5;241m=\u001b[39m\u001b[38;5;241m1\u001b[39m, b\u001b[38;5;241m=\u001b[39m\u001b[38;5;241m49\u001b[39m, p\u001b[38;5;241m=\u001b[39m\u001b[38;5;241m0.5\u001b[39m, r_seed\u001b[38;5;241m=\u001b[39m\u001b[38;5;241m100\u001b[39m, t_seed\u001b[38;5;241m=\u001b[39m\u001b[38;5;241m100\u001b[39m, n_seed\u001b[38;5;241m=\u001b[39m\u001b[38;5;241m100\u001b[39m):\n",
      "\u001b[0;32m----> 7\u001b[0m \tadj\u001b[38;5;241m=\u001b[39m\u001b[43mcalculate_adj_matrix\u001b[49m\u001b[43m(\u001b[49m\u001b[43mx\u001b[49m\u001b[38;5;241;43m=\u001b[39;49m\u001b[43mx_pixel\u001b[49m\u001b[43m,\u001b[49m\u001b[43my\u001b[49m\u001b[38;5;241;43m=\u001b[39;49m\u001b[43my_pixel\u001b[49m\u001b[43m,\u001b[49m\u001b[43m \u001b[49m\u001b[43mx_pixel\u001b[49m\u001b[38;5;241;43m=\u001b[39;49m\u001b[43mx_pixel\u001b[49m\u001b[43m,\u001b[49m\u001b[43m \u001b[49m\u001b[43my_pixel\u001b[49m\u001b[38;5;241;43m=\u001b[39;49m\u001b[43my_pixel\u001b[49m\u001b[43m,\u001b[49m\u001b[43m \u001b[49m\u001b[43mimage\u001b[49m\u001b[38;5;241;43m=\u001b[39;49m\u001b[43mimg\u001b[49m\u001b[43m,\u001b[49m\u001b[43m \u001b[49m\u001b[43mbeta\u001b[49m\u001b[38;5;241;43m=\u001b[39;49m\u001b[43mb\u001b[49m\u001b[43m,\u001b[49m\u001b[43m \u001b[49m\u001b[43malpha\u001b[49m\u001b[38;5;241;43m=\u001b[39;49m\u001b[43ms\u001b[49m\u001b[43m,\u001b[49m\u001b[43m \u001b[49m\u001b[43mhistology\u001b[49m\u001b[38;5;241;43m=\u001b[39;49m\u001b[43mhistology\u001b[49m\u001b[43m)\u001b[49m\n",
      "\u001b[1;32m      8\u001b[0m \tprefilter_genes(adata,min_cells\u001b[38;5;241m=\u001b[39m\u001b[38;5;241m3\u001b[39m) \u001b[38;5;66;03m# avoiding all genes are zeros\u001b[39;00m\n",
      "\u001b[1;32m      9\u001b[0m \tprefilter_specialgenes(adata)\n",
      "\n",
      "File \u001b[0;32m/mnt/work/RO_src/venv/stnav_venv/lib/python3.10/site-packages/SpaGCN/calculate_adj.py:57\u001b[0m, in \u001b[0;36mcalculate_adj_matrix\u001b[0;34m(x, y, x_pixel, y_pixel, image, beta, alpha, histology)\u001b[0m\n",
      "\u001b[1;32m     55\u001b[0m \tmax_x\u001b[38;5;241m=\u001b[39mimage\u001b[38;5;241m.\u001b[39mshape[\u001b[38;5;241m0\u001b[39m]\n",
      "\u001b[1;32m     56\u001b[0m \tmax_y\u001b[38;5;241m=\u001b[39mimage\u001b[38;5;241m.\u001b[39mshape[\u001b[38;5;241m1\u001b[39m]\n",
      "\u001b[0;32m---> 57\u001b[0m \tnbs\u001b[38;5;241m=\u001b[39m\u001b[43mimage\u001b[49m\u001b[43m[\u001b[49m\u001b[38;5;28;43mmax\u001b[39;49m\u001b[43m(\u001b[49m\u001b[38;5;241;43m0\u001b[39;49m\u001b[43m,\u001b[49m\u001b[43mx_pixel\u001b[49m\u001b[43m[\u001b[49m\u001b[43mi\u001b[49m\u001b[43m]\u001b[49m\u001b[38;5;241;43m-\u001b[39;49m\u001b[43mbeta_half\u001b[49m\u001b[43m)\u001b[49m\u001b[43m:\u001b[49m\u001b[38;5;28;43mmin\u001b[39;49m\u001b[43m(\u001b[49m\u001b[43mmax_x\u001b[49m\u001b[43m,\u001b[49m\u001b[43mx_pixel\u001b[49m\u001b[43m[\u001b[49m\u001b[43mi\u001b[49m\u001b[43m]\u001b[49m\u001b[38;5;241;43m+\u001b[39;49m\u001b[43mbeta_half\u001b[49m\u001b[38;5;241;43m+\u001b[39;49m\u001b[38;5;241;43m1\u001b[39;49m\u001b[43m)\u001b[49m\u001b[43m,\u001b[49m\u001b[38;5;28;43mmax\u001b[39;49m\u001b[43m(\u001b[49m\u001b[38;5;241;43m0\u001b[39;49m\u001b[43m,\u001b[49m\u001b[43my_pixel\u001b[49m\u001b[43m[\u001b[49m\u001b[43mi\u001b[49m\u001b[43m]\u001b[49m\u001b[38;5;241;43m-\u001b[39;49m\u001b[43mbeta_half\u001b[49m\u001b[43m)\u001b[49m\u001b[43m:\u001b[49m\u001b[38;5;28;43mmin\u001b[39;49m\u001b[43m(\u001b[49m\u001b[43mmax_y\u001b[49m\u001b[43m,\u001b[49m\u001b[43my_pixel\u001b[49m\u001b[43m[\u001b[49m\u001b[43mi\u001b[49m\u001b[43m]\u001b[49m\u001b[38;5;241;43m+\u001b[39;49m\u001b[43mbeta_half\u001b[49m\u001b[38;5;241;43m+\u001b[39;49m\u001b[38;5;241;43m1\u001b[39;49m\u001b[43m)\u001b[49m\u001b[43m]\u001b[49m\n",
      "\u001b[1;32m     58\u001b[0m \tg\u001b[38;5;241m.\u001b[39mappend(np\u001b[38;5;241m.\u001b[39mmean(np\u001b[38;5;241m.\u001b[39mmean(nbs,axis\u001b[38;5;241m=\u001b[39m\u001b[38;5;241m0\u001b[39m),axis\u001b[38;5;241m=\u001b[39m\u001b[38;5;241m0\u001b[39m))\n",
      "\u001b[1;32m     59\u001b[0m c0, c1, c2\u001b[38;5;241m=\u001b[39m[], [], []\n",
      "\n",
      "\u001b[0;31mTypeError\u001b[0m: slice indices must be integers or None or have an __index__ method"
     ]
    }
   ],
   "source": [
    "\n",
    "\n",
    "#Run SpaGCN\n",
    "adata.obs[\"pred\"]= spg.detect_spatial_domains_ez_mode(adata, img, x_array, y_array, x_pixel, y_pixel, n_clusters=7, histology=True, s=1, b=49, p=0.5, r_seed=100, t_seed=100, n_seed=100)\n",
    "adata.obs[\"pred\"]=adata.obs[\"pred\"].astype('category')\n",
    "#Refine domains (optional)\n",
    "#shape=\"hexagon\" for Visium data, \"square\" for ST data.\n",
    "adata.obs[\"refined_pred\"]=spg.spatial_domains_refinement_ez_mode(sample_id=adata.obs.index.tolist(), pred=adata.obs[\"pred\"].tolist(), x_array=x_array, y_array=y_array, shape=\"hexagon\")\n",
    "adata.obs[\"refined_pred\"]=adata.obs[\"refined_pred\"].astype('category')"
   ]
  },
  {
   "cell_type": "markdown",
   "metadata": {},
   "source": [
    "#### Plot spatial domains"
   ]
  },
  {
   "cell_type": "code",
   "execution_count": 10,
   "metadata": {},
   "outputs": [],
   "source": [
    "plot_color=[\"#F56867\",\"#FEB915\",\"#C798EE\",\"#59BE86\",\"#7495D3\",\"#D1D1D1\",\"#6D1A9C\",\"#15821E\",\"#3A84E6\",\"#997273\",\"#787878\",\"#DB4C6C\",\"#9E7A7A\",\"#554236\",\"#AF5F3C\",\"#93796C\",\"#F9BD3F\",\"#DAB370\",\"#877F6C\",\"#268785\"]\n",
    "ax=spg.plot_spatial_domains_ez_mode(adata, domain_name=\"pred\", x_name=\"y_pixel\", y_name=\"x_pixel\", plot_color=plot_color,size=150000/adata.shape[0], show=False, save=True,save_dir=\"./sample_results/pred.png\")\n",
    "ax=spg.plot_spatial_domains_ez_mode(adata, domain_name=\"refined_pred\", x_name=\"y_pixel\", y_name=\"x_pixel\", plot_color=plot_color,size=150000/adata.shape[0], show=False, save=True,save_dir=\"./sample_results/refined_pred.png\")"
   ]
  },
  {
   "cell_type": "markdown",
   "metadata": {},
   "source": [
    "**Spatial Domains**![](./sample_results/pred.png) **Refined Spatial Domains**![](./sample_results/refined_pred.png)"
   ]
  },
  {
   "cell_type": "markdown",
   "metadata": {},
   "source": [
    "### 5. Identify SVGs"
   ]
  },
  {
   "cell_type": "markdown",
   "metadata": {},
   "source": [
    "- target: Target domain to identify SVGs.\n",
    "- min_in_group_fraction: Minium in-group expression fraction.\n",
    "- min_in_out_group_ratio: Miniumn (in-group expression fraction) / (out-group expression fraction).\n",
    "- min_fold_change: Miniumn (in-group expression) / (out-group expression).\n",
    "- r: Radius to detect a spot's neighboring spots.target: Target domain to identify SVGs."
   ]
  },
  {
   "cell_type": "code",
   "execution_count": null,
   "metadata": {},
   "outputs": [],
   "source": [
    "target=0\n",
    "#Read in raw data\n",
    "adata=sc.read(\"../tutorial/sample_results/results.h5ad\")\n",
    "raw=sc.read(\"../tutorial/data/151673/sample_data.h5ad\")\n",
    "#Preprocessing\n",
    "raw.var_names_make_unique()\n",
    "raw.obs[\"pred\"]=adata.obs[\"pred\"].astype('category')\n",
    "raw.obs[\"x_array\"]=raw.obs[\"x2\"]\n",
    "raw.obs[\"y_array\"]=raw.obs[\"x3\"]\n",
    "raw.obs[\"x_pixel\"]=raw.obs[\"x4\"]\n",
    "raw.obs[\"y_pixel\"]=raw.obs[\"x5\"]\n",
    "raw.X=(raw.X.A if issparse(raw.X) else raw.X)\n",
    "raw.raw=raw\n",
    "sc.pp.log1p(raw)\n",
    "#Set filtering criterials\n",
    "min_in_group_fraction=0.8\n",
    "min_in_out_group_ratio=1\n",
    "min_fold_change=1.5\n",
    "filtered_info=spg.detect_SVGs_ez_mode(raw, target=0, x_name=\"x_array\", y_name=\"y_array\", domain_name=\"pred\", min_in_group_fraction=min_in_group_fraction, min_in_out_group_ratio=min_in_out_group_ratio, min_fold_change=min_fold_change)"
   ]
  },
  {
   "cell_type": "code",
   "execution_count": 13,
   "metadata": {},
   "outputs": [
    {
     "data": {
      "text/html": [
       "<div>\n",
       "<style scoped>\n",
       "    .dataframe tbody tr th:only-of-type {\n",
       "        vertical-align: middle;\n",
       "    }\n",
       "\n",
       "    .dataframe tbody tr th {\n",
       "        vertical-align: top;\n",
       "    }\n",
       "\n",
       "    .dataframe thead th {\n",
       "        text-align: right;\n",
       "    }\n",
       "</style>\n",
       "<table border=\"1\" class=\"dataframe\">\n",
       "  <thead>\n",
       "    <tr style=\"text-align: right;\">\n",
       "      <th></th>\n",
       "      <th>genes</th>\n",
       "      <th>in_group_fraction</th>\n",
       "      <th>out_group_fraction</th>\n",
       "      <th>in_out_group_ratio</th>\n",
       "      <th>in_group_mean_exp</th>\n",
       "      <th>out_group_mean_exp</th>\n",
       "      <th>fold_change</th>\n",
       "      <th>pvals_adj</th>\n",
       "      <th>target_dmain</th>\n",
       "      <th>neighbors</th>\n",
       "    </tr>\n",
       "  </thead>\n",
       "  <tbody>\n",
       "    <tr>\n",
       "      <th>0</th>\n",
       "      <td>CAMK2N1</td>\n",
       "      <td>1.000000</td>\n",
       "      <td>0.944964</td>\n",
       "      <td>1.058242</td>\n",
       "      <td>2.333675</td>\n",
       "      <td>1.578288</td>\n",
       "      <td>2.128434</td>\n",
       "      <td>1.656040e-11</td>\n",
       "      <td>0</td>\n",
       "      <td>[3, 2]</td>\n",
       "    </tr>\n",
       "    <tr>\n",
       "      <th>2</th>\n",
       "      <td>ENC1</td>\n",
       "      <td>0.998638</td>\n",
       "      <td>0.941848</td>\n",
       "      <td>1.060295</td>\n",
       "      <td>2.457791</td>\n",
       "      <td>1.696083</td>\n",
       "      <td>2.141931</td>\n",
       "      <td>1.552131e-03</td>\n",
       "      <td>0</td>\n",
       "      <td>[3, 2]</td>\n",
       "    </tr>\n",
       "    <tr>\n",
       "      <th>4</th>\n",
       "      <td>GPM6A</td>\n",
       "      <td>0.997275</td>\n",
       "      <td>0.922118</td>\n",
       "      <td>1.081505</td>\n",
       "      <td>2.224006</td>\n",
       "      <td>1.561187</td>\n",
       "      <td>1.940255</td>\n",
       "      <td>8.602227e-03</td>\n",
       "      <td>0</td>\n",
       "      <td>[3, 2]</td>\n",
       "    </tr>\n",
       "    <tr>\n",
       "      <th>6</th>\n",
       "      <td>ARPP19</td>\n",
       "      <td>0.982289</td>\n",
       "      <td>0.853583</td>\n",
       "      <td>1.150784</td>\n",
       "      <td>1.889256</td>\n",
       "      <td>1.272106</td>\n",
       "      <td>1.853637</td>\n",
       "      <td>4.823349e-02</td>\n",
       "      <td>0</td>\n",
       "      <td>[3, 2]</td>\n",
       "    </tr>\n",
       "    <tr>\n",
       "      <th>1</th>\n",
       "      <td>HPCAL1</td>\n",
       "      <td>0.851499</td>\n",
       "      <td>0.465213</td>\n",
       "      <td>1.830342</td>\n",
       "      <td>1.141321</td>\n",
       "      <td>0.406338</td>\n",
       "      <td>2.085448</td>\n",
       "      <td>9.706465e-05</td>\n",
       "      <td>0</td>\n",
       "      <td>[3, 2]</td>\n",
       "    </tr>\n",
       "  </tbody>\n",
       "</table>\n",
       "</div>"
      ],
      "text/plain": [
       "     genes  in_group_fraction  out_group_fraction  in_out_group_ratio  \\\n",
       "0  CAMK2N1           1.000000            0.944964            1.058242   \n",
       "2     ENC1           0.998638            0.941848            1.060295   \n",
       "4    GPM6A           0.997275            0.922118            1.081505   \n",
       "6   ARPP19           0.982289            0.853583            1.150784   \n",
       "1   HPCAL1           0.851499            0.465213            1.830342   \n",
       "\n",
       "   in_group_mean_exp  out_group_mean_exp  fold_change     pvals_adj  \\\n",
       "0           2.333675            1.578288     2.128434  1.656040e-11   \n",
       "2           2.457791            1.696083     2.141931  1.552131e-03   \n",
       "4           2.224006            1.561187     1.940255  8.602227e-03   \n",
       "6           1.889256            1.272106     1.853637  4.823349e-02   \n",
       "1           1.141321            0.406338     2.085448  9.706465e-05   \n",
       "\n",
       "   target_dmain neighbors  \n",
       "0             0    [3, 2]  \n",
       "2             0    [3, 2]  \n",
       "4             0    [3, 2]  \n",
       "6             0    [3, 2]  \n",
       "1             0    [3, 2]  "
      ]
     },
     "execution_count": 13,
     "metadata": {},
     "output_type": "execute_result"
    }
   ],
   "source": [
    "filtered_info"
   ]
  },
  {
   "cell_type": "markdown",
   "metadata": {},
   "source": [
    "#### Plot"
   ]
  },
  {
   "cell_type": "code",
   "execution_count": 16,
   "metadata": {},
   "outputs": [],
   "source": [
    "color_self = clr.LinearSegmentedColormap.from_list('pink_green', ['#3AB370',\"#EAE7CC\",\"#FD1593\"], N=256)\n",
    "spg.plot_SVGs_ez_mode(adata=raw, gene_list=filtered_info[\"genes\"].tolist(), x_name=\"y_pixel\", y_name=\"x_pixel\", plot_color=color_self, size=50, show=False, save=True, save_dir=\"./sample_results/\")"
   ]
  },
  {
   "cell_type": "markdown",
   "metadata": {},
   "source": [
    "**CAMK2N1**![](./sample_results/CAMK2N1.png) **ENC1**![](./sample_results/ENC1.png) **GPM6A**![](./sample_results/GPM6A.png) **ARPP19**![](c/ARPP19.png) **HPCAL1**![](./sample_results/HPCAL1.png)"
   ]
  },
  {
   "cell_type": "markdown",
   "metadata": {},
   "source": [
    "### 6. Identify Meta Gene"
   ]
  },
  {
   "cell_type": "markdown",
   "metadata": {},
   "source": [
    "- target: Target domain to detect meta gene.\n",
    "- start_gene: Gene to satrt with. Candidate start genes can be found by lowering the filtering criterials."
   ]
  },
  {
   "cell_type": "code",
   "execution_count": null,
   "metadata": {},
   "outputs": [],
   "source": [
    "target=2\n",
    "raw.obs[\"meta\"]=spg.detect_meta_genes_ez_mode(raw, target, x_name=\"x_array\", y_name=\"y_array\", domain_name=\"pred\", start_gene=\"GFAP\", use_raw=False)"
   ]
  },
  {
   "cell_type": "markdown",
   "metadata": {},
   "source": [
    "#### Plot"
   ]
  },
  {
   "cell_type": "code",
   "execution_count": 18,
   "metadata": {},
   "outputs": [],
   "source": [
    "spg.plot_meta_genes_ez_mode(raw, x_name=\"y_pixel\", y_name=\"x_pixel\", meta_name=\"meta\", plot_color=color_self, size=50, show=False, save=True, save_dir=\"./\")"
   ]
  },
  {
   "cell_type": "markdown",
   "metadata": {},
   "source": [
    "**start**![](./sample_results/GFAP.png) **meta gene**![](./sample_results/meta_gene.png)"
   ]
  }
 ],
 "metadata": {
  "kernelspec": {
   "display_name": "Python 3",
   "language": "python",
   "name": "python3"
  },
  "language_info": {
   "codemirror_mode": {
    "name": "ipython",
    "version": 3
   },
   "file_extension": ".py",
   "mimetype": "text/x-python",
   "name": "python",
   "nbconvert_exporter": "python",
   "pygments_lexer": "ipython3",
   "version": "3.10.12"
  }
 },
 "nbformat": 4,
 "nbformat_minor": 2
}
