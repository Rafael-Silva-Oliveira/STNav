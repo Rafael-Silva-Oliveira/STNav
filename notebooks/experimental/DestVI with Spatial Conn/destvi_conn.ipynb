{
 "cells": [
  {
   "cell_type": "code",
   "execution_count": null,
   "metadata": {},
   "outputs": [],
   "source": [
    "# Load packages\n",
    "import warnings\n",
    "from datetime import datetime\n",
    "import matplotlib.pyplot as plt\n",
    "import numpy as np\n",
    "import pandas as pd\n",
    "import scanpy as sc\n",
    "import squidpy as sq\n",
    "from loguru import logger\n",
    "import seaborn as sns\n",
    "\n",
    "import scvi\n",
    "from scvi.external.stereoscope import RNAStereoscope, SpatialStereoscope\n",
    "from scvi.model import CondSCVI, DestVI\n",
    "import torch\n",
    "from scvi.external import Tangram\n",
    "from tqdm import tqdm\n",
    "from scipy.sparse import csr_matrix\n"
   ]
  },
  {
   "cell_type": "markdown",
   "metadata": {},
   "source": [
    "# Read ST and scRNA data"
   ]
  },
  {
   "cell_type": "code",
   "execution_count": null,
   "metadata": {},
   "outputs": [],
   "source": [
    "sc_adata = sc.read_h5ad(r\"C:\\Users\\rafaelo\\OneDrive - NTNU\\Documents\\Projects\\STNav\\data\\processed\\PipelineRun_2024_06_03-11_53_39_AM\\scRNA\\Files\\raw_adata.h5ad\")\n",
    "# let us filter some genes\n",
    "sc_adata.var_names_make_unique()\n",
    "sc.pp.filter_genes(sc_adata, min_counts=10)\n",
    "\n",
    "sc_adata.layers[\"counts\"] = sc_adata.X.copy()\n",
    "\n",
    "sc.pp.highly_variable_genes(\n",
    "    sc_adata, n_top_genes=10000, subset=True, layer=\"counts\", flavor=\"seurat_v3\"\n",
    ")\n",
    "\n",
    "sc.pp.normalize_total(sc_adata, target_sum=10e4)\n",
    "sc.pp.log1p(sc_adata)\n",
    "sc_adata.raw = sc_adata"
   ]
  },
  {
   "cell_type": "code",
   "execution_count": null,
   "metadata": {},
   "outputs": [],
   "source": [
    "st_adata = sc.read_h5ad(r\"C:\\Users\\rafaelo\\OneDrive - NTNU\\Documents\\Projects\\STNav\\data\\processed\\PipelineRun_2024_06_03-11_53_39_AM\\ST\\Files\\raw_adata.h5ad\")\n",
    "st_adata.var_names_make_unique()\n",
    "\n",
    "\n",
    "# sc.pp.filter_genes(st_adata, min_counts=15)\n",
    "# sc.pp.filter_cells(st_adata, min_genes=5)\n",
    "st_adata.layers[\"counts\"] = st_adata.X.copy()\n",
    "\n",
    "sc.pp.normalize_total(st_adata, target_sum=10e4)\n",
    "sc.pp.log1p(st_adata)\n",
    "st_adata.raw = st_adata"
   ]
  },
  {
   "cell_type": "code",
   "execution_count": null,
   "metadata": {},
   "outputs": [],
   "source": [
    "intersect = np.intersect1d(sc_adata.var_names, st_adata.var_names)\n",
    "st_adata.var_names_make_unique()\n",
    "sc_adata.var_names_make_unique()\n",
    "\n",
    "st_adata = st_adata[:, intersect].copy()\n",
    "sc_adata = sc_adata[:, intersect].copy()\n",
    "G = len(intersect)"
   ]
  },
  {
   "cell_type": "code",
   "execution_count": null,
   "metadata": {},
   "outputs": [],
   "source": [
    "st_adata.layers[\"counts\"] = st_adata.layers[\"counts\"].astype('float64')"
   ]
  },
  {
   "cell_type": "code",
   "execution_count": null,
   "metadata": {},
   "outputs": [],
   "source": [
    "CondSCVI.setup_anndata(sc_adata, layer=\"counts\", labels_key=\"ann_level_3_transferred_label\")\n",
    "sc_model = CondSCVI(sc_adata, weight_obs=False)\n",
    "sc_model.view_anndata_setup()\n",
    "sc_model.train()\n",
    "sc_model.history[\"elbo_train\"].iloc[5:].plot()\n",
    "plt.show()\n"
   ]
  },
  {
   "cell_type": "code",
   "execution_count": null,
   "metadata": {},
   "outputs": [],
   "source": [
    "# sq.gr.spatial_neighbors(st_adata)\n",
    "# st_adata.obsp[\"spatial_connectivities\"] = csr_matrix(st_adata.obsp[\"spatial_connectivities\"])\n",
    "\n",
    "# st_adata.X = st_adata.obsp[\"spatial_connectivities\"].dot(st_adata.X)\n",
    "# st_adata.layers[\"counts\"] = st_adata.X"
   ]
  },
  {
   "cell_type": "code",
   "execution_count": null,
   "metadata": {},
   "outputs": [],
   "source": [
    "st_adata.layers[\"counts\"][150,10:150].toarray()"
   ]
  },
  {
   "cell_type": "code",
   "execution_count": null,
   "metadata": {},
   "outputs": [],
   "source": [
    "st_adata.layers[\"counts\"] = st_adata.layers[\"counts\"].astype('int32')"
   ]
  },
  {
   "cell_type": "code",
   "execution_count": null,
   "metadata": {},
   "outputs": [],
   "source": [
    "DestVI.setup_anndata(st_adata, layer=\"counts\")\n",
    "st_model = DestVI.from_rna_model(st_adata, sc_model)\n",
    "st_model.view_anndata_setup()"
   ]
  },
  {
   "cell_type": "code",
   "execution_count": null,
   "metadata": {},
   "outputs": [],
   "source": [
    "st_model.train(max_epochs=2500)\n"
   ]
  },
  {
   "cell_type": "code",
   "execution_count": null,
   "metadata": {},
   "outputs": [],
   "source": [
    "st_adata.obsm[\"proportions\"] = st_model.get_proportions()\n"
   ]
  },
  {
   "cell_type": "code",
   "execution_count": null,
   "metadata": {},
   "outputs": [],
   "source": [
    "st_adata.obsm[\"proportions\"].head(5)\n"
   ]
  },
  {
   "cell_type": "code",
   "execution_count": null,
   "metadata": {},
   "outputs": [],
   "source": [
    "ct_list = [\"B cells\", \"CD8 T cells\", \"Monocytes\"]\n",
    "for ct in ct_list:\n",
    "    data = st_adata.obsm[\"proportions\"][ct].values\n",
    "    st_adata.obs[ct] = np.clip(data, 0, np.quantile(data, 0.99))"
   ]
  },
  {
   "cell_type": "code",
   "execution_count": null,
   "metadata": {},
   "outputs": [],
   "source": [
    "sc.pl.embedding(st_adata, basis=\"spatial\", color=ct_list, cmap=\"Reds\", s=80)\n"
   ]
  }
 ],
 "metadata": {
  "kernelspec": {
   "display_name": "venv",
   "language": "python",
   "name": "python3"
  },
  "language_info": {
   "codemirror_mode": {
    "name": "ipython",
    "version": 3
   },
   "file_extension": ".py",
   "mimetype": "text/x-python",
   "name": "python",
   "nbconvert_exporter": "python",
   "pygments_lexer": "ipython3",
   "version": "3.10.2"
  }
 },
 "nbformat": 4,
 "nbformat_minor": 2
}
