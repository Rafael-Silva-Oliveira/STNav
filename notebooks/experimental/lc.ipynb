{
 "cells": [
  {
   "cell_type": "code",
   "execution_count": 1,
   "metadata": {},
   "outputs": [
    {
     "name": "stderr",
     "output_type": "stream",
     "text": [
      "c:\\Users\\rafaelo\\OneDrive - NTNU\\Documents\\Projects\\venv\\lib\\site-packages\\stlearn\\tools\\microenv\\cci\\het.py:192: NumbaDeprecationWarning: \u001b[1mThe keyword argument 'nopython=False' was supplied. From Numba 0.59.0 the default is being changed to True and use of 'nopython=False' will raise a warning as the argument will have no effect. See https://numba.readthedocs.io/en/stable/reference/deprecation.html#deprecation-of-object-mode-fall-back-behaviour-when-using-jit for details.\u001b[0m\n",
      "  @jit(parallel=True, nopython=False)\n",
      "\u001b[32m2024-04-12 12:38:45.363\u001b[0m | \u001b[1mINFO    \u001b[0m | \u001b[36m__main__\u001b[0m:\u001b[36m<module>\u001b[0m:\u001b[36m15\u001b[0m - \u001b[1mRunning Receptor Ligand Analysis with connectomeDB2020_lit ligand-receptor pairs.\u001b[0m\n"
     ]
    },
    {
     "name": "stdout",
     "output_type": "stream",
     "text": [
      "Calculating neighbours...\n",
      "14 spots with no neighbours, 8 median spot neighbours.\n",
      "Spot neighbour indices stored in adata.obsm['spot_neighbours'] & adata.obsm['spot_neigh_bcs'].\n",
      "Altogether 72 valid L-R pairs\n"
     ]
    },
    {
     "name": "stderr",
     "output_type": "stream",
     "text": [
      "Generating backgrounds & testing each LR pair...: 100%|██████████ [ time left: 00:00 ]\n"
     ]
    },
    {
     "name": "stdout",
     "output_type": "stream",
     "text": [
      "\n",
      "Storing results:\n",
      "\n",
      "lr_scores stored in adata.obsm['lr_scores'].\n",
      "p_vals stored in adata.obsm['p_vals'].\n",
      "p_adjs stored in adata.obsm['p_adjs'].\n",
      "-log10(p_adjs) stored in adata.obsm['-log10(p_adjs)'].\n",
      "lr_sig_scores stored in adata.obsm['lr_sig_scores'].\n",
      "\n",
      "Per-spot results in adata.obsm have columns in same order as rows in adata.uns['lr_summary'].\n",
      "Summary of LR results in adata.uns['lr_summary'].\n"
     ]
    }
   ],
   "source": [
    "import stlearn as st\n",
    "from loguru import logger\n",
    "import scanpy as sc\n",
    "\n",
    "# st 0.4.12\n",
    "# numpy 1.25.2\n",
    "\n",
    "adata = sc.read_h5ad(r\"C:\\Users\\rafaelo\\OneDrive - NTNU\\Documents\\Projects\\STNav\\test.h5ad\")\n",
    "use_label = \"dominant_spot_cell_type\"\n",
    "\n",
    "adata = st.convert_scanpy(adata)\n",
    "adata.obs[f\"{use_label}\"] = (\n",
    "\tadata.obs[adata.obsm[\"deconvolution\"].columns].idxmax(axis=1).astype(\"category\")\n",
    ")\n",
    "logger.info(\n",
    "\tf\"Running Receptor Ligand Analysis with connectomeDB2020_lit ligand-receptor pairs.\"\n",
    ")\n",
    "lrs = st.tl.cci.load_lrs([\"connectomeDB2020_lit\"], species=\"human\")\n",
    "\n",
    "st.tl.cci.run(\n",
    "\tadata=adata,\n",
    "\tlrs=lrs,\n",
    "\tmin_spots=20,  # Filter out any LR pairs with no scores for less than min_spots\n",
    "\tdistance=None,  # None defaults to spot+immediate neighbours; distance=0 for within-spot mode\n",
    "\tn_pairs=100,  # Number of random pairs to generate; low as example, recommend ~10,000\n",
    "\tn_cpus=None,  # Number of CPUs for parallel. If None, detects & use all available.\n",
    "\tverbose=True,\n",
    ")"
   ]
  },
  {
   "cell_type": "code",
   "execution_count": null,
   "metadata": {},
   "outputs": [],
   "source": []
  }
 ],
 "metadata": {
  "kernelspec": {
   "display_name": "venv",
   "language": "python",
   "name": "python3"
  },
  "language_info": {
   "codemirror_mode": {
    "name": "ipython",
    "version": 3
   },
   "file_extension": ".py",
   "mimetype": "text/x-python",
   "name": "python",
   "nbconvert_exporter": "python",
   "pygments_lexer": "ipython3",
   "version": "3.10.2"
  }
 },
 "nbformat": 4,
 "nbformat_minor": 2
}
