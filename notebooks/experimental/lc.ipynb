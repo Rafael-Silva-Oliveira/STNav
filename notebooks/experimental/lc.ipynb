{
 "cells": [
  {
   "cell_type": "code",
   "execution_count": 9,
   "metadata": {},
   "outputs": [
    {
     "name": "stderr",
     "output_type": "stream",
     "text": [
      "\u001b[32m2024-04-12 11:40:22.775\u001b[0m | \u001b[1mINFO    \u001b[0m | \u001b[36m__main__\u001b[0m:\u001b[36m<module>\u001b[0m:\u001b[36m15\u001b[0m - \u001b[1mRunning Receptor Ligand Analysis with connectomeDB2020_lit ligand-receptor pairs.\u001b[0m\n"
     ]
    },
    {
     "name": "stdout",
     "output_type": "stream",
     "text": [
      "Calculating neighbours...\n",
      "14 spots with no neighbours, 8 median spot neighbours.\n",
      "Spot neighbour indices stored in adata.obsm['spot_neighbours'] & adata.obsm['spot_neigh_bcs'].\n",
      "Altogether 72 valid L-R pairs\n"
     ]
    },
    {
     "ename": "AttributeError",
     "evalue": "module 'numpy' has no attribute 'int'.\n`np.int` was a deprecated alias for the builtin `int`. To avoid this error in existing code, use `int` by itself. Doing this will not modify any behavior and is safe. When replacing `np.int`, you may wish to use e.g. `np.int64` or `np.int32` to specify the precision. If you wish to review your current use, check the release note link for additional information.\nThe aliases was originally deprecated in NumPy 1.20; for more details and guidance see the original release note at:\n    https://numpy.org/devdocs/release/1.20.0-notes.html#deprecations",
     "output_type": "error",
     "traceback": [
      "\u001b[1;31m---------------------------------------------------------------------------\u001b[0m",
      "\u001b[1;31mAttributeError\u001b[0m                            Traceback (most recent call last)",
      "Cell \u001b[1;32mIn[9], line 20\u001b[0m\n\u001b[0;32m     15\u001b[0m logger\u001b[38;5;241m.\u001b[39minfo(\n\u001b[0;32m     16\u001b[0m \t\u001b[38;5;124mf\u001b[39m\u001b[38;5;124m\"\u001b[39m\u001b[38;5;124mRunning Receptor Ligand Analysis with connectomeDB2020_lit ligand-receptor pairs.\u001b[39m\u001b[38;5;124m\"\u001b[39m\n\u001b[0;32m     17\u001b[0m )\n\u001b[0;32m     18\u001b[0m lrs \u001b[38;5;241m=\u001b[39m st\u001b[38;5;241m.\u001b[39mtl\u001b[38;5;241m.\u001b[39mcci\u001b[38;5;241m.\u001b[39mload_lrs([\u001b[38;5;124m\"\u001b[39m\u001b[38;5;124mconnectomeDB2020_lit\u001b[39m\u001b[38;5;124m\"\u001b[39m], species\u001b[38;5;241m=\u001b[39m\u001b[38;5;124m\"\u001b[39m\u001b[38;5;124mhuman\u001b[39m\u001b[38;5;124m\"\u001b[39m)\n\u001b[1;32m---> 20\u001b[0m \u001b[43mst\u001b[49m\u001b[38;5;241;43m.\u001b[39;49m\u001b[43mtl\u001b[49m\u001b[38;5;241;43m.\u001b[39;49m\u001b[43mcci\u001b[49m\u001b[38;5;241;43m.\u001b[39;49m\u001b[43mrun\u001b[49m\u001b[43m(\u001b[49m\n\u001b[0;32m     21\u001b[0m \u001b[43m\t\u001b[49m\u001b[43madata\u001b[49m\u001b[38;5;241;43m=\u001b[39;49m\u001b[43madata\u001b[49m\u001b[43m,\u001b[49m\n\u001b[0;32m     22\u001b[0m \u001b[43m\t\u001b[49m\u001b[43mlrs\u001b[49m\u001b[38;5;241;43m=\u001b[39;49m\u001b[43mlrs\u001b[49m\u001b[43m,\u001b[49m\n\u001b[0;32m     23\u001b[0m \u001b[43m\t\u001b[49m\u001b[43mmin_spots\u001b[49m\u001b[38;5;241;43m=\u001b[39;49m\u001b[38;5;241;43m20\u001b[39;49m\u001b[43m,\u001b[49m\u001b[43m  \u001b[49m\u001b[38;5;66;43;03m# Filter out any LR pairs with no scores for less than min_spots\u001b[39;49;00m\n\u001b[0;32m     24\u001b[0m \u001b[43m\t\u001b[49m\u001b[43mdistance\u001b[49m\u001b[38;5;241;43m=\u001b[39;49m\u001b[38;5;28;43;01mNone\u001b[39;49;00m\u001b[43m,\u001b[49m\u001b[43m  \u001b[49m\u001b[38;5;66;43;03m# None defaults to spot+immediate neighbours; distance=0 for within-spot mode\u001b[39;49;00m\n\u001b[0;32m     25\u001b[0m \u001b[43m\t\u001b[49m\u001b[43mn_pairs\u001b[49m\u001b[38;5;241;43m=\u001b[39;49m\u001b[38;5;241;43m100\u001b[39;49m\u001b[43m,\u001b[49m\u001b[43m  \u001b[49m\u001b[38;5;66;43;03m# Number of random pairs to generate; low as example, recommend ~10,000\u001b[39;49;00m\n\u001b[0;32m     26\u001b[0m \u001b[43m\t\u001b[49m\u001b[43mn_cpus\u001b[49m\u001b[38;5;241;43m=\u001b[39;49m\u001b[38;5;28;43;01mNone\u001b[39;49;00m\u001b[43m,\u001b[49m\u001b[43m  \u001b[49m\u001b[38;5;66;43;03m# Number of CPUs for parallel. If None, detects & use all available.\u001b[39;49;00m\n\u001b[0;32m     27\u001b[0m \u001b[43m\t\u001b[49m\u001b[43mverbose\u001b[49m\u001b[38;5;241;43m=\u001b[39;49m\u001b[38;5;28;43;01mTrue\u001b[39;49;00m\u001b[43m,\u001b[49m\n\u001b[0;32m     28\u001b[0m \u001b[43m)\u001b[49m\n",
      "File \u001b[1;32mc:\\Users\\rafaelo\\OneDrive - NTNU\\Documents\\Projects\\venv\\lib\\site-packages\\stlearn\\tools\\microenv\\cci\\analysis.py:337\u001b[0m, in \u001b[0;36mrun\u001b[1;34m(adata, lrs, min_spots, distance, n_pairs, n_cpus, use_label, adj_method, pval_adj_cutoff, min_expr, save_bg, neg_binom, verbose)\u001b[0m\n\u001b[0;32m    333\u001b[0m     \u001b[38;5;28;01mreturn\u001b[39;00m\n\u001b[0;32m    335\u001b[0m \u001b[38;5;250m\u001b[39m\u001b[38;5;124;03m\"\"\" Permutation methods generating background per spot, & test lrs in spot.\u001b[39;00m\n\u001b[0;32m    336\u001b[0m \u001b[38;5;124;03m\"\"\"\u001b[39;00m\n\u001b[1;32m--> 337\u001b[0m \u001b[43mperform_spot_testing\u001b[49m\u001b[43m(\u001b[49m\n\u001b[0;32m    338\u001b[0m \u001b[43m    \u001b[49m\u001b[43madata\u001b[49m\u001b[43m,\u001b[49m\n\u001b[0;32m    339\u001b[0m \u001b[43m    \u001b[49m\u001b[43mlr_scores\u001b[49m\u001b[43m,\u001b[49m\n\u001b[0;32m    340\u001b[0m \u001b[43m    \u001b[49m\u001b[43mlrs\u001b[49m\u001b[43m,\u001b[49m\n\u001b[0;32m    341\u001b[0m \u001b[43m    \u001b[49m\u001b[43mn_pairs\u001b[49m\u001b[43m,\u001b[49m\n\u001b[0;32m    342\u001b[0m \u001b[43m    \u001b[49m\u001b[43mneighbours\u001b[49m\u001b[43m,\u001b[49m\n\u001b[0;32m    343\u001b[0m \u001b[43m    \u001b[49m\u001b[43mhet_vals\u001b[49m\u001b[43m,\u001b[49m\n\u001b[0;32m    344\u001b[0m \u001b[43m    \u001b[49m\u001b[43mmin_expr\u001b[49m\u001b[43m,\u001b[49m\n\u001b[0;32m    345\u001b[0m \u001b[43m    \u001b[49m\u001b[43madj_method\u001b[49m\u001b[43m,\u001b[49m\n\u001b[0;32m    346\u001b[0m \u001b[43m    \u001b[49m\u001b[43mpval_adj_cutoff\u001b[49m\u001b[43m,\u001b[49m\n\u001b[0;32m    347\u001b[0m \u001b[43m    \u001b[49m\u001b[43mverbose\u001b[49m\u001b[43m,\u001b[49m\n\u001b[0;32m    348\u001b[0m \u001b[43m    \u001b[49m\u001b[43msave_bg\u001b[49m\u001b[38;5;241;43m=\u001b[39;49m\u001b[43msave_bg\u001b[49m\u001b[43m,\u001b[49m\n\u001b[0;32m    349\u001b[0m \u001b[43m    \u001b[49m\u001b[43mneg_binom\u001b[49m\u001b[38;5;241;43m=\u001b[39;49m\u001b[43mneg_binom\u001b[49m\u001b[43m,\u001b[49m\n\u001b[0;32m    350\u001b[0m \u001b[43m\u001b[49m\u001b[43m)\u001b[49m\n",
      "File \u001b[1;32mc:\\Users\\rafaelo\\OneDrive - NTNU\\Documents\\Projects\\venv\\lib\\site-packages\\stlearn\\tools\\microenv\\cci\\permutation.py:77\u001b[0m, in \u001b[0;36mperform_spot_testing\u001b[1;34m(adata, lr_scores, lrs, n_pairs, neighbours, het_vals, min_expr, adj_method, pval_adj_cutoff, verbose, save_bg, neg_binom, quantiles)\u001b[0m\n\u001b[0;32m     74\u001b[0m \u001b[38;5;66;03m######## Background per LR, but only for spots where LR has a score ########\u001b[39;00m\n\u001b[0;32m     75\u001b[0m \u001b[38;5;66;03m# Determine the indices of the spots where each LR has a score #\u001b[39;00m\n\u001b[0;32m     76\u001b[0m cols \u001b[38;5;241m=\u001b[39m [\u001b[38;5;124m\"\u001b[39m\u001b[38;5;124mn_spots\u001b[39m\u001b[38;5;124m\"\u001b[39m, \u001b[38;5;124m\"\u001b[39m\u001b[38;5;124mn_spots_sig\u001b[39m\u001b[38;5;124m\"\u001b[39m, \u001b[38;5;124m\"\u001b[39m\u001b[38;5;124mn_spots_sig_pval\u001b[39m\u001b[38;5;124m\"\u001b[39m]\n\u001b[1;32m---> 77\u001b[0m lr_summary \u001b[38;5;241m=\u001b[39m np\u001b[38;5;241m.\u001b[39mzeros((lr_scores\u001b[38;5;241m.\u001b[39mshape[\u001b[38;5;241m1\u001b[39m], \u001b[38;5;241m3\u001b[39m), \u001b[43mnp\u001b[49m\u001b[38;5;241;43m.\u001b[39;49m\u001b[43mint\u001b[49m)\n\u001b[0;32m     78\u001b[0m pvals \u001b[38;5;241m=\u001b[39m np\u001b[38;5;241m.\u001b[39mones(lr_scores\u001b[38;5;241m.\u001b[39mshape, dtype\u001b[38;5;241m=\u001b[39mnp\u001b[38;5;241m.\u001b[39mfloat64)\n\u001b[0;32m     79\u001b[0m pvals_adj \u001b[38;5;241m=\u001b[39m np\u001b[38;5;241m.\u001b[39mones(lr_scores\u001b[38;5;241m.\u001b[39mshape, dtype\u001b[38;5;241m=\u001b[39mnp\u001b[38;5;241m.\u001b[39mfloat64)\n",
      "File \u001b[1;32mc:\\Users\\rafaelo\\OneDrive - NTNU\\Documents\\Projects\\venv\\lib\\site-packages\\numpy\\__init__.py:319\u001b[0m, in \u001b[0;36m__getattr__\u001b[1;34m(attr)\u001b[0m\n\u001b[0;32m    314\u001b[0m     warnings\u001b[38;5;241m.\u001b[39mwarn(\n\u001b[0;32m    315\u001b[0m         \u001b[38;5;124mf\u001b[39m\u001b[38;5;124m\"\u001b[39m\u001b[38;5;124mIn the future `np.\u001b[39m\u001b[38;5;132;01m{\u001b[39;00mattr\u001b[38;5;132;01m}\u001b[39;00m\u001b[38;5;124m` will be defined as the \u001b[39m\u001b[38;5;124m\"\u001b[39m\n\u001b[0;32m    316\u001b[0m         \u001b[38;5;124m\"\u001b[39m\u001b[38;5;124mcorresponding NumPy scalar.\u001b[39m\u001b[38;5;124m\"\u001b[39m, \u001b[38;5;167;01mFutureWarning\u001b[39;00m, stacklevel\u001b[38;5;241m=\u001b[39m\u001b[38;5;241m2\u001b[39m)\n\u001b[0;32m    318\u001b[0m \u001b[38;5;28;01mif\u001b[39;00m attr \u001b[38;5;129;01min\u001b[39;00m __former_attrs__:\n\u001b[1;32m--> 319\u001b[0m     \u001b[38;5;28;01mraise\u001b[39;00m \u001b[38;5;167;01mAttributeError\u001b[39;00m(__former_attrs__[attr])\n\u001b[0;32m    321\u001b[0m \u001b[38;5;28;01mif\u001b[39;00m attr \u001b[38;5;241m==\u001b[39m \u001b[38;5;124m'\u001b[39m\u001b[38;5;124mtesting\u001b[39m\u001b[38;5;124m'\u001b[39m:\n\u001b[0;32m    322\u001b[0m     \u001b[38;5;28;01mimport\u001b[39;00m \u001b[38;5;21;01mnumpy\u001b[39;00m\u001b[38;5;21;01m.\u001b[39;00m\u001b[38;5;21;01mtesting\u001b[39;00m \u001b[38;5;28;01mas\u001b[39;00m \u001b[38;5;21;01mtesting\u001b[39;00m\n",
      "\u001b[1;31mAttributeError\u001b[0m: module 'numpy' has no attribute 'int'.\n`np.int` was a deprecated alias for the builtin `int`. To avoid this error in existing code, use `int` by itself. Doing this will not modify any behavior and is safe. When replacing `np.int`, you may wish to use e.g. `np.int64` or `np.int32` to specify the precision. If you wish to review your current use, check the release note link for additional information.\nThe aliases was originally deprecated in NumPy 1.20; for more details and guidance see the original release note at:\n    https://numpy.org/devdocs/release/1.20.0-notes.html#deprecations"
     ]
    }
   ],
   "source": [
    "import stlearn as st\n",
    "from loguru import logger\n",
    "import scanpy as sc\n",
    "\n",
    "# st 0.4.12\n",
    "# numpy 1.25.2\n",
    "\n",
    "adata = sc.read_h5ad(r\"C:\\Users\\rafaelo\\OneDrive - NTNU\\Documents\\Projects\\STNav\\test.h5ad\")\n",
    "use_label = \"dominant_spot_cell_type\"\n",
    "\n",
    "adata = st.convert_scanpy(adata)\n",
    "adata.obs[f\"{use_label}\"] = (\n",
    "\tadata.obs[adata.obsm[\"deconvolution\"].columns].idxmax(axis=1).astype(\"category\")\n",
    ")\n",
    "logger.info(\n",
    "\tf\"Running Receptor Ligand Analysis with connectomeDB2020_lit ligand-receptor pairs.\"\n",
    ")\n",
    "lrs = st.tl.cci.load_lrs([\"connectomeDB2020_lit\"], species=\"human\")\n",
    "\n",
    "st.tl.cci.run(\n",
    "\tadata=adata,\n",
    "\tlrs=lrs,\n",
    "\tmin_spots=20,  # Filter out any LR pairs with no scores for less than min_spots\n",
    "\tdistance=None,  # None defaults to spot+immediate neighbours; distance=0 for within-spot mode\n",
    "\tn_pairs=100,  # Number of random pairs to generate; low as example, recommend ~10,000\n",
    "\tn_cpus=None,  # Number of CPUs for parallel. If None, detects & use all available.\n",
    "\tverbose=True,\n",
    ")"
   ]
  },
  {
   "cell_type": "code",
   "execution_count": null,
   "metadata": {},
   "outputs": [],
   "source": []
  }
 ],
 "metadata": {
  "kernelspec": {
   "display_name": "venv",
   "language": "python",
   "name": "python3"
  },
  "language_info": {
   "codemirror_mode": {
    "name": "ipython",
    "version": 3
   },
   "file_extension": ".py",
   "mimetype": "text/x-python",
   "name": "python",
   "nbconvert_exporter": "python",
   "pygments_lexer": "ipython3",
   "version": "3.10.2"
  }
 },
 "nbformat": 4,
 "nbformat_minor": 2
}
